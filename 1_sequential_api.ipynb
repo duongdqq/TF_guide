{
  "nbformat": 4,
  "nbformat_minor": 0,
  "metadata": {
    "colab": {
      "name": "1_sequential_api.ipynb",
      "provenance": [],
      "collapsed_sections": [
        "iGDrtPCFGRxt",
        "avls_wZ2GZiy"
      ],
      "authorship_tag": "ABX9TyMMgUQWIQ4CpskXyB5AuS3e",
      "include_colab_link": true
    },
    "kernelspec": {
      "name": "python3",
      "display_name": "Python 3"
    },
    "accelerator": "GPU"
  },
  "cells": [
    {
      "cell_type": "markdown",
      "metadata": {
        "id": "view-in-github",
        "colab_type": "text"
      },
      "source": [
        "<a href=\"https://colab.research.google.com/github/duongdqq/TF_guide/blob/master/1_sequential_api.ipynb\" target=\"_parent\"><img src=\"https://colab.research.google.com/assets/colab-badge.svg\" alt=\"Open In Colab\"/></a>"
      ]
    },
    {
      "cell_type": "code",
      "metadata": {
        "id": "vxqLQ-EM9Hdq",
        "colab_type": "code",
        "colab": {}
      },
      "source": [
        "import tensorflow as tf \n",
        "from tensorflow import keras\n",
        "from tensorflow.keras import layers"
      ],
      "execution_count": null,
      "outputs": []
    },
    {
      "cell_type": "markdown",
      "metadata": {
        "id": "fVVn7nhdGMm7",
        "colab_type": "text"
      },
      "source": [
        "## When to use a Sequential model"
      ]
    },
    {
      "cell_type": "markdown",
      "metadata": {
        "id": "lrD76Pggp0WL",
        "colab_type": "text"
      },
      "source": [
        "1st solution"
      ]
    },
    {
      "cell_type": "code",
      "metadata": {
        "id": "DBVskIVvNXsW",
        "colab_type": "code",
        "colab": {}
      },
      "source": [
        "model = tf.keras.models.Sequential(\n",
        "    [\n",
        "     tf.keras.layers.Dense(2, activation='relu', name='layer1'),\n",
        "     tf.keras.layers.Dense(3, activation='relu', name='layer2'),\n",
        "     tf.keras.layers.Dense(4, name='layer3')\n",
        "    ]\n",
        ")\n",
        "\n",
        "x = tf.ones((3, 3))\n",
        "y = model(x)"
      ],
      "execution_count": null,
      "outputs": []
    },
    {
      "cell_type": "code",
      "metadata": {
        "id": "NGREHDPieIUo",
        "colab_type": "code",
        "colab": {
          "base_uri": "https://localhost:8080/",
          "height": 221
        },
        "outputId": "065f336e-956e-4d5c-ee5c-b770f1c1365d"
      },
      "source": [
        "model.get_weights()"
      ],
      "execution_count": null,
      "outputs": [
        {
          "output_type": "execute_result",
          "data": {
            "text/plain": [
              "[array([[ 0.97940135,  0.3063892 ],\n",
              "        [-0.6929993 , -0.57991654],\n",
              "        [-0.41544998,  0.51891065]], dtype=float32),\n",
              " array([0., 0.], dtype=float32),\n",
              " array([[ 0.89272285, -0.68153346,  0.4195664 ],\n",
              "        [ 0.56005704,  0.8807472 ,  0.29390073]], dtype=float32),\n",
              " array([0., 0., 0.], dtype=float32),\n",
              " array([[ 0.6894374 , -0.52499425, -0.02250105,  0.6012949 ],\n",
              "        [ 0.5205251 ,  0.43238807, -0.6958186 , -0.052441  ],\n",
              "        [ 0.5812378 , -0.7355262 ,  0.5472218 , -0.49196643]],\n",
              "       dtype=float32),\n",
              " array([0., 0., 0., 0.], dtype=float32)]"
            ]
          },
          "metadata": {
            "tags": []
          },
          "execution_count": 18
        }
      ]
    },
    {
      "cell_type": "code",
      "metadata": {
        "id": "k2XVzph3PBFA",
        "colab_type": "code",
        "colab": {
          "base_uri": "https://localhost:8080/",
          "height": 85
        },
        "outputId": "3af9fdb4-ad71-48a9-bb9e-33e97250fa75"
      },
      "source": [
        "x"
      ],
      "execution_count": null,
      "outputs": [
        {
          "output_type": "execute_result",
          "data": {
            "text/plain": [
              "<tf.Tensor: shape=(3, 3), dtype=float32, numpy=\n",
              "array([[1., 1., 1.],\n",
              "       [1., 1., 1.],\n",
              "       [1., 1., 1.]], dtype=float32)>"
            ]
          },
          "metadata": {
            "tags": []
          },
          "execution_count": 19
        }
      ]
    },
    {
      "cell_type": "code",
      "metadata": {
        "id": "x6p_OphJPGE4",
        "colab_type": "code",
        "colab": {
          "base_uri": "https://localhost:8080/",
          "height": 102
        },
        "outputId": "f0f3d918-a747-457f-8c39-7eb449c54c92"
      },
      "source": [
        "y"
      ],
      "execution_count": null,
      "outputs": [
        {
          "output_type": "execute_result",
          "data": {
            "text/plain": [
              "<tf.Tensor: shape=(3, 4), dtype=float32, numpy=\n",
              "array([[ 0.2491626 , -0.03174618, -0.11400835,  0.03582177],\n",
              "       [ 0.2491626 , -0.03174618, -0.11400835,  0.03582177],\n",
              "       [ 0.2491626 , -0.03174618, -0.11400835,  0.03582177]],\n",
              "      dtype=float32)>"
            ]
          },
          "metadata": {
            "tags": []
          },
          "execution_count": 20
        }
      ]
    },
    {
      "cell_type": "markdown",
      "metadata": {
        "id": "SS-Ckk6Mln2A",
        "colab_type": "text"
      },
      "source": [
        "2nd solution"
      ]
    },
    {
      "cell_type": "code",
      "metadata": {
        "id": "B43h3RcclmA-",
        "colab_type": "code",
        "colab": {}
      },
      "source": [
        "layer1 = tf.keras.layers.Dense(2, activation='relu', name='layer1')\n",
        "layer2 = tf.keras.layers.Dense(3, activation='relu', name='layer2')\n",
        "layer3 = tf.keras.layers.Dense(4, name='layer3')"
      ],
      "execution_count": null,
      "outputs": []
    },
    {
      "cell_type": "code",
      "metadata": {
        "id": "w8oLsHRhll_U",
        "colab_type": "code",
        "colab": {}
      },
      "source": [
        "x = tf.ones((3, 3))\n",
        "y = layer3(layer2(layer1(x)))"
      ],
      "execution_count": null,
      "outputs": []
    },
    {
      "cell_type": "code",
      "metadata": {
        "id": "HphD2BH3mxtv",
        "colab_type": "code",
        "colab": {
          "base_uri": "https://localhost:8080/",
          "height": 85
        },
        "outputId": "1a573a71-c7bc-470a-c379-7bf9ae19b708"
      },
      "source": [
        "x"
      ],
      "execution_count": null,
      "outputs": [
        {
          "output_type": "execute_result",
          "data": {
            "text/plain": [
              "<tf.Tensor: shape=(3, 3), dtype=float32, numpy=\n",
              "array([[1., 1., 1.],\n",
              "       [1., 1., 1.],\n",
              "       [1., 1., 1.]], dtype=float32)>"
            ]
          },
          "metadata": {
            "tags": []
          },
          "execution_count": 27
        }
      ]
    },
    {
      "cell_type": "code",
      "metadata": {
        "id": "1yrRtvBNmyMt",
        "colab_type": "code",
        "colab": {
          "base_uri": "https://localhost:8080/",
          "height": 102
        },
        "outputId": "1cd24795-827c-4a68-d02c-b418e586d6ff"
      },
      "source": [
        "y"
      ],
      "execution_count": null,
      "outputs": [
        {
          "output_type": "execute_result",
          "data": {
            "text/plain": [
              "<tf.Tensor: shape=(3, 4), dtype=float32, numpy=\n",
              "array([[-1.1452495 , -0.20503402,  0.2149037 , -0.2870614 ],\n",
              "       [-1.1452495 , -0.20503402,  0.2149037 , -0.2870614 ],\n",
              "       [-1.1452495 , -0.20503402,  0.2149037 , -0.2870614 ]],\n",
              "      dtype=float32)>"
            ]
          },
          "metadata": {
            "tags": []
          },
          "execution_count": 28
        }
      ]
    },
    {
      "cell_type": "markdown",
      "metadata": {
        "id": "WHiGQhB_GOLd",
        "colab_type": "text"
      },
      "source": [
        "# Creating a Sequential model"
      ]
    },
    {
      "cell_type": "markdown",
      "metadata": {
        "id": "r_nKinhGoZoc",
        "colab_type": "text"
      },
      "source": [
        "1st solution"
      ]
    },
    {
      "cell_type": "code",
      "metadata": {
        "id": "1yS7cN3goe5J",
        "colab_type": "code",
        "colab": {}
      },
      "source": [
        "model = tf.keras.models.Sequential(\n",
        "    [\n",
        "     tf.keras.layers.Dense(2, activation='relu'),\n",
        "     tf.keras.layers.Dense(3, activation='relu'),\n",
        "     tf.keras.layers.Dense(4)\n",
        "    ]\n",
        ")"
      ],
      "execution_count": null,
      "outputs": []
    },
    {
      "cell_type": "code",
      "metadata": {
        "id": "BV_ro-sroxmo",
        "colab_type": "code",
        "colab": {
          "base_uri": "https://localhost:8080/",
          "height": 68
        },
        "outputId": "70ebb8b3-f555-42f9-9043-a3131344008a"
      },
      "source": [
        "model.layers"
      ],
      "execution_count": null,
      "outputs": [
        {
          "output_type": "execute_result",
          "data": {
            "text/plain": [
              "[<tensorflow.python.keras.layers.core.Dense at 0x7fcbc748d3c8>,\n",
              " <tensorflow.python.keras.layers.core.Dense at 0x7fcbc62c0d30>,\n",
              " <tensorflow.python.keras.layers.core.Dense at 0x7fcbc735bf98>]"
            ]
          },
          "metadata": {
            "tags": []
          },
          "execution_count": 32
        }
      ]
    },
    {
      "cell_type": "markdown",
      "metadata": {
        "id": "etakE68vo3oz",
        "colab_type": "text"
      },
      "source": [
        "2nd solution"
      ]
    },
    {
      "cell_type": "code",
      "metadata": {
        "id": "EFt3PxPJo5jO",
        "colab_type": "code",
        "colab": {
          "base_uri": "https://localhost:8080/",
          "height": 68
        },
        "outputId": "00da85ab-33cf-4d5d-9cd6-18fda643f405"
      },
      "source": [
        "model = tf.keras.models.Sequential()\n",
        "model.add(tf.keras.layers.Dense(2, 'relu'))\n",
        "model.add(tf.keras.layers.Dense(3, 'relu'))\n",
        "model.add(tf.keras.layers.Dense(4))\n",
        "model.layers"
      ],
      "execution_count": null,
      "outputs": [
        {
          "output_type": "execute_result",
          "data": {
            "text/plain": [
              "[<tensorflow.python.keras.layers.core.Dense at 0x7fcbc612deb8>,\n",
              " <tensorflow.python.keras.layers.core.Dense at 0x7fcbc60ec0b8>,\n",
              " <tensorflow.python.keras.layers.core.Dense at 0x7fcbc60d29e8>]"
            ]
          },
          "metadata": {
            "tags": []
          },
          "execution_count": 110
        }
      ]
    },
    {
      "cell_type": "markdown",
      "metadata": {
        "id": "AvhggE99pZ0g",
        "colab_type": "text"
      },
      "source": [
        "use pop() to remove the last layer"
      ]
    },
    {
      "cell_type": "code",
      "metadata": {
        "id": "7P9iDHlZpX_f",
        "colab_type": "code",
        "colab": {
          "base_uri": "https://localhost:8080/",
          "height": 51
        },
        "outputId": "77d9f035-78af-491c-e7c6-4b3eb48b8cf0"
      },
      "source": [
        "model.pop()\n",
        "model.layers"
      ],
      "execution_count": null,
      "outputs": [
        {
          "output_type": "execute_result",
          "data": {
            "text/plain": [
              "[<tensorflow.python.keras.layers.core.Dense at 0x7fcbc612deb8>,\n",
              " <tensorflow.python.keras.layers.core.Dense at 0x7fcbc60ec0b8>]"
            ]
          },
          "metadata": {
            "tags": []
          },
          "execution_count": 111
        }
      ]
    },
    {
      "cell_type": "code",
      "metadata": {
        "id": "KNGMztPnq2J1",
        "colab_type": "code",
        "colab": {
          "base_uri": "https://localhost:8080/",
          "height": 34
        },
        "outputId": "5407be7c-ea58-456c-94a0-0861386f4eee"
      },
      "source": [
        "len(model.layers)"
      ],
      "execution_count": null,
      "outputs": [
        {
          "output_type": "execute_result",
          "data": {
            "text/plain": [
              "2"
            ]
          },
          "metadata": {
            "tags": []
          },
          "execution_count": 112
        }
      ]
    },
    {
      "cell_type": "code",
      "metadata": {
        "id": "6_feuHThp-Pu",
        "colab_type": "code",
        "colab": {}
      },
      "source": [
        "x = tf.ones((7, 3))\n",
        "y = model(x)"
      ],
      "execution_count": null,
      "outputs": []
    },
    {
      "cell_type": "code",
      "metadata": {
        "id": "EFZ8PKRkpm1v",
        "colab_type": "code",
        "colab": {
          "base_uri": "https://localhost:8080/",
          "height": 136
        },
        "outputId": "ee8991dc-4510-4a8e-d8d9-4545053beeb9"
      },
      "source": [
        "model.get_weights()"
      ],
      "execution_count": null,
      "outputs": [
        {
          "output_type": "execute_result",
          "data": {
            "text/plain": [
              "[array([[-0.23019892,  0.89788675],\n",
              "        [ 0.13643837, -0.63621503],\n",
              "        [-0.31737816,  0.20696044]], dtype=float32),\n",
              " array([0., 0.], dtype=float32),\n",
              " array([[ 0.3184811 , -0.55060464,  0.5976082 ],\n",
              "        [-0.35282922,  0.57750165,  0.46742558]], dtype=float32),\n",
              " array([0., 0., 0.], dtype=float32)]"
            ]
          },
          "metadata": {
            "tags": []
          },
          "execution_count": 114
        }
      ]
    },
    {
      "cell_type": "code",
      "metadata": {
        "id": "sKYLu7LR0JQT",
        "colab_type": "code",
        "colab": {
          "base_uri": "https://localhost:8080/",
          "height": 190
        },
        "outputId": "ee46972c-5e88-4f0d-8cff-084f6be2a225"
      },
      "source": [
        "model.weights"
      ],
      "execution_count": null,
      "outputs": [
        {
          "output_type": "execute_result",
          "data": {
            "text/plain": [
              "[<tf.Variable 'sequential_21/dense_30/kernel:0' shape=(3, 2) dtype=float32, numpy=\n",
              " array([[-0.23019892,  0.89788675],\n",
              "        [ 0.13643837, -0.63621503],\n",
              "        [-0.31737816,  0.20696044]], dtype=float32)>,\n",
              " <tf.Variable 'sequential_21/dense_30/bias:0' shape=(2,) dtype=float32, numpy=array([0., 0.], dtype=float32)>,\n",
              " <tf.Variable 'sequential_21/dense_31/kernel:0' shape=(2, 3) dtype=float32, numpy=\n",
              " array([[ 0.3184811 , -0.55060464,  0.5976082 ],\n",
              "        [-0.35282922,  0.57750165,  0.46742558]], dtype=float32)>,\n",
              " <tf.Variable 'sequential_21/dense_31/bias:0' shape=(3,) dtype=float32, numpy=array([0., 0., 0.], dtype=float32)>]"
            ]
          },
          "metadata": {
            "tags": []
          },
          "execution_count": 115
        }
      ]
    },
    {
      "cell_type": "markdown",
      "metadata": {
        "id": "doAppKgOq5uV",
        "colab_type": "text"
      },
      "source": [
        "name argument to name a layer. This is for TensorBoard"
      ]
    },
    {
      "cell_type": "code",
      "metadata": {
        "id": "He9tb5EDrB1Y",
        "colab_type": "code",
        "colab": {}
      },
      "source": [
        "model = keras.Sequential(name=\"my_sequential\")\n",
        "model.add(layers.Dense(2, activation=\"relu\", name=\"layer1\"))\n",
        "model.add(layers.Dense(3, activation=\"relu\", name=\"layer2\"))\n",
        "model.add(layers.Dense(4, name=\"layer3\"))"
      ],
      "execution_count": null,
      "outputs": []
    },
    {
      "cell_type": "markdown",
      "metadata": {
        "id": "iGDrtPCFGRxt",
        "colab_type": "text"
      },
      "source": [
        "## Specifying the input shape in advance"
      ]
    },
    {
      "cell_type": "markdown",
      "metadata": {
        "id": "Ms-vePeer_Ql",
        "colab_type": "text"
      },
      "source": [
        "* any layer needs to know the input shape to create weight\n",
        "* when we do not initialize the input shape, the layer has no weights"
      ]
    },
    {
      "cell_type": "code",
      "metadata": {
        "id": "E0w02_ixsR0C",
        "colab_type": "code",
        "colab": {
          "base_uri": "https://localhost:8080/",
          "height": 34
        },
        "outputId": "81895f19-804b-4520-c33d-55113097e108"
      },
      "source": [
        "# from here I do not use tf.keras.layers.*** anymore\n",
        "layer = layers.Dense(3, input_shape=(1,))\n",
        "layer.weights"
      ],
      "execution_count": null,
      "outputs": [
        {
          "output_type": "execute_result",
          "data": {
            "text/plain": [
              "[]"
            ]
          },
          "metadata": {
            "tags": []
          },
          "execution_count": 106
        }
      ]
    },
    {
      "cell_type": "markdown",
      "metadata": {
        "id": "UjG1dIMMt90X",
        "colab_type": "text"
      },
      "source": [
        "* size of weight is equivalent to the number of column of input shape"
      ]
    },
    {
      "cell_type": "code",
      "metadata": {
        "id": "eNYOpWBeuhae",
        "colab_type": "code",
        "colab": {
          "base_uri": "https://localhost:8080/",
          "height": 139
        },
        "outputId": "022645ea-995b-42a5-9567-5596a447e4c6"
      },
      "source": [
        "x = tf.ones((1, 4))\n",
        "y = layer(x)\n",
        "layer.weights"
      ],
      "execution_count": null,
      "outputs": [
        {
          "output_type": "execute_result",
          "data": {
            "text/plain": [
              "[<tf.Variable 'dense_29/kernel:0' shape=(4, 3) dtype=float32, numpy=\n",
              " array([[-0.7598375 ,  0.42093265, -0.43834162],\n",
              "        [-0.39984542,  0.33802915, -0.27634346],\n",
              "        [ 0.26255095, -0.6277422 , -0.697833  ],\n",
              "        [-0.1535163 ,  0.11154997,  0.29973853]], dtype=float32)>,\n",
              " <tf.Variable 'dense_29/bias:0' shape=(3,) dtype=float32, numpy=array([0., 0., 0.], dtype=float32)>]"
            ]
          },
          "metadata": {
            "tags": []
          },
          "execution_count": 108
        }
      ]
    },
    {
      "cell_type": "markdown",
      "metadata": {
        "id": "eZAWMXuKzxFJ",
        "colab_type": "text"
      },
      "source": [
        "* apply to Sequential model\n",
        "* if we do not initialize the input, model isnt built. When calling model.weights"
      ]
    },
    {
      "cell_type": "code",
      "metadata": {
        "id": "UNkqQJgH0hnn",
        "colab_type": "code",
        "colab": {}
      },
      "source": [
        "# model = tf.keras.models.Sequential()\n",
        "model = keras.Sequential(\n",
        "    [\n",
        "     layers.Dense(2, 'relu'),\n",
        "     layers.Dense(3, 'relu'),\n",
        "     layers.Dense(4)\n",
        "    ]\n",
        ")\n",
        "x = tf.ones((3, 9))\n",
        "y = model(x)"
      ],
      "execution_count": null,
      "outputs": []
    },
    {
      "cell_type": "code",
      "metadata": {
        "id": "b39VK1oZ1PrK",
        "colab_type": "code",
        "colab": {
          "base_uri": "https://localhost:8080/",
          "height": 394
        },
        "outputId": "5fd273d8-72b9-433d-ad0b-e5c048818609"
      },
      "source": [
        "model.weights"
      ],
      "execution_count": null,
      "outputs": [
        {
          "output_type": "execute_result",
          "data": {
            "text/plain": [
              "[<tf.Variable 'sequential_23/dense_36/kernel:0' shape=(9, 2) dtype=float32, numpy=\n",
              " array([[-0.27617458,  0.40747005],\n",
              "        [-0.40547305,  0.444977  ],\n",
              "        [ 0.37908977, -0.24590364],\n",
              "        [-0.49413425, -0.17516285],\n",
              "        [-0.51124763, -0.16528213],\n",
              "        [ 0.38304955,  0.06321055],\n",
              "        [ 0.65624636, -0.14557976],\n",
              "        [ 0.06252664, -0.73115975],\n",
              "        [-0.29463923, -0.1790272 ]], dtype=float32)>,\n",
              " <tf.Variable 'sequential_23/dense_36/bias:0' shape=(2,) dtype=float32, numpy=array([0., 0.], dtype=float32)>,\n",
              " <tf.Variable 'sequential_23/dense_37/kernel:0' shape=(2, 3) dtype=float32, numpy=\n",
              " array([[-0.2059794 , -1.036982  ,  0.22377431],\n",
              "        [-1.0271919 ,  0.9168682 , -0.6118772 ]], dtype=float32)>,\n",
              " <tf.Variable 'sequential_23/dense_37/bias:0' shape=(3,) dtype=float32, numpy=array([0., 0., 0.], dtype=float32)>,\n",
              " <tf.Variable 'sequential_23/dense_38/kernel:0' shape=(3, 4) dtype=float32, numpy=\n",
              " array([[-0.49810433,  0.07568264,  0.6114681 , -0.02850169],\n",
              "        [-0.7123151 ,  0.3277638 ,  0.9045944 , -0.6627083 ],\n",
              "        [ 0.7668208 ,  0.49490285, -0.5676731 ,  0.2951033 ]],\n",
              "       dtype=float32)>,\n",
              " <tf.Variable 'sequential_23/dense_38/bias:0' shape=(4,) dtype=float32, numpy=array([0., 0., 0., 0.], dtype=float32)>]"
            ]
          },
          "metadata": {
            "tags": []
          },
          "execution_count": 118
        }
      ]
    },
    {
      "cell_type": "code",
      "metadata": {
        "id": "YtXA4qwH1S3d",
        "colab_type": "code",
        "colab": {
          "base_uri": "https://localhost:8080/",
          "height": 34
        },
        "outputId": "8f8de481-5241-47aa-f2e1-557d747df938"
      },
      "source": [
        "len(model.weights)"
      ],
      "execution_count": null,
      "outputs": [
        {
          "output_type": "execute_result",
          "data": {
            "text/plain": [
              "6"
            ]
          },
          "metadata": {
            "tags": []
          },
          "execution_count": 119
        }
      ]
    },
    {
      "cell_type": "markdown",
      "metadata": {
        "id": "IS7G6Y8t1YSI",
        "colab_type": "text"
      },
      "source": [
        "* after model is built successfully. We can call summary()"
      ]
    },
    {
      "cell_type": "code",
      "metadata": {
        "id": "7bDzrmwy1ok7",
        "colab_type": "code",
        "colab": {
          "base_uri": "https://localhost:8080/",
          "height": 255
        },
        "outputId": "be7b21a6-6eb2-4fa7-bac4-65210cc02d03"
      },
      "source": [
        "model.summary()"
      ],
      "execution_count": null,
      "outputs": [
        {
          "output_type": "stream",
          "text": [
            "Model: \"sequential_23\"\n",
            "_________________________________________________________________\n",
            "Layer (type)                 Output Shape              Param #   \n",
            "=================================================================\n",
            "dense_36 (Dense)             multiple                  20        \n",
            "_________________________________________________________________\n",
            "dense_37 (Dense)             multiple                  9         \n",
            "_________________________________________________________________\n",
            "dense_38 (Dense)             multiple                  16        \n",
            "=================================================================\n",
            "Total params: 45\n",
            "Trainable params: 45\n",
            "Non-trainable params: 0\n",
            "_________________________________________________________________\n"
          ],
          "name": "stdout"
        }
      ]
    },
    {
      "cell_type": "markdown",
      "metadata": {
        "id": "v5Eh5lU62F6p",
        "colab_type": "text"
      },
      "source": [
        "* should build model incrementally"
      ]
    },
    {
      "cell_type": "code",
      "metadata": {
        "id": "gSV3Bjri2MGb",
        "colab_type": "code",
        "colab": {
          "base_uri": "https://localhost:8080/",
          "height": 187
        },
        "outputId": "376d500f-9fcf-4a07-91df-f185f368d0ca"
      },
      "source": [
        "model = keras.Sequential()\n",
        "model.add(keras.Input(shape=(4,)))\n",
        "model.add(layers.Dense(2, 'relu'))\n",
        "model.summary()"
      ],
      "execution_count": null,
      "outputs": [
        {
          "output_type": "stream",
          "text": [
            "Model: \"sequential_25\"\n",
            "_________________________________________________________________\n",
            "Layer (type)                 Output Shape              Param #   \n",
            "=================================================================\n",
            "dense_40 (Dense)             (None, 2)                 10        \n",
            "=================================================================\n",
            "Total params: 10\n",
            "Trainable params: 10\n",
            "Non-trainable params: 0\n",
            "_________________________________________________________________\n"
          ],
          "name": "stdout"
        }
      ]
    },
    {
      "cell_type": "markdown",
      "metadata": {
        "id": "oPr3Kb2F2cVO",
        "colab_type": "text"
      },
      "source": [
        "* keras.Input isnt a layer"
      ]
    },
    {
      "cell_type": "code",
      "metadata": {
        "id": "YKA3zF0_2gdc",
        "colab_type": "code",
        "colab": {
          "base_uri": "https://localhost:8080/",
          "height": 34
        },
        "outputId": "f02803b4-d73c-4092-c05b-e83d95cc6a54"
      },
      "source": [
        "model.layers"
      ],
      "execution_count": null,
      "outputs": [
        {
          "output_type": "execute_result",
          "data": {
            "text/plain": [
              "[<tensorflow.python.keras.layers.core.Dense at 0x7fcbc60b2cc0>]"
            ]
          },
          "metadata": {
            "tags": []
          },
          "execution_count": 125
        }
      ]
    },
    {
      "cell_type": "markdown",
      "metadata": {
        "id": "k1_UMuMq2lEA",
        "colab_type": "text"
      },
      "source": [
        "* alternative solution to create an input shape"
      ]
    },
    {
      "cell_type": "code",
      "metadata": {
        "id": "lrtHUtc92riJ",
        "colab_type": "code",
        "colab": {
          "base_uri": "https://localhost:8080/",
          "height": 187
        },
        "outputId": "572b04a7-971a-4f8f-99ce-0a278e7ba34d"
      },
      "source": [
        "model = keras.Sequential()\n",
        "model.add(layers.Dense(2, 'relu', input_shape=(4,)))\n",
        "model.summary()"
      ],
      "execution_count": null,
      "outputs": [
        {
          "output_type": "stream",
          "text": [
            "Model: \"sequential_26\"\n",
            "_________________________________________________________________\n",
            "Layer (type)                 Output Shape              Param #   \n",
            "=================================================================\n",
            "dense_41 (Dense)             (None, 2)                 10        \n",
            "=================================================================\n",
            "Total params: 10\n",
            "Trainable params: 10\n",
            "Non-trainable params: 0\n",
            "_________________________________________________________________\n"
          ],
          "name": "stdout"
        }
      ]
    },
    {
      "cell_type": "code",
      "metadata": {
        "id": "kV7LuNwD3ISH",
        "colab_type": "code",
        "colab": {
          "base_uri": "https://localhost:8080/",
          "height": 139
        },
        "outputId": "1fd9aa8d-7fad-4a4a-a676-0cab048f98ef"
      },
      "source": [
        "model.weights"
      ],
      "execution_count": null,
      "outputs": [
        {
          "output_type": "execute_result",
          "data": {
            "text/plain": [
              "[<tf.Variable 'dense_41/kernel:0' shape=(4, 2) dtype=float32, numpy=\n",
              " array([[-0.04748654, -0.25944352],\n",
              "        [ 0.11995029, -0.8951616 ],\n",
              "        [-0.95233417, -0.8552592 ],\n",
              "        [-0.16530395,  0.24956846]], dtype=float32)>,\n",
              " <tf.Variable 'dense_41/bias:0' shape=(2,) dtype=float32, numpy=array([0., 0.], dtype=float32)>]"
            ]
          },
          "metadata": {
            "tags": []
          },
          "execution_count": 127
        }
      ]
    },
    {
      "cell_type": "markdown",
      "metadata": {
        "id": "avls_wZ2GZiy",
        "colab_type": "text"
      },
      "source": [
        "## A common debugging workflow: add() + summary()"
      ]
    },
    {
      "cell_type": "code",
      "metadata": {
        "id": "f_wpfpsJGvyD",
        "colab_type": "code",
        "colab": {
          "base_uri": "https://localhost:8080/",
          "height": 255
        },
        "outputId": "29e4cef1-8579-40ef-ca61-c63c69163d69"
      },
      "source": [
        "model = keras.Sequential()\n",
        "model.add(keras.Input(shape=(250, 250, 3)))\n",
        "model.add(layers.Conv2D(32, 5, strides=2, activation='relu'))\n",
        "model.add(layers.Conv2D(32, 3, activation='relu'))\n",
        "model.add(layers.MaxPooling2D(strides=3))\n",
        "\n",
        "model.summary()"
      ],
      "execution_count": null,
      "outputs": [
        {
          "output_type": "stream",
          "text": [
            "Model: \"sequential_10\"\n",
            "_________________________________________________________________\n",
            "Layer (type)                 Output Shape              Param #   \n",
            "=================================================================\n",
            "conv2d_27 (Conv2D)           (None, 123, 123, 32)      2432      \n",
            "_________________________________________________________________\n",
            "conv2d_28 (Conv2D)           (None, 121, 121, 32)      9248      \n",
            "_________________________________________________________________\n",
            "max_pooling2d_9 (MaxPooling2 (None, 40, 40, 32)        0         \n",
            "=================================================================\n",
            "Total params: 11,680\n",
            "Trainable params: 11,680\n",
            "Non-trainable params: 0\n",
            "_________________________________________________________________\n"
          ],
          "name": "stdout"
        }
      ]
    },
    {
      "cell_type": "code",
      "metadata": {
        "id": "-UmhtGgqLorT",
        "colab_type": "code",
        "colab": {
          "base_uri": "https://localhost:8080/",
          "height": 459
        },
        "outputId": "14993273-4e25-43c3-bfba-ef979f16a230"
      },
      "source": [
        "model.add(layers.Conv2D(32, 3, activation='relu'))\n",
        "model.add(layers.Conv2D(32, 3, activation='relu'))\n",
        "model.add(layers.MaxPooling2D(3))\n",
        "model.add(layers.Conv2D(32, 3, activation='relu'))\n",
        "model.add(layers.Conv2D(32, 3, activation='relu'))\n",
        "model.add(layers.MaxPooling2D(2))\n",
        "\n",
        "model.summary()"
      ],
      "execution_count": null,
      "outputs": [
        {
          "output_type": "stream",
          "text": [
            "Model: \"sequential_10\"\n",
            "_________________________________________________________________\n",
            "Layer (type)                 Output Shape              Param #   \n",
            "=================================================================\n",
            "conv2d_27 (Conv2D)           (None, 123, 123, 32)      2432      \n",
            "_________________________________________________________________\n",
            "conv2d_28 (Conv2D)           (None, 121, 121, 32)      9248      \n",
            "_________________________________________________________________\n",
            "max_pooling2d_9 (MaxPooling2 (None, 40, 40, 32)        0         \n",
            "_________________________________________________________________\n",
            "conv2d_29 (Conv2D)           (None, 38, 38, 32)        9248      \n",
            "_________________________________________________________________\n",
            "conv2d_30 (Conv2D)           (None, 36, 36, 32)        9248      \n",
            "_________________________________________________________________\n",
            "max_pooling2d_10 (MaxPooling (None, 12, 12, 32)        0         \n",
            "_________________________________________________________________\n",
            "conv2d_31 (Conv2D)           (None, 10, 10, 32)        9248      \n",
            "_________________________________________________________________\n",
            "conv2d_32 (Conv2D)           (None, 8, 8, 32)          9248      \n",
            "_________________________________________________________________\n",
            "max_pooling2d_11 (MaxPooling (None, 4, 4, 32)          0         \n",
            "=================================================================\n",
            "Total params: 48,672\n",
            "Trainable params: 48,672\n",
            "Non-trainable params: 0\n",
            "_________________________________________________________________\n"
          ],
          "name": "stdout"
        }
      ]
    },
    {
      "cell_type": "code",
      "metadata": {
        "id": "LyvsqvmnNVZ3",
        "colab_type": "code",
        "colab": {
          "base_uri": "https://localhost:8080/",
          "height": 527
        },
        "outputId": "b9775302-c706-42dd-d303-455efb2a25c6"
      },
      "source": [
        "model.add(layers.GlobalMaxPooling2D())\n",
        "# add a classification layer\n",
        "model.add(layers.Dense(10))\n",
        "\n",
        "model.summary()"
      ],
      "execution_count": null,
      "outputs": [
        {
          "output_type": "stream",
          "text": [
            "Model: \"sequential_10\"\n",
            "_________________________________________________________________\n",
            "Layer (type)                 Output Shape              Param #   \n",
            "=================================================================\n",
            "conv2d_27 (Conv2D)           (None, 123, 123, 32)      2432      \n",
            "_________________________________________________________________\n",
            "conv2d_28 (Conv2D)           (None, 121, 121, 32)      9248      \n",
            "_________________________________________________________________\n",
            "max_pooling2d_9 (MaxPooling2 (None, 40, 40, 32)        0         \n",
            "_________________________________________________________________\n",
            "conv2d_29 (Conv2D)           (None, 38, 38, 32)        9248      \n",
            "_________________________________________________________________\n",
            "conv2d_30 (Conv2D)           (None, 36, 36, 32)        9248      \n",
            "_________________________________________________________________\n",
            "max_pooling2d_10 (MaxPooling (None, 12, 12, 32)        0         \n",
            "_________________________________________________________________\n",
            "conv2d_31 (Conv2D)           (None, 10, 10, 32)        9248      \n",
            "_________________________________________________________________\n",
            "conv2d_32 (Conv2D)           (None, 8, 8, 32)          9248      \n",
            "_________________________________________________________________\n",
            "max_pooling2d_11 (MaxPooling (None, 4, 4, 32)          0         \n",
            "_________________________________________________________________\n",
            "global_max_pooling2d_4 (Glob (None, 32)                0         \n",
            "_________________________________________________________________\n",
            "dense_1 (Dense)              (None, 10)                330       \n",
            "=================================================================\n",
            "Total params: 49,002\n",
            "Trainable params: 49,002\n",
            "Non-trainable params: 0\n",
            "_________________________________________________________________\n"
          ],
          "name": "stdout"
        }
      ]
    },
    {
      "cell_type": "markdown",
      "metadata": {
        "id": "wgwAy2-GGeeR",
        "colab_type": "text"
      },
      "source": [
        "## Feature extraction with a Sequential model"
      ]
    },
    {
      "cell_type": "markdown",
      "metadata": {
        "id": "L7k-t63rPiPQ",
        "colab_type": "text"
      },
      "source": [
        "* Quickly creating a model that extracts the outputs of all intermediate layers in a Sequential model"
      ]
    },
    {
      "cell_type": "code",
      "metadata": {
        "id": "X5eS9DKJPpYU",
        "colab_type": "code",
        "colab": {}
      },
      "source": [
        "initial_model = keras.Sequential(\n",
        "    [\n",
        "     keras.Input(shape=(250, 250, 3)),\n",
        "     layers.Conv2D(32, 5, strides=2, activation='relu'),\n",
        "     layers.Conv2D(32, 3, activation='relu'),\n",
        "     layers.Conv2D(32, 3, activation='relu'),\n",
        "    ]\n",
        ")\n",
        "feature_extractor = keras.Model(\n",
        "    inputs=initial_model.inputs,\n",
        "    outputs=[layer.output for layer in initial_model.layers]\n",
        ")\n",
        "# Call feature extractor on test input.\n",
        "x = tf.ones((1, 250, 250, 3))\n",
        "features = feature_extractor(x)"
      ],
      "execution_count": null,
      "outputs": []
    },
    {
      "cell_type": "markdown",
      "metadata": {
        "id": "j1wRw2aUJUo-",
        "colab_type": "text"
      },
      "source": [
        "* similar example only extracts features from one layer"
      ]
    },
    {
      "cell_type": "code",
      "metadata": {
        "id": "FmCFqGwJJb6x",
        "colab_type": "code",
        "colab": {}
      },
      "source": [
        "initial_model = keras.Sequential(\n",
        "    [\n",
        "     keras.Input(shape=(250, 250, 3)),\n",
        "     layers.Conv2D(32, 5, strides=2, activation='relu'),\n",
        "     layers.Conv2D(32, 3, activation='relu', name='my_intermediate_layer'),\n",
        "     layers.Conv2D(32, 3, activation='relu')\n",
        "    ]\n",
        ")\n",
        "feature_extractor = keras.Model(\n",
        "    inputs=initial_model.inputs,\n",
        "    outputs=initial_model.get_layer(name='my_intermediate_layer').output\n",
        ")\n",
        "# Call feature extractor on test input.\n",
        "x = tf.ones((1, 250, 250, 3))\n",
        "features = feature_extractor(x)"
      ],
      "execution_count": null,
      "outputs": []
    },
    {
      "cell_type": "markdown",
      "metadata": {
        "id": "wDNd2p96GgMt",
        "colab_type": "text"
      },
      "source": [
        "## Transfer learning with a Sequential model"
      ]
    },
    {
      "cell_type": "markdown",
      "metadata": {
        "id": "SBJePoj5PbJS",
        "colab_type": "text"
      },
      "source": [
        "* For freezing all layers except the last one. \n",
        "* Let's iterate over model.layers and set layer.trainable=False on each layer except the last one"
      ]
    },
    {
      "cell_type": "code",
      "metadata": {
        "id": "IkuwC40MGFC9",
        "colab_type": "code",
        "colab": {
          "base_uri": "https://localhost:8080/",
          "height": 391
        },
        "outputId": "9c1be723-2155-4981-bad0-2a5d8d5c5c6e"
      },
      "source": [
        "model = keras.Sequential([\n",
        "    keras.Input(shape=(784)),\n",
        "    layers.Dense(32, activation='relu'),\n",
        "    layers.Dense(32, activation='relu'),\n",
        "    layers.Dense(32, activation='relu'),\n",
        "    layers.Dense(10),\n",
        "])\n",
        "\n",
        "model.load_weights(...)  # direction of pre trained weight\n",
        "\n",
        "# freeze all layers except the last one\n",
        "for layer in model.layers[:-1]:\n",
        "  layer.trainable = False\n",
        "\n",
        "# recomplie and train \n",
        "# only update the weights of the last layer\n",
        "model.compile(...)\n",
        "model.fit(...)"
      ],
      "execution_count": null,
      "outputs": [
        {
          "output_type": "error",
          "ename": "AttributeError",
          "evalue": "ignored",
          "traceback": [
            "\u001b[0;31m---------------------------------------------------------------------------\u001b[0m",
            "\u001b[0;31mAttributeError\u001b[0m                            Traceback (most recent call last)",
            "\u001b[0;32m<ipython-input-16-96b080453171>\u001b[0m in \u001b[0;36m<module>\u001b[0;34m()\u001b[0m\n\u001b[1;32m      7\u001b[0m ])\n\u001b[1;32m      8\u001b[0m \u001b[0;34m\u001b[0m\u001b[0m\n\u001b[0;32m----> 9\u001b[0;31m \u001b[0mmodel\u001b[0m\u001b[0;34m.\u001b[0m\u001b[0mload_weights\u001b[0m\u001b[0;34m(\u001b[0m\u001b[0;34m...\u001b[0m\u001b[0;34m)\u001b[0m  \u001b[0;31m# direction of pre trained weight\u001b[0m\u001b[0;34m\u001b[0m\u001b[0;34m\u001b[0m\u001b[0m\n\u001b[0m\u001b[1;32m     10\u001b[0m \u001b[0;34m\u001b[0m\u001b[0m\n\u001b[1;32m     11\u001b[0m \u001b[0;31m# freeze all layers except the last one\u001b[0m\u001b[0;34m\u001b[0m\u001b[0;34m\u001b[0m\u001b[0;34m\u001b[0m\u001b[0m\n",
            "\u001b[0;32m/usr/local/lib/python3.6/dist-packages/tensorflow/python/keras/engine/training.py\u001b[0m in \u001b[0;36mload_weights\u001b[0;34m(self, filepath, by_name, skip_mismatch, options)\u001b[0m\n\u001b[1;32m   2170\u001b[0m \u001b[0;34m\u001b[0m\u001b[0m\n\u001b[1;32m   2171\u001b[0m     \u001b[0mfilepath\u001b[0m \u001b[0;34m=\u001b[0m \u001b[0mpath_to_string\u001b[0m\u001b[0;34m(\u001b[0m\u001b[0mfilepath\u001b[0m\u001b[0;34m)\u001b[0m\u001b[0;34m\u001b[0m\u001b[0;34m\u001b[0m\u001b[0m\n\u001b[0;32m-> 2172\u001b[0;31m     \u001b[0;32mif\u001b[0m \u001b[0m_is_hdf5_filepath\u001b[0m\u001b[0;34m(\u001b[0m\u001b[0mfilepath\u001b[0m\u001b[0;34m)\u001b[0m\u001b[0;34m:\u001b[0m\u001b[0;34m\u001b[0m\u001b[0;34m\u001b[0m\u001b[0m\n\u001b[0m\u001b[1;32m   2173\u001b[0m       \u001b[0msave_format\u001b[0m \u001b[0;34m=\u001b[0m \u001b[0;34m'h5'\u001b[0m\u001b[0;34m\u001b[0m\u001b[0;34m\u001b[0m\u001b[0m\n\u001b[1;32m   2174\u001b[0m     \u001b[0;32melse\u001b[0m\u001b[0;34m:\u001b[0m\u001b[0;34m\u001b[0m\u001b[0;34m\u001b[0m\u001b[0m\n",
            "\u001b[0;32m/usr/local/lib/python3.6/dist-packages/tensorflow/python/keras/engine/training.py\u001b[0m in \u001b[0;36m_is_hdf5_filepath\u001b[0;34m(filepath)\u001b[0m\n\u001b[1;32m   2783\u001b[0m \u001b[0;34m\u001b[0m\u001b[0m\n\u001b[1;32m   2784\u001b[0m \u001b[0;32mdef\u001b[0m \u001b[0m_is_hdf5_filepath\u001b[0m\u001b[0;34m(\u001b[0m\u001b[0mfilepath\u001b[0m\u001b[0;34m)\u001b[0m\u001b[0;34m:\u001b[0m\u001b[0;34m\u001b[0m\u001b[0;34m\u001b[0m\u001b[0m\n\u001b[0;32m-> 2785\u001b[0;31m   return (filepath.endswith('.h5') or filepath.endswith('.keras') or\n\u001b[0m\u001b[1;32m   2786\u001b[0m           filepath.endswith('.hdf5'))\n",
            "\u001b[0;31mAttributeError\u001b[0m: 'ellipsis' object has no attribute 'endswith'"
          ]
        }
      ]
    },
    {
      "cell_type": "markdown",
      "metadata": {
        "id": "yxhgh_HTQqTF",
        "colab_type": "text"
      },
      "source": [
        "* 2nd method\n",
        "* stack a pre trained model and some freshly initialized classification layers"
      ]
    },
    {
      "cell_type": "code",
      "metadata": {
        "id": "SFRgfz5eP8N6",
        "colab_type": "code",
        "colab": {
          "base_uri": "https://localhost:8080/",
          "height": 411
        },
        "outputId": "c35934d7-2a74-4fef-839d-fdead058448a"
      },
      "source": [
        "base_model = keras.applications.Xception(\n",
        "    weights='imagenet',\n",
        "    include_top=False,\n",
        "    pooling='avg'\n",
        ")\n",
        "\n",
        "# freeze the base model\n",
        "base_model.trainable = False\n",
        "\n",
        "# add a trainable classifier on top\n",
        "model = keras.Sequential(\n",
        "    [\n",
        "     base_model,\n",
        "     layers.Dense(1000)\n",
        "    ]\n",
        ")\n",
        "\n",
        "# compile and train\n",
        "model.compile(...)\n",
        "model.fit(...)"
      ],
      "execution_count": null,
      "outputs": [
        {
          "output_type": "stream",
          "text": [
            "Downloading data from https://storage.googleapis.com/tensorflow/keras-applications/xception/xception_weights_tf_dim_ordering_tf_kernels_notop.h5\n",
            "83689472/83683744 [==============================] - 0s 0us/step\n"
          ],
          "name": "stdout"
        },
        {
          "output_type": "error",
          "ename": "ValueError",
          "evalue": "ignored",
          "traceback": [
            "\u001b[0;31m---------------------------------------------------------------------------\u001b[0m",
            "\u001b[0;31mValueError\u001b[0m                                Traceback (most recent call last)",
            "\u001b[0;32m<ipython-input-17-63e8123a0321>\u001b[0m in \u001b[0;36m<module>\u001b[0;34m()\u001b[0m\n\u001b[1;32m     17\u001b[0m \u001b[0;34m\u001b[0m\u001b[0m\n\u001b[1;32m     18\u001b[0m \u001b[0;31m# compile and train\u001b[0m\u001b[0;34m\u001b[0m\u001b[0;34m\u001b[0m\u001b[0;34m\u001b[0m\u001b[0m\n\u001b[0;32m---> 19\u001b[0;31m \u001b[0mmodel\u001b[0m\u001b[0;34m.\u001b[0m\u001b[0mcompile\u001b[0m\u001b[0;34m(\u001b[0m\u001b[0;34m...\u001b[0m\u001b[0;34m)\u001b[0m\u001b[0;34m\u001b[0m\u001b[0;34m\u001b[0m\u001b[0m\n\u001b[0m\u001b[1;32m     20\u001b[0m \u001b[0mmodel\u001b[0m\u001b[0;34m.\u001b[0m\u001b[0mfit\u001b[0m\u001b[0;34m(\u001b[0m\u001b[0;34m...\u001b[0m\u001b[0;34m)\u001b[0m\u001b[0;34m\u001b[0m\u001b[0;34m\u001b[0m\u001b[0m\n",
            "\u001b[0;32m/usr/local/lib/python3.6/dist-packages/tensorflow/python/keras/engine/training.py\u001b[0m in \u001b[0;36mcompile\u001b[0;34m(self, optimizer, loss, metrics, loss_weights, weighted_metrics, run_eagerly, **kwargs)\u001b[0m\n\u001b[1;32m    539\u001b[0m       \u001b[0mself\u001b[0m\u001b[0;34m.\u001b[0m\u001b[0m_run_eagerly\u001b[0m \u001b[0;34m=\u001b[0m \u001b[0mrun_eagerly\u001b[0m\u001b[0;34m\u001b[0m\u001b[0;34m\u001b[0m\u001b[0m\n\u001b[1;32m    540\u001b[0m \u001b[0;34m\u001b[0m\u001b[0m\n\u001b[0;32m--> 541\u001b[0;31m       \u001b[0mself\u001b[0m\u001b[0;34m.\u001b[0m\u001b[0moptimizer\u001b[0m \u001b[0;34m=\u001b[0m \u001b[0mself\u001b[0m\u001b[0;34m.\u001b[0m\u001b[0m_get_optimizer\u001b[0m\u001b[0;34m(\u001b[0m\u001b[0moptimizer\u001b[0m\u001b[0;34m)\u001b[0m\u001b[0;34m\u001b[0m\u001b[0;34m\u001b[0m\u001b[0m\n\u001b[0m\u001b[1;32m    542\u001b[0m       self.compiled_loss = compile_utils.LossesContainer(\n\u001b[1;32m    543\u001b[0m           loss, loss_weights, output_names=self.output_names)\n",
            "\u001b[0;32m/usr/local/lib/python3.6/dist-packages/tensorflow/python/keras/engine/training.py\u001b[0m in \u001b[0;36m_get_optimizer\u001b[0;34m(self, optimizer)\u001b[0m\n\u001b[1;32m    565\u001b[0m       \u001b[0;32mreturn\u001b[0m \u001b[0mopt\u001b[0m\u001b[0;34m\u001b[0m\u001b[0;34m\u001b[0m\u001b[0m\n\u001b[1;32m    566\u001b[0m \u001b[0;34m\u001b[0m\u001b[0m\n\u001b[0;32m--> 567\u001b[0;31m     \u001b[0;32mreturn\u001b[0m \u001b[0mnest\u001b[0m\u001b[0;34m.\u001b[0m\u001b[0mmap_structure\u001b[0m\u001b[0;34m(\u001b[0m\u001b[0m_get_single_optimizer\u001b[0m\u001b[0;34m,\u001b[0m \u001b[0moptimizer\u001b[0m\u001b[0;34m)\u001b[0m\u001b[0;34m\u001b[0m\u001b[0;34m\u001b[0m\u001b[0m\n\u001b[0m\u001b[1;32m    568\u001b[0m \u001b[0;34m\u001b[0m\u001b[0m\n\u001b[1;32m    569\u001b[0m   \u001b[0;34m@\u001b[0m\u001b[0mtrackable\u001b[0m\u001b[0;34m.\u001b[0m\u001b[0mno_automatic_dependency_tracking\u001b[0m\u001b[0;34m\u001b[0m\u001b[0;34m\u001b[0m\u001b[0m\n",
            "\u001b[0;32m/usr/local/lib/python3.6/dist-packages/tensorflow/python/util/nest.py\u001b[0m in \u001b[0;36mmap_structure\u001b[0;34m(func, *structure, **kwargs)\u001b[0m\n\u001b[1;32m    633\u001b[0m \u001b[0;34m\u001b[0m\u001b[0m\n\u001b[1;32m    634\u001b[0m   return pack_sequence_as(\n\u001b[0;32m--> 635\u001b[0;31m       \u001b[0mstructure\u001b[0m\u001b[0;34m[\u001b[0m\u001b[0;36m0\u001b[0m\u001b[0;34m]\u001b[0m\u001b[0;34m,\u001b[0m \u001b[0;34m[\u001b[0m\u001b[0mfunc\u001b[0m\u001b[0;34m(\u001b[0m\u001b[0;34m*\u001b[0m\u001b[0mx\u001b[0m\u001b[0;34m)\u001b[0m \u001b[0;32mfor\u001b[0m \u001b[0mx\u001b[0m \u001b[0;32min\u001b[0m \u001b[0mentries\u001b[0m\u001b[0;34m]\u001b[0m\u001b[0;34m,\u001b[0m\u001b[0;34m\u001b[0m\u001b[0;34m\u001b[0m\u001b[0m\n\u001b[0m\u001b[1;32m    636\u001b[0m       expand_composites=expand_composites)\n\u001b[1;32m    637\u001b[0m \u001b[0;34m\u001b[0m\u001b[0m\n",
            "\u001b[0;32m/usr/local/lib/python3.6/dist-packages/tensorflow/python/util/nest.py\u001b[0m in \u001b[0;36m<listcomp>\u001b[0;34m(.0)\u001b[0m\n\u001b[1;32m    633\u001b[0m \u001b[0;34m\u001b[0m\u001b[0m\n\u001b[1;32m    634\u001b[0m   return pack_sequence_as(\n\u001b[0;32m--> 635\u001b[0;31m       \u001b[0mstructure\u001b[0m\u001b[0;34m[\u001b[0m\u001b[0;36m0\u001b[0m\u001b[0;34m]\u001b[0m\u001b[0;34m,\u001b[0m \u001b[0;34m[\u001b[0m\u001b[0mfunc\u001b[0m\u001b[0;34m(\u001b[0m\u001b[0;34m*\u001b[0m\u001b[0mx\u001b[0m\u001b[0;34m)\u001b[0m \u001b[0;32mfor\u001b[0m \u001b[0mx\u001b[0m \u001b[0;32min\u001b[0m \u001b[0mentries\u001b[0m\u001b[0;34m]\u001b[0m\u001b[0;34m,\u001b[0m\u001b[0;34m\u001b[0m\u001b[0;34m\u001b[0m\u001b[0m\n\u001b[0m\u001b[1;32m    636\u001b[0m       expand_composites=expand_composites)\n\u001b[1;32m    637\u001b[0m \u001b[0;34m\u001b[0m\u001b[0m\n",
            "\u001b[0;32m/usr/local/lib/python3.6/dist-packages/tensorflow/python/keras/engine/training.py\u001b[0m in \u001b[0;36m_get_single_optimizer\u001b[0;34m(opt)\u001b[0m\n\u001b[1;32m    559\u001b[0m \u001b[0;34m\u001b[0m\u001b[0m\n\u001b[1;32m    560\u001b[0m     \u001b[0;32mdef\u001b[0m \u001b[0m_get_single_optimizer\u001b[0m\u001b[0;34m(\u001b[0m\u001b[0mopt\u001b[0m\u001b[0;34m)\u001b[0m\u001b[0;34m:\u001b[0m\u001b[0;34m\u001b[0m\u001b[0;34m\u001b[0m\u001b[0m\n\u001b[0;32m--> 561\u001b[0;31m       \u001b[0mopt\u001b[0m \u001b[0;34m=\u001b[0m \u001b[0moptimizers\u001b[0m\u001b[0;34m.\u001b[0m\u001b[0mget\u001b[0m\u001b[0;34m(\u001b[0m\u001b[0mopt\u001b[0m\u001b[0;34m)\u001b[0m\u001b[0;34m\u001b[0m\u001b[0;34m\u001b[0m\u001b[0m\n\u001b[0m\u001b[1;32m    562\u001b[0m       if (self._dtype_policy.loss_scale is not None and\n\u001b[1;32m    563\u001b[0m           not isinstance(opt, lso.LossScaleOptimizer)):\n",
            "\u001b[0;32m/usr/local/lib/python3.6/dist-packages/tensorflow/python/keras/optimizers.py\u001b[0m in \u001b[0;36mget\u001b[0;34m(identifier)\u001b[0m\n\u001b[1;32m    901\u001b[0m   \u001b[0;32melse\u001b[0m\u001b[0;34m:\u001b[0m\u001b[0;34m\u001b[0m\u001b[0;34m\u001b[0m\u001b[0m\n\u001b[1;32m    902\u001b[0m     raise ValueError(\n\u001b[0;32m--> 903\u001b[0;31m         'Could not interpret optimizer identifier: {}'.format(identifier))\n\u001b[0m",
            "\u001b[0;31mValueError\u001b[0m: Could not interpret optimizer identifier: Ellipsis"
          ]
        }
      ]
    },
    {
      "cell_type": "code",
      "metadata": {
        "id": "4_CJzYH3RiKD",
        "colab_type": "code",
        "colab": {}
      },
      "source": [
        ""
      ],
      "execution_count": null,
      "outputs": []
    }
  ]
}