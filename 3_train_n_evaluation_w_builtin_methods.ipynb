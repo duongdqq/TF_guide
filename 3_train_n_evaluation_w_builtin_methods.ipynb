{
  "nbformat": 4,
  "nbformat_minor": 0,
  "metadata": {
    "colab": {
      "name": "3_train_n_evaluation_w_builtin_methods.ipynb",
      "provenance": [],
      "collapsed_sections": [],
      "toc_visible": true,
      "authorship_tag": "ABX9TyPZjIo2RnM2QuwVL/4p62f8",
      "include_colab_link": true
    },
    "kernelspec": {
      "name": "python3",
      "display_name": "Python 3"
    },
    "accelerator": "TPU"
  },
  "cells": [
    {
      "cell_type": "markdown",
      "metadata": {
        "id": "view-in-github",
        "colab_type": "text"
      },
      "source": [
        "<a href=\"https://colab.research.google.com/github/duongdqq/TF_guide/blob/master/3_train_n_evaluation_w_builtin_methods.ipynb\" target=\"_parent\"><img src=\"https://colab.research.google.com/assets/colab-badge.svg\" alt=\"Open In Colab\"/></a>"
      ]
    },
    {
      "cell_type": "code",
      "metadata": {
        "id": "vtr67YAvtI7x",
        "colab_type": "code",
        "colab": {}
      },
      "source": [
        "import tensorflow as tf\n",
        "from tensorflow import keras\n",
        "from tensorflow.keras import layers"
      ],
      "execution_count": 1,
      "outputs": []
    },
    {
      "cell_type": "markdown",
      "metadata": {
        "id": "xNzVwBbMsb9d",
        "colab_type": "text"
      },
      "source": [
        "# API overview: a first end-to-end example"
      ]
    },
    {
      "cell_type": "code",
      "metadata": {
        "id": "BsTemSzGStn9",
        "colab_type": "code",
        "colab": {}
      },
      "source": [
        "inputs = keras.Input(shape=(784,), name='digits')\n",
        "x = layers.Dense(64, activation='relu', name='dense_1')(inputs)\n",
        "x = layers.Dense(64, activation='relu', name='dense_2')(x)\n",
        "outputs = layers.Dense(10, activation='softmax', name='predictions')(x)\n",
        "\n",
        "model = keras.Model(inputs=inputs, outputs=outputs)"
      ],
      "execution_count": 2,
      "outputs": []
    },
    {
      "cell_type": "code",
      "metadata": {
        "id": "D0q84zbNtHeQ",
        "colab_type": "code",
        "colab": {}
      },
      "source": [
        "(x_train, y_train), (x_test, y_test) = keras.datasets.mnist.load_data()"
      ],
      "execution_count": 3,
      "outputs": []
    },
    {
      "cell_type": "code",
      "metadata": {
        "id": "muNQYNSNJcZv",
        "colab_type": "code",
        "colab": {
          "base_uri": "https://localhost:8080/",
          "height": 51
        },
        "outputId": "c52d9891-f2cd-46d3-a3df-92fd26769640"
      },
      "source": [
        "print(len(x_train))\n",
        "print(len(x_test))\n",
        "x_train = x_train.reshape(60000, 784).astype('float32') / 255\n",
        "x_test = x_test.reshape(10000, 784).astype('float32') / 255\n",
        "\n",
        "y_train = y_train.astype('float32')\n",
        "y_test = y_test.astype('float32')\n",
        "\n",
        "x_val = x_train[-10000:]\n",
        "y_val = y_train[-10000:]\n",
        "x_train = x_train[:-10000]\n",
        "y_train = y_train[:-10000]"
      ],
      "execution_count": 4,
      "outputs": [
        {
          "output_type": "stream",
          "text": [
            "60000\n",
            "10000\n"
          ],
          "name": "stdout"
        }
      ]
    },
    {
      "cell_type": "code",
      "metadata": {
        "id": "cqnOGN3tJrsf",
        "colab_type": "code",
        "colab": {
          "base_uri": "https://localhost:8080/",
          "height": 136
        },
        "outputId": "ad5bfbdd-937a-4f02-8f9f-5e900a766d29"
      },
      "source": [
        "print(len(x_train))\n",
        "print(len(x_val))\n",
        "print(len(x_test))\n",
        "print('-'*10)\n",
        "print(len(y_train))\n",
        "print(len(y_val))\n",
        "print(len(y_test))"
      ],
      "execution_count": 5,
      "outputs": [
        {
          "output_type": "stream",
          "text": [
            "50000\n",
            "10000\n",
            "10000\n",
            "----------\n",
            "50000\n",
            "10000\n",
            "10000\n"
          ],
          "name": "stdout"
        }
      ]
    },
    {
      "cell_type": "code",
      "metadata": {
        "id": "cB99cvfDKZJV",
        "colab_type": "code",
        "colab": {}
      },
      "source": [
        "# specify the training configuration\n",
        "model.compile(\n",
        "    optimizer=keras.optimizers.RMSprop(),\n",
        "    loss=keras.losses.SparseCategoricalCrossentropy(),\n",
        "    metrics=[keras.metrics.SparseCategoricalAccuracy()]\n",
        ")"
      ],
      "execution_count": 6,
      "outputs": []
    },
    {
      "cell_type": "code",
      "metadata": {
        "id": "34lbGarkNEnZ",
        "colab_type": "code",
        "colab": {
          "base_uri": "https://localhost:8080/",
          "height": 105
        },
        "outputId": "ce431ddc-eadb-4a3b-fe1a-99fcdca23abd"
      },
      "source": [
        "# call fit() to slide data into batches\n",
        "history = model.fit(\n",
        "    x_train,\n",
        "    y_train,\n",
        "    batch_size=64,\n",
        "    epochs=2,\n",
        "    validation_data=(x_val, y_val)\n",
        ") "
      ],
      "execution_count": 7,
      "outputs": [
        {
          "output_type": "stream",
          "text": [
            "Epoch 1/2\n",
            "782/782 [==============================] - 2s 2ms/step - loss: 0.3347 - sparse_categorical_accuracy: 0.9051 - val_loss: 0.1789 - val_sparse_categorical_accuracy: 0.9509\n",
            "Epoch 2/2\n",
            "782/782 [==============================] - 2s 2ms/step - loss: 0.1563 - sparse_categorical_accuracy: 0.9534 - val_loss: 0.1349 - val_sparse_categorical_accuracy: 0.9610\n"
          ],
          "name": "stdout"
        }
      ]
    },
    {
      "cell_type": "code",
      "metadata": {
        "id": "ib5WhrxoNwBs",
        "colab_type": "code",
        "colab": {
          "base_uri": "https://localhost:8080/",
          "height": 105
        },
        "outputId": "007154c5-bc97-4dff-96db-0fc1c5c5c024"
      },
      "source": [
        "# history holds record of the loss values and metric values during training\n",
        "history.history"
      ],
      "execution_count": 8,
      "outputs": [
        {
          "output_type": "execute_result",
          "data": {
            "text/plain": [
              "{'loss': [0.3346588611602783, 0.15630881488323212],\n",
              " 'sparse_categorical_accuracy': [0.9051200151443481, 0.9534000158309937],\n",
              " 'val_loss': [0.1788896918296814, 0.13488304615020752],\n",
              " 'val_sparse_categorical_accuracy': [0.9509000182151794, 0.9610000252723694]}"
            ]
          },
          "metadata": {
            "tags": []
          },
          "execution_count": 8
        }
      ]
    },
    {
      "cell_type": "code",
      "metadata": {
        "id": "b50Zi8DQPQ18",
        "colab_type": "code",
        "colab": {
          "base_uri": "https://localhost:8080/",
          "height": 54
        },
        "outputId": "d0f84a14-cf86-4c9f-d37a-37140ae07050"
      },
      "source": [
        "# evaluate model on the test data\n",
        "results = model.evaluate(x_val, y_val, batch_size=128)"
      ],
      "execution_count": 9,
      "outputs": [
        {
          "output_type": "stream",
          "text": [
            "79/79 [==============================] - 0s 1ms/step - loss: 0.1349 - sparse_categorical_accuracy: 0.9610\n"
          ],
          "name": "stdout"
        }
      ]
    },
    {
      "cell_type": "code",
      "metadata": {
        "id": "4RZTnKUTYLGN",
        "colab_type": "code",
        "colab": {
          "base_uri": "https://localhost:8080/",
          "height": 170
        },
        "outputId": "c82115f9-2dc1-4d47-aa38-01785a236778"
      },
      "source": [
        "predictions = model.predict(x_test[:3])\n",
        "predictions"
      ],
      "execution_count": 10,
      "outputs": [
        {
          "output_type": "execute_result",
          "data": {
            "text/plain": [
              "array([[5.9501331e-06, 1.3490105e-08, 7.0690113e-04, 1.1235866e-03,\n",
              "        2.5489769e-07, 3.5253506e-06, 2.7892084e-09, 9.9810767e-01,\n",
              "        4.1798708e-06, 4.7927464e-05],\n",
              "       [4.3341752e-06, 1.1717662e-05, 9.9866831e-01, 1.2066624e-03,\n",
              "        1.0976159e-11, 3.9320603e-05, 4.8560392e-05, 8.4636156e-09,\n",
              "        2.1136615e-05, 2.7921901e-10],\n",
              "       [4.1748335e-05, 9.9112260e-01, 1.2611914e-03, 3.6432597e-04,\n",
              "        4.1625666e-04, 1.4570988e-04, 9.1897859e-04, 4.6847328e-03,\n",
              "        8.8739785e-04, 1.5701985e-04]], dtype=float32)"
            ]
          },
          "metadata": {
            "tags": []
          },
          "execution_count": 10
        }
      ]
    },
    {
      "cell_type": "code",
      "metadata": {
        "id": "YnvUqcKDYlTH",
        "colab_type": "code",
        "colab": {
          "base_uri": "https://localhost:8080/",
          "height": 34
        },
        "outputId": "746ae7ea-36d2-4e9b-8841-0fec89592238"
      },
      "source": [
        "predictions.shape"
      ],
      "execution_count": 11,
      "outputs": [
        {
          "output_type": "execute_result",
          "data": {
            "text/plain": [
              "(3, 10)"
            ]
          },
          "metadata": {
            "tags": []
          },
          "execution_count": 11
        }
      ]
    },
    {
      "cell_type": "markdown",
      "metadata": {
        "id": "Aeof2OUOZ_m-",
        "colab_type": "text"
      },
      "source": [
        "# The compile() method: specifying a loss, metrics, and an optimizer"
      ]
    },
    {
      "cell_type": "markdown",
      "metadata": {
        "id": "pyjkbqgQYCPX",
        "colab_type": "text"
      },
      "source": [
        "* Specify optimizer, loss function and metrics by model.compile()"
      ]
    },
    {
      "cell_type": "code",
      "metadata": {
        "id": "g-8vBFUGYq0m",
        "colab_type": "code",
        "colab": {}
      },
      "source": [
        "inputs = keras.Input(shape=(784,), name='digits')\n",
        "x = layers.Dense(64, activation='relu', name='dense_1')(inputs)\n",
        "x = layers.Dense(64, activation='relu', name='dense_2')(x)\n",
        "outputs = layers.Dense(10, activation='softmax', name='predictions')(x)\n",
        "\n",
        "model = keras.Model(inputs=inputs, outputs=outputs)"
      ],
      "execution_count": 12,
      "outputs": []
    },
    {
      "cell_type": "markdown",
      "metadata": {
        "id": "Dm90V1vdZGyP",
        "colab_type": "text"
      },
      "source": [
        "* 1st method"
      ]
    },
    {
      "cell_type": "code",
      "metadata": {
        "id": "bgotW7R0YI44",
        "colab_type": "code",
        "colab": {}
      },
      "source": [
        "model.compile(\n",
        "    optimizer=keras.optimizers.RMSprop(learning_rate=1e-3),\n",
        "    loss=keras.losses.SparseCategoricalCrossentropy(),\n",
        "    metrics=[keras.metrics.SparseCategoricalAccuracy()]\n",
        ")"
      ],
      "execution_count": 13,
      "outputs": []
    },
    {
      "cell_type": "markdown",
      "metadata": {
        "id": "vhihRto3Y2fI",
        "colab_type": "text"
      },
      "source": [
        "* If model has multiple outputs, specify different losses and metrics for each output, and modulate the contribution of each output to the total loss of the model"
      ]
    },
    {
      "cell_type": "markdown",
      "metadata": {
        "id": "yz74j5jPZJc4",
        "colab_type": "text"
      },
      "source": [
        "* 2nd method"
      ]
    },
    {
      "cell_type": "code",
      "metadata": {
        "id": "MuZF3TGZZDtp",
        "colab_type": "code",
        "colab": {}
      },
      "source": [
        "model.compile(\n",
        "    optimizer='rmsprop',\n",
        "    loss='sparse_categorical_crossentropy',\n",
        "    metrics=['sparse_categorical_accuracy']\n",
        ")"
      ],
      "execution_count": 14,
      "outputs": []
    },
    {
      "cell_type": "markdown",
      "metadata": {
        "id": "TwehJBbtZo4O",
        "colab_type": "text"
      },
      "source": [
        "* For later reuse, put the model definition and compile step in function"
      ]
    },
    {
      "cell_type": "code",
      "metadata": {
        "id": "Pd4Oz_q9Z4e5",
        "colab_type": "code",
        "colab": {}
      },
      "source": [
        "def get_uncompiled_model():\n",
        "  inputs = keras.Input(shape=(784,), name='digits')\n",
        "  x = layers.Dense(64, activation='relu', name='dense_1')(inputs)\n",
        "  x = layers.Dense(64, activation='relu', name='dense_2')(x)\n",
        "  outputs = layers.Dense(10, activation='softmax', name='predictions')(x)\n",
        "  model = keras.Model(inputs=inputs, outputs=outputs)\n",
        "  return model"
      ],
      "execution_count": 15,
      "outputs": []
    },
    {
      "cell_type": "code",
      "metadata": {
        "id": "2bnbJP9JaGSH",
        "colab_type": "code",
        "colab": {}
      },
      "source": [
        "def get_compiled_model():\n",
        "  model = get_uncompiled_model()\n",
        "  model.compile(\n",
        "    optimizer='rmsprop',\n",
        "    loss='sparse_categorical_crossentropy',\n",
        "    metrics=['sparse_categorical_accuracy']\n",
        "  )\n",
        "  return model"
      ],
      "execution_count": 16,
      "outputs": []
    },
    {
      "cell_type": "markdown",
      "metadata": {
        "id": "KRwHHKBFac7f",
        "colab_type": "text"
      },
      "source": [
        "### Many built-in optimizers, losses, and metrics are available"
      ]
    },
    {
      "cell_type": "markdown",
      "metadata": {
        "id": "gRY9jF8baW89",
        "colab_type": "text"
      },
      "source": [
        "* Optimizers\n",
        "  * SDG() with or without momentum\n",
        "  * RMSprop()\n",
        "  * Adam()\n",
        "* Losses\n",
        "  * MeanSquaredError()\n",
        "  * KLDivergence()\n",
        "  * CosineSimilarity()\n",
        "* Metrics\n",
        "  * AUC()\n",
        "  * Precision()\n",
        "  * Recall()"
      ]
    },
    {
      "cell_type": "markdown",
      "metadata": {
        "id": "S6-ZhZkEaf3O",
        "colab_type": "text"
      },
      "source": [
        "### Custom losses"
      ]
    },
    {
      "cell_type": "markdown",
      "metadata": {
        "id": "owXHR-gmeZHD",
        "colab_type": "text"
      },
      "source": [
        "* 1st method"
      ]
    },
    {
      "cell_type": "code",
      "metadata": {
        "id": "A78qf_XjdODE",
        "colab_type": "code",
        "colab": {}
      },
      "source": [
        "def custom_mean_squared_error(y_true, y_pred):\n",
        "  return tf.math.reduce_mean(tf.square(y_true - y_pred))\n",
        "\n",
        "model = get_uncompiled_model()\n",
        "model.compile(\n",
        "    optimizer=keras.optimizers.Adam(),\n",
        "    loss=custom_mean_squared_error\n",
        ")"
      ],
      "execution_count": 17,
      "outputs": []
    },
    {
      "cell_type": "code",
      "metadata": {
        "id": "Zin2b7s_d0YN",
        "colab_type": "code",
        "colab": {
          "base_uri": "https://localhost:8080/",
          "height": 51
        },
        "outputId": "98229bd1-1487-4f95-fefb-8d571915f88b"
      },
      "source": [
        "y_train_one_hot = tf.one_hot(y_train, depth=10)\n",
        "model.fit(x_train, y_train_one_hot, batch_size=64, epochs=1)"
      ],
      "execution_count": 18,
      "outputs": [
        {
          "output_type": "stream",
          "text": [
            "782/782 [==============================] - 2s 2ms/step - loss: 0.0159\n"
          ],
          "name": "stdout"
        },
        {
          "output_type": "execute_result",
          "data": {
            "text/plain": [
              "<tensorflow.python.keras.callbacks.History at 0x7f2fa98db518>"
            ]
          },
          "metadata": {
            "tags": []
          },
          "execution_count": 18
        }
      ]
    },
    {
      "cell_type": "markdown",
      "metadata": {
        "id": "DTJjuHtIea5q",
        "colab_type": "text"
      },
      "source": [
        "* 2nd method"
      ]
    },
    {
      "cell_type": "markdown",
      "metadata": {
        "id": "_N2HpyOTfrVo",
        "colab_type": "text"
      },
      "source": [
        "* __init__(self): accept parameters to pass during the call of your loss function\n",
        "* call(self, y_true, y_pred): use the targets (y_true) and the model predictions (y_pred) to compute the model's loss"
      ]
    },
    {
      "cell_type": "code",
      "metadata": {
        "id": "7ERVusXTPHNk",
        "colab_type": "code",
        "colab": {
          "base_uri": "https://localhost:8080/",
          "height": 51
        },
        "outputId": "48fb67c0-045c-4817-a6fe-cb1c2712bd21"
      },
      "source": [
        "class CustomMSE(keras.losses.Loss):\n",
        "  def __init__(self, regularization_factor=0.1, name='custom_mse'):\n",
        "    super().__init__(name=name)\n",
        "    self.regularization_factor = regularization_factor\n",
        "\n",
        "  def call(self, y_true, y_pred):\n",
        "    mse = tf.math.reduce_mean(tf.square(y_true - y_pred))\n",
        "    reg = tf.math.reduce_mean(tf.square(0.5 - y_pred))\n",
        "    return mse + reg * self.regularization_factor\n",
        "\n",
        "\n",
        "model = get_compiled_model()\n",
        "model.compile(optimizer=keras.optimizers.Adam(),\n",
        "              loss=CustomMSE())\n",
        "\n",
        "y_train_one_hot = tf.one_hot(y_train, depth=10)\n",
        "model.fit(x_train, y_train_one_hot, batch_size=64, epochs=1)"
      ],
      "execution_count": 19,
      "outputs": [
        {
          "output_type": "stream",
          "text": [
            "782/782 [==============================] - 2s 2ms/step - loss: 0.0386\n"
          ],
          "name": "stdout"
        },
        {
          "output_type": "execute_result",
          "data": {
            "text/plain": [
              "<tensorflow.python.keras.callbacks.History at 0x7f2fa900a518>"
            ]
          },
          "metadata": {
            "tags": []
          },
          "execution_count": 19
        }
      ]
    },
    {
      "cell_type": "markdown",
      "metadata": {
        "id": "qfStowMgaikf",
        "colab_type": "text"
      },
      "source": [
        "### Custom metrics"
      ]
    },
    {
      "cell_type": "markdown",
      "metadata": {
        "id": "x2ae4pI8f1Wb",
        "colab_type": "text"
      },
      "source": [
        "* __init__(self), in which you will create state variables for your metric.\n",
        "* update_state(self, y_true, y_pred, sample_weight=None), which uses the targets * y_true and the model predictions y_pred to update the state variables.\n",
        "* result(self), which uses the state variables to compute the final results.\n",
        "* reset_states(self), which reinitializes the state of the metric."
      ]
    },
    {
      "cell_type": "markdown",
      "metadata": {
        "id": "XE70J4PBg3NY",
        "colab_type": "text"
      },
      "source": [
        "* State update and results computation are kept separate (in update_state() and result(), respectively) because in some cases, results computation might be very expensive, and would only be done periodically."
      ]
    },
    {
      "cell_type": "code",
      "metadata": {
        "id": "-RgOAV4-g7js",
        "colab_type": "code",
        "colab": {}
      },
      "source": [
        "class CategoricalTruePositives(keras.metrics.Metric):\n",
        "  def __init__(self, name='categorical_true_positives', **kwargs):\n",
        "    super(CategoricalTruePositives, self).__init__(name=name, **kwargs)\n",
        "    self.true_positives = self.add_weight(name='ctp', initializer='zeros')\n",
        "\n",
        "  \n",
        "  def update_state(self, y_true, y_pred, sample_weight=None):\n",
        "    y_pred = tf.reshape(tf.argmax(y_pred, axis=1), shape=(-1, 1))\n",
        "    values = tf.cast(y_true, 'int32') == tf.cast(y_pred, 'int32')\n",
        "    values = tf.cast(values, 'float32')\n",
        "    if sample_weight is not None:\n",
        "      sample_weight = tf.cast(sample_weight, 'float32')\n",
        "      values = tf.multiply(values, sample_weight)\n",
        "    self.true_positives.assign_add(tf.reduce_sum(values))\n",
        "\n",
        "  \n",
        "  def result(self):\n",
        "    return self.true_positives\n",
        "\n",
        "  \n",
        "  def reset_states(self):\n",
        "  # The state of the metric will be reset at the start of each epoch.\n",
        "    self.true_positives.assign(0.0)"
      ],
      "execution_count": 20,
      "outputs": []
    },
    {
      "cell_type": "code",
      "metadata": {
        "id": "Ah4Qav2iK0Vl",
        "colab_type": "code",
        "colab": {
          "base_uri": "https://localhost:8080/",
          "height": 156
        },
        "outputId": "6e2a01c9-f608-4c68-8f1e-778a024dd7f1"
      },
      "source": [
        "model = get_uncompiled_model()\n",
        "model.compile(optimizer=keras.optimizers.RMSprop(learning_rate=1e-3),\n",
        "              loss=keras.losses.SparseCategoricalCrossentropy(),\n",
        "              metrics=[CategoricalTruePositives()])\n",
        "\n",
        "model.fit(x_train, y_train, batch_size=128, epochs=3)\n"
      ],
      "execution_count": 21,
      "outputs": [
        {
          "output_type": "stream",
          "text": [
            "Epoch 1/3\n",
            "391/391 [==============================] - 1s 3ms/step - loss: 0.3977 - categorical_true_positives: 44524.0000\n",
            "Epoch 2/3\n",
            "391/391 [==============================] - 1s 3ms/step - loss: 0.1878 - categorical_true_positives: 47257.0000\n",
            "Epoch 3/3\n",
            "391/391 [==============================] - 1s 3ms/step - loss: 0.1425 - categorical_true_positives: 47897.0000\n"
          ],
          "name": "stdout"
        },
        {
          "output_type": "execute_result",
          "data": {
            "text/plain": [
              "<tensorflow.python.keras.callbacks.History at 0x7f2fa8714e80>"
            ]
          },
          "metadata": {
            "tags": []
          },
          "execution_count": 21
        }
      ]
    },
    {
      "cell_type": "markdown",
      "metadata": {
        "id": "A2ieKPfDalq0",
        "colab_type": "text"
      },
      "source": [
        "### Handling losses and metrics that don't fit the standard signature"
      ]
    },
    {
      "cell_type": "markdown",
      "metadata": {
        "id": "GmwP_eY0P-TF",
        "colab_type": "text"
      },
      "source": [
        "* The overwhelming majority of losses and metrics can be computed from y_true and y_pred, where y_pred is an output of your model. \n",
        "* But not all of them. For instance, a regularization loss may only require the activation of a layer (there are no targets in this case), and this activation may not be a model output.\n",
        "\n",
        "* In such cases, you can call self.add_loss(loss_value) from inside the call method of a custom layer. \n",
        "* Losses added in this way get added to the \"main\" loss during training (the one passed to compile()). \n",
        "* Here's a simple example that adds activity regularization (note that activity regularization is built-in in all Keras layers -- this layer is just for the sake of providing a concrete example):"
      ]
    },
    {
      "cell_type": "code",
      "metadata": {
        "id": "VpEONJB8Q_p8",
        "colab_type": "code",
        "colab": {
          "base_uri": "https://localhost:8080/",
          "height": 51
        },
        "outputId": "846ba421-a918-498c-d306-3a6742c4dc73"
      },
      "source": [
        "class ActivityRegularizationLayer(layers.Layer):\n",
        "  def call(self, inputs):\n",
        "    self.add_loss(tf.reduce_sum(inputs) * 0.1)\n",
        "    return inputs  # pass through layer\n",
        "\n",
        "\n",
        "inputs = keras.Input(shape=(784,), name='digits')\n",
        "x = layers.Dense(64, activation='relu', name='dense_1')(inputs)\n",
        "\n",
        "# insert activity regurlarization as a layer\n",
        "x = ActivityRegularizationLayer()(x)\n",
        "\n",
        "x = layers.Dense(64, activation='relu', name='dense_2')(x)\n",
        "outputs = layers.Dense(10, name='predictions')(x)\n",
        "\n",
        "model = keras.Model(inputs=inputs, outputs=outputs)\n",
        "model.compile(optimizer=keras.optimizers.RMSprop(learning_rate=1e-3),\n",
        "              loss=keras.losses.SparseCategoricalCrossentropy(from_logits=True))\n",
        "\n",
        "model.fit(x_train, y_train, batch_size=128, epochs=1)"
      ],
      "execution_count": 22,
      "outputs": [
        {
          "output_type": "stream",
          "text": [
            "391/391 [==============================] - 1s 3ms/step - loss: 3.1455\n"
          ],
          "name": "stdout"
        },
        {
          "output_type": "execute_result",
          "data": {
            "text/plain": [
              "<tensorflow.python.keras.callbacks.History at 0x7f2fa85da7f0>"
            ]
          },
          "metadata": {
            "tags": []
          },
          "execution_count": 22
        }
      ]
    },
    {
      "cell_type": "markdown",
      "metadata": {
        "id": "1qvxmcEVVwpd",
        "colab_type": "text"
      },
      "source": [
        "* You can do the same for logging metric values, using add_metric():"
      ]
    },
    {
      "cell_type": "code",
      "metadata": {
        "id": "LG3xV96tVwDL",
        "colab_type": "code",
        "colab": {
          "base_uri": "https://localhost:8080/",
          "height": 71
        },
        "outputId": "70317817-7be1-4524-d0b0-fa20af2f0b68"
      },
      "source": [
        "class MetricLoggingLayer(layers.Layer):\n",
        "  def call(self, inputs):\n",
        "    self.add_metric(keras.backend.std(inputs), \n",
        "                    name='std_of_activation', \n",
        "                    aggregation='mean')\n",
        "    return inputs\n",
        "\n",
        "\n",
        "inputs = keras.Input(shape=(784,), name=\"digits\")\n",
        "x = layers.Dense(64, activation=\"relu\", name=\"dense_1\")(inputs)\n",
        "\n",
        "# Insert std logging as a layer.\n",
        "x = MetricLoggingLayer()(x)\n",
        "\n",
        "x = layers.Dense(64, activation=\"relu\", name=\"dense_2\")(x)\n",
        "outputs = layers.Dense(10, name=\"predictions\")(x)\n",
        "\n",
        "model = keras.Model(inputs=inputs, outputs=outputs)\n",
        "model.compile(\n",
        "    optimizer=keras.optimizers.RMSprop(learning_rate=1e-3),\n",
        "    loss=keras.losses.SparseCategoricalCrossentropy(from_logits=True),\n",
        ")\n",
        "model.fit(x_train, y_train, batch_size=64, epochs=1)"
      ],
      "execution_count": 23,
      "outputs": [
        {
          "output_type": "stream",
          "text": [
            "782/782 [==============================] - 2s 2ms/step - loss: 0.3462 - std_of_activation: 1.0496\n"
          ],
          "name": "stdout"
        },
        {
          "output_type": "execute_result",
          "data": {
            "text/plain": [
              "<tensorflow.python.keras.callbacks.History at 0x7f2fa7ce7eb8>"
            ]
          },
          "metadata": {
            "tags": []
          },
          "execution_count": 23
        }
      ]
    },
    {
      "cell_type": "markdown",
      "metadata": {
        "id": "lU-g-f8IWxvw",
        "colab_type": "text"
      },
      "source": [
        "* In the Functional API, you can also call \n",
        "* model.add_loss(loss_tensor), or \n",
        "* model.add_metric(metric_tensor, name, aggregation)."
      ]
    },
    {
      "cell_type": "code",
      "metadata": {
        "id": "R_NBIKNOXYdW",
        "colab_type": "code",
        "colab": {
          "base_uri": "https://localhost:8080/",
          "height": 71
        },
        "outputId": "316468d1-577f-48f3-e5e0-4d07745e63b1"
      },
      "source": [
        "inputs = keras.Input(shape=(784,), name='digits')\n",
        "x1 = layers.Dense(64, 'relu', name='dense1')(inputs)\n",
        "x2 = layers.Dense(64, 'relu', name='dense2')(x1)\n",
        "outputs = layers.Dense(10, name='predictions')(x2)\n",
        "model = keras.Model(inputs=inputs, outputs=outputs)\n",
        "\n",
        "model.add_loss(tf.reduce_sum(x1) * 0.1)\n",
        "model.add_metric(keras.backend.std(x1), name='std_of_activation', aggregation='mean')\n",
        "\n",
        "model.compile(optimizer=keras.optimizers.RMSprop(learning_rate=1e-3),\n",
        "              loss=keras.losses.SparseCategoricalCrossentropy(from_logits=True))\n",
        "model.fit(x_train, y_train, batch_size=256, epochs=1)"
      ],
      "execution_count": 24,
      "outputs": [
        {
          "output_type": "stream",
          "text": [
            "196/196 [==============================] - 1s 4ms/step - loss: 5.7530 - std_of_activation: 0.0073\n"
          ],
          "name": "stdout"
        },
        {
          "output_type": "execute_result",
          "data": {
            "text/plain": [
              "<tensorflow.python.keras.callbacks.History at 0x7f2fa6b4ab70>"
            ]
          },
          "metadata": {
            "tags": []
          },
          "execution_count": 24
        }
      ]
    },
    {
      "cell_type": "markdown",
      "metadata": {
        "id": "X5lgNUO_a35-",
        "colab_type": "text"
      },
      "source": [
        "* Note that when you pass losses via add_loss(), it becomes possible to call compile() without a loss function, since the model already has a loss to minimize.\n",
        "* Consider the following LogisticEndpoint layer: it takes as inputs targets & logits, and it tracks a crossentropy loss via add_loss(). It also tracks classification accuracy via add_metric()."
      ]
    },
    {
      "cell_type": "code",
      "metadata": {
        "id": "y9Y6Dzbua_Px",
        "colab_type": "code",
        "colab": {}
      },
      "source": [
        "class LogisticEndpoint(keras.layers.Layer):\n",
        "  def __init__(self, name=None):\n",
        "    super(LogisticEndpoint, self).__init__(name=name)\n",
        "    self.loss_fn = keras.losses.BinaryCrossentropy(from_logits=True)\n",
        "    self.accuracy_fn = keras.metrics.BinaryAccuracy()\n",
        "\n",
        "  def call(self, targets, logits, sample_weights=None):\n",
        "    # Compute the training-time loss value and add it\n",
        "    # to the layer using `self.add_loss()`.\n",
        "    loss = self.loss_fn(targets, logits, sample_weights)\n",
        "    self.add_loss(loss)\n",
        "\n",
        "    # Log accuracy as a metric and add it\n",
        "    # to the layer using `self.add_metric()`.\n",
        "    acc = self.accuracy_fn(targets, logits, sample_weights)\n",
        "    self.add_metric(acc, name='accuracy')\n",
        "\n",
        "    # Return the inference-time prediction tensor (for `.predict()`).\n",
        "    return tf.nn.softmax(logits)"
      ],
      "execution_count": 25,
      "outputs": []
    },
    {
      "cell_type": "markdown",
      "metadata": {
        "id": "iq87ct6maM6N",
        "colab_type": "text"
      },
      "source": [
        "* You can use it in a model with two inputs (input data & targets), compiled without a loss argument, like this:"
      ]
    },
    {
      "cell_type": "code",
      "metadata": {
        "id": "GyOYILe-aO-D",
        "colab_type": "code",
        "colab": {
          "base_uri": "https://localhost:8080/",
          "height": 51
        },
        "outputId": "9ce1bd56-653b-4dee-a114-79609a50e115"
      },
      "source": [
        "import numpy as np\n",
        "\n",
        "inputs = keras.Input(shape=(3,), name='inputs')\n",
        "targets = keras.Input(shape=(10, ), name='targets')\n",
        "logits = keras.layers.Dense(10)(inputs)\n",
        "predictions = LogisticEndpoint(name='pred')(logits, targets)\n",
        "\n",
        "model = keras.Model(inputs=[inputs, targets], outputs=predictions)\n",
        "model.compile(optimizer='adam')  \n",
        "\n",
        "data = {'inputs': np.random.random((3,3)),\n",
        "        'targets': np.random.random((3,10))}\n",
        "\n",
        "model.fit(data)"
      ],
      "execution_count": 26,
      "outputs": [
        {
          "output_type": "stream",
          "text": [
            "1/1 [==============================] - 0s 2ms/step - loss: 0.9617 - binary_accuracy: 0.0000e+00\n"
          ],
          "name": "stdout"
        },
        {
          "output_type": "execute_result",
          "data": {
            "text/plain": [
              "<tensorflow.python.keras.callbacks.History at 0x7f2fa6a516a0>"
            ]
          },
          "metadata": {
            "tags": []
          },
          "execution_count": 26
        }
      ]
    },
    {
      "cell_type": "markdown",
      "metadata": {
        "id": "52r554lBascH",
        "colab_type": "text"
      },
      "source": [
        "### Automatically setting apart a validation holdout set"
      ]
    },
    {
      "cell_type": "markdown",
      "metadata": {
        "id": "iW9LVNndd2zy",
        "colab_type": "text"
      },
      "source": [
        "* Here's another option: the argument validation_split allows you to automatically reserve part of your training data for validation. The argument value represents the fraction of the data to be reserved for validation, so it should be set to a number higher than 0 and lower than 1. For instance, validation_split=0.2 means \"use 20% of the data for validation\", and validation_split=0.6 means \"use 60% of the data for validation\"."
      ]
    },
    {
      "cell_type": "code",
      "metadata": {
        "id": "_KGqiepgeSUb",
        "colab_type": "code",
        "colab": {
          "base_uri": "https://localhost:8080/",
          "height": 71
        },
        "outputId": "ed6d52f8-1f4b-41c3-e747-da0754212897"
      },
      "source": [
        "model = get_compiled_model()\n",
        "model.fit(x_train, y_train, batch_size=64, validation_split=0.2, epochs=1)"
      ],
      "execution_count": 27,
      "outputs": [
        {
          "output_type": "stream",
          "text": [
            "625/625 [==============================] - 2s 3ms/step - loss: 0.3709 - sparse_categorical_accuracy: 0.8964 - val_loss: 0.2263 - val_sparse_categorical_accuracy: 0.9320\n"
          ],
          "name": "stdout"
        },
        {
          "output_type": "execute_result",
          "data": {
            "text/plain": [
              "<tensorflow.python.keras.callbacks.History at 0x7f2fa5959780>"
            ]
          },
          "metadata": {
            "tags": []
          },
          "execution_count": 27
        }
      ]
    },
    {
      "cell_type": "markdown",
      "metadata": {
        "id": "YQO0LHUvevNA",
        "colab_type": "text"
      },
      "source": [
        "# Training & evaluation from tf.data Datasets"
      ]
    },
    {
      "cell_type": "markdown",
      "metadata": {
        "id": "fIJkk_7efD-E",
        "colab_type": "text"
      },
      "source": [
        "## Using a validation dataset"
      ]
    },
    {
      "cell_type": "markdown",
      "metadata": {
        "id": "t64hkIFKfdEG",
        "colab_type": "text"
      },
      "source": [
        "# Other input formats supported"
      ]
    },
    {
      "cell_type": "markdown",
      "metadata": {
        "id": "QWFt5mejfiK-",
        "colab_type": "text"
      },
      "source": [
        "# Using a keras.utils.Sequence object as input"
      ]
    },
    {
      "cell_type": "markdown",
      "metadata": {
        "id": "CYP_uwHzfi_4",
        "colab_type": "text"
      },
      "source": [
        "# Using sample weighting and class weighting"
      ]
    },
    {
      "cell_type": "markdown",
      "metadata": {
        "id": "FeBvXfmCfi0M",
        "colab_type": "text"
      },
      "source": [
        "## Class weights"
      ]
    },
    {
      "cell_type": "markdown",
      "metadata": {
        "id": "1smZRcvnfvSb",
        "colab_type": "text"
      },
      "source": [
        "## Sample weights"
      ]
    },
    {
      "cell_type": "markdown",
      "metadata": {
        "id": "VYN6zW2mf78u",
        "colab_type": "text"
      },
      "source": [
        "# Passing data to multi-input, multi-output models"
      ]
    },
    {
      "cell_type": "markdown",
      "metadata": {
        "id": "edJbU33df-2d",
        "colab_type": "text"
      },
      "source": [
        "# Using callbacks"
      ]
    },
    {
      "cell_type": "markdown",
      "metadata": {
        "id": "BXmRw-rjgKiH",
        "colab_type": "text"
      },
      "source": [
        "## Many built-in callbacks are available"
      ]
    },
    {
      "cell_type": "markdown",
      "metadata": {
        "id": "bXazss5xgNwR",
        "colab_type": "text"
      },
      "source": [
        "## Writing your own callback"
      ]
    },
    {
      "cell_type": "markdown",
      "metadata": {
        "id": "o7RpQLo9gVzI",
        "colab_type": "text"
      },
      "source": [
        "# Checkpointing models\n"
      ]
    },
    {
      "cell_type": "markdown",
      "metadata": {
        "id": "PoCow1m6gaF_",
        "colab_type": "text"
      },
      "source": [
        "# Using learning rate schedules"
      ]
    },
    {
      "cell_type": "markdown",
      "metadata": {
        "id": "Vuw32injgemQ",
        "colab_type": "text"
      },
      "source": [
        "## Passing a schedule to an optimizer"
      ]
    },
    {
      "cell_type": "markdown",
      "metadata": {
        "id": "IcBVS_fhgfxJ",
        "colab_type": "text"
      },
      "source": [
        "## Using callbacks to implement a dynamic learning rate schedule"
      ]
    },
    {
      "cell_type": "markdown",
      "metadata": {
        "id": "KUZlHV_jgkZR",
        "colab_type": "text"
      },
      "source": [
        "# Visualizing loss and metrics during training"
      ]
    },
    {
      "cell_type": "markdown",
      "metadata": {
        "id": "I93kC-scglPo",
        "colab_type": "text"
      },
      "source": [
        "## Using the TensorBoard callback"
      ]
    },
    {
      "cell_type": "code",
      "metadata": {
        "id": "gSoTL8dogOS3",
        "colab_type": "code",
        "colab": {}
      },
      "source": [
        ""
      ],
      "execution_count": null,
      "outputs": []
    }
  ]
}