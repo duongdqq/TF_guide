{
  "nbformat": 4,
  "nbformat_minor": 0,
  "metadata": {
    "colab": {
      "name": "3_train_n_evaluation_w_builtin_methods.ipynb",
      "provenance": [],
      "collapsed_sections": [],
      "authorship_tag": "ABX9TyOv/fg/Q0gvT64HAthW2Bmb",
      "include_colab_link": true
    },
    "kernelspec": {
      "name": "python3",
      "display_name": "Python 3"
    },
    "accelerator": "GPU"
  },
  "cells": [
    {
      "cell_type": "markdown",
      "metadata": {
        "id": "view-in-github",
        "colab_type": "text"
      },
      "source": [
        "<a href=\"https://colab.research.google.com/github/duongdqq/TF_guide/blob/master/3_train_n_evaluation_w_builtin_methods.ipynb\" target=\"_parent\"><img src=\"https://colab.research.google.com/assets/colab-badge.svg\" alt=\"Open In Colab\"/></a>"
      ]
    },
    {
      "cell_type": "code",
      "metadata": {
        "id": "vtr67YAvtI7x",
        "colab_type": "code",
        "colab": {}
      },
      "source": [
        "import tensorflow as tf\n",
        "from tensorflow import keras\n",
        "from tensorflow.keras import layers"
      ],
      "execution_count": 1,
      "outputs": []
    },
    {
      "cell_type": "markdown",
      "metadata": {
        "id": "xNzVwBbMsb9d",
        "colab_type": "text"
      },
      "source": [
        "# API overview: a first end-to-end example"
      ]
    },
    {
      "cell_type": "code",
      "metadata": {
        "id": "BsTemSzGStn9",
        "colab_type": "code",
        "colab": {}
      },
      "source": [
        "inputs = keras.Input(shape=(784,), name='digits')\n",
        "x = layers.Dense(64, activation='relu', name='dense_1')(inputs)\n",
        "x = layers.Dense(64, activation='relu', name='dense_2')(x)\n",
        "outputs = layers.Dense(10, activation='softmax', name='predictions')(x)\n",
        "\n",
        "model = keras.Model(inputs=inputs, outputs=outputs)"
      ],
      "execution_count": 2,
      "outputs": []
    },
    {
      "cell_type": "code",
      "metadata": {
        "id": "D0q84zbNtHeQ",
        "colab_type": "code",
        "colab": {
          "base_uri": "https://localhost:8080/",
          "height": 51
        },
        "outputId": "46bf598e-10d2-4435-eecd-f0639fde623a"
      },
      "source": [
        "(x_train, y_train), (x_test, y_test) = keras.datasets.mnist.load_data()"
      ],
      "execution_count": 3,
      "outputs": [
        {
          "output_type": "stream",
          "text": [
            "Downloading data from https://storage.googleapis.com/tensorflow/tf-keras-datasets/mnist.npz\n",
            "11493376/11490434 [==============================] - 0s 0us/step\n"
          ],
          "name": "stdout"
        }
      ]
    },
    {
      "cell_type": "code",
      "metadata": {
        "id": "muNQYNSNJcZv",
        "colab_type": "code",
        "colab": {
          "base_uri": "https://localhost:8080/",
          "height": 51
        },
        "outputId": "88b53226-3847-4642-cc0c-78442cf9fba0"
      },
      "source": [
        "print(len(x_train))\n",
        "print(len(x_test))\n",
        "x_train = x_train.reshape(60000, 784).astype('float32') / 255\n",
        "x_test = x_test.reshape(10000, 784).astype('float32') / 255\n",
        "\n",
        "y_train = y_train.astype('float32')\n",
        "y_test = y_test.astype('float32')\n",
        "\n",
        "x_val = x_train[-10000:]\n",
        "y_val = y_train[-10000:]\n",
        "x_train = x_train[:-10000]\n",
        "y_train = y_train[:-10000]"
      ],
      "execution_count": 4,
      "outputs": [
        {
          "output_type": "stream",
          "text": [
            "60000\n",
            "10000\n"
          ],
          "name": "stdout"
        }
      ]
    },
    {
      "cell_type": "code",
      "metadata": {
        "id": "cqnOGN3tJrsf",
        "colab_type": "code",
        "colab": {
          "base_uri": "https://localhost:8080/",
          "height": 136
        },
        "outputId": "9f57181b-2b8e-4baa-9743-e3811c94088b"
      },
      "source": [
        "print(len(x_train))\n",
        "print(len(x_val))\n",
        "print(len(x_test))\n",
        "print('-'*10)\n",
        "print(len(y_train))\n",
        "print(len(y_val))\n",
        "print(len(y_test))"
      ],
      "execution_count": 5,
      "outputs": [
        {
          "output_type": "stream",
          "text": [
            "50000\n",
            "10000\n",
            "10000\n",
            "----------\n",
            "50000\n",
            "10000\n",
            "10000\n"
          ],
          "name": "stdout"
        }
      ]
    },
    {
      "cell_type": "code",
      "metadata": {
        "id": "cB99cvfDKZJV",
        "colab_type": "code",
        "colab": {}
      },
      "source": [
        "# specify the training configuration\n",
        "model.compile(\n",
        "    optimizer=keras.optimizers.RMSprop(),\n",
        "    loss=keras.losses.SparseCategoricalCrossentropy(),\n",
        "    metrics=[keras.metrics.SparseCategoricalAccuracy()]\n",
        ")"
      ],
      "execution_count": 6,
      "outputs": []
    },
    {
      "cell_type": "code",
      "metadata": {
        "id": "34lbGarkNEnZ",
        "colab_type": "code",
        "colab": {
          "base_uri": "https://localhost:8080/",
          "height": 105
        },
        "outputId": "6844a917-f278-4ed4-963f-97476f5cdb1f"
      },
      "source": [
        "# call fit() to slide data into batches\n",
        "history = model.fit(\n",
        "    x_train,\n",
        "    y_train,\n",
        "    batch_size=64,\n",
        "    epochs=2,\n",
        "    validation_data=(x_val, y_val)\n",
        ") "
      ],
      "execution_count": 7,
      "outputs": [
        {
          "output_type": "stream",
          "text": [
            "Epoch 1/2\n",
            "782/782 [==============================] - 2s 3ms/step - loss: 0.3401 - sparse_categorical_accuracy: 0.9024 - val_loss: 0.1844 - val_sparse_categorical_accuracy: 0.9466\n",
            "Epoch 2/2\n",
            "782/782 [==============================] - 2s 3ms/step - loss: 0.1582 - sparse_categorical_accuracy: 0.9518 - val_loss: 0.1317 - val_sparse_categorical_accuracy: 0.9617\n"
          ],
          "name": "stdout"
        }
      ]
    },
    {
      "cell_type": "code",
      "metadata": {
        "id": "ib5WhrxoNwBs",
        "colab_type": "code",
        "colab": {
          "base_uri": "https://localhost:8080/",
          "height": 85
        },
        "outputId": "ec99269e-cb1c-4eaf-acd6-971f20a368c5"
      },
      "source": [
        "# history holds record of the loss values and metric values during training\n",
        "history.history"
      ],
      "execution_count": 8,
      "outputs": [
        {
          "output_type": "execute_result",
          "data": {
            "text/plain": [
              "{'loss': [0.34006601572036743, 0.15820161998271942],\n",
              " 'sparse_categorical_accuracy': [0.9024199843406677, 0.9518399834632874],\n",
              " 'val_loss': [0.18437543511390686, 0.13169091939926147],\n",
              " 'val_sparse_categorical_accuracy': [0.9466000199317932, 0.9617000222206116]}"
            ]
          },
          "metadata": {
            "tags": []
          },
          "execution_count": 8
        }
      ]
    },
    {
      "cell_type": "code",
      "metadata": {
        "id": "b50Zi8DQPQ18",
        "colab_type": "code",
        "colab": {
          "base_uri": "https://localhost:8080/",
          "height": 34
        },
        "outputId": "c880227a-2cc2-400a-bb82-f0d8263866a6"
      },
      "source": [
        "# evaluate model on the test data\n",
        "results = model.evaluate(x_val, y_val, batch_size=128)"
      ],
      "execution_count": 9,
      "outputs": [
        {
          "output_type": "stream",
          "text": [
            "79/79 [==============================] - 0s 2ms/step - loss: 0.1317 - sparse_categorical_accuracy: 0.9617\n"
          ],
          "name": "stdout"
        }
      ]
    },
    {
      "cell_type": "code",
      "metadata": {
        "id": "4RZTnKUTYLGN",
        "colab_type": "code",
        "colab": {
          "base_uri": "https://localhost:8080/",
          "height": 170
        },
        "outputId": "44e6d444-4c60-489a-8b9f-cd208565560f"
      },
      "source": [
        "predictions = model.predict(x_test[:3])\n",
        "predictions"
      ],
      "execution_count": 10,
      "outputs": [
        {
          "output_type": "execute_result",
          "data": {
            "text/plain": [
              "array([[2.7909346e-08, 4.5967536e-08, 1.9454585e-04, 1.9235232e-04,\n",
              "        6.9905042e-09, 2.2893259e-06, 2.3578094e-11, 9.9959964e-01,\n",
              "        2.4091553e-06, 8.7913795e-06],\n",
              "       [1.2910268e-06, 1.9674907e-03, 9.9798238e-01, 3.9100225e-05,\n",
              "        1.8014793e-11, 1.4220797e-06, 1.6055984e-06, 7.4305578e-10,\n",
              "        6.6194343e-06, 2.0944302e-10],\n",
              "       [1.0857476e-05, 9.9567562e-01, 1.9432922e-03, 5.4903264e-04,\n",
              "        7.9028730e-05, 3.9805011e-05, 9.8108248e-05, 9.6819818e-04,\n",
              "        5.9495366e-04, 4.1148731e-05]], dtype=float32)"
            ]
          },
          "metadata": {
            "tags": []
          },
          "execution_count": 10
        }
      ]
    },
    {
      "cell_type": "code",
      "metadata": {
        "id": "YnvUqcKDYlTH",
        "colab_type": "code",
        "colab": {
          "base_uri": "https://localhost:8080/",
          "height": 34
        },
        "outputId": "c1851c89-1016-4fd5-852e-939f1d76f41e"
      },
      "source": [
        "predictions.shape"
      ],
      "execution_count": 11,
      "outputs": [
        {
          "output_type": "execute_result",
          "data": {
            "text/plain": [
              "(3, 10)"
            ]
          },
          "metadata": {
            "tags": []
          },
          "execution_count": 11
        }
      ]
    },
    {
      "cell_type": "markdown",
      "metadata": {
        "id": "Aeof2OUOZ_m-",
        "colab_type": "text"
      },
      "source": [
        "# The compile() method: specifying a loss, metrics, and an optimizer"
      ]
    },
    {
      "cell_type": "markdown",
      "metadata": {
        "id": "pyjkbqgQYCPX",
        "colab_type": "text"
      },
      "source": [
        "* Specify optimizer, loss function and metrics by model.compile()"
      ]
    },
    {
      "cell_type": "code",
      "metadata": {
        "id": "g-8vBFUGYq0m",
        "colab_type": "code",
        "colab": {}
      },
      "source": [
        "inputs = keras.Input(shape=(784,), name='digits')\n",
        "x = layers.Dense(64, activation='relu', name='dense_1')(inputs)\n",
        "x = layers.Dense(64, activation='relu', name='dense_2')(x)\n",
        "outputs = layers.Dense(10, activation='softmax', name='predictions')(x)\n",
        "\n",
        "model = keras.Model(inputs=inputs, outputs=outputs)"
      ],
      "execution_count": 12,
      "outputs": []
    },
    {
      "cell_type": "markdown",
      "metadata": {
        "id": "Dm90V1vdZGyP",
        "colab_type": "text"
      },
      "source": [
        "* 1st method"
      ]
    },
    {
      "cell_type": "code",
      "metadata": {
        "id": "bgotW7R0YI44",
        "colab_type": "code",
        "colab": {}
      },
      "source": [
        "model.compile(\n",
        "    optimizer=keras.optimizers.RMSprop(learning_rate=1e-3),\n",
        "    loss=keras.losses.SparseCategoricalCrossentropy(),\n",
        "    metrics=[keras.metrics.SparseCategoricalAccuracy()]\n",
        ")"
      ],
      "execution_count": 13,
      "outputs": []
    },
    {
      "cell_type": "markdown",
      "metadata": {
        "id": "vhihRto3Y2fI",
        "colab_type": "text"
      },
      "source": [
        "* If model has multiple outputs, specify different losses and metrics for each output, and modulate the contribution of each output to the total loss of the model"
      ]
    },
    {
      "cell_type": "markdown",
      "metadata": {
        "id": "yz74j5jPZJc4",
        "colab_type": "text"
      },
      "source": [
        "* 2nd method"
      ]
    },
    {
      "cell_type": "code",
      "metadata": {
        "id": "MuZF3TGZZDtp",
        "colab_type": "code",
        "colab": {}
      },
      "source": [
        "model.compile(\n",
        "    optimizer='rmsprop',\n",
        "    loss='sparse_categorical_crossentropy',\n",
        "    metrics=['sparse_categorical_accuracy']\n",
        ")"
      ],
      "execution_count": 14,
      "outputs": []
    },
    {
      "cell_type": "markdown",
      "metadata": {
        "id": "TwehJBbtZo4O",
        "colab_type": "text"
      },
      "source": [
        "* For later reuse, put the model definition and compile step in function"
      ]
    },
    {
      "cell_type": "code",
      "metadata": {
        "id": "Pd4Oz_q9Z4e5",
        "colab_type": "code",
        "colab": {}
      },
      "source": [
        "def get_uncompiled_model():\n",
        "  inputs = keras.Input(shape=(784,), name='digits')\n",
        "  x = layers.Dense(64, activation='relu', name='dense_1')(inputs)\n",
        "  x = layers.Dense(64, activation='relu', name='dense_2')(x)\n",
        "  outputs = layers.Dense(10, activation='softmax', name='predictions')(x)\n",
        "  model = keras.Model(inputs=inputs, outputs=outputs)\n",
        "  return model"
      ],
      "execution_count": 15,
      "outputs": []
    },
    {
      "cell_type": "code",
      "metadata": {
        "id": "2bnbJP9JaGSH",
        "colab_type": "code",
        "colab": {}
      },
      "source": [
        "def get_compiled_model():\n",
        "  model = get_uncompiled_model()\n",
        "  model.compile(\n",
        "    optimizer='rmsprop',\n",
        "    loss='sparse_categorical_crossentropy',\n",
        "    metrics=['sparse_categorical_accuracy']\n",
        "  )\n",
        "  return model"
      ],
      "execution_count": 16,
      "outputs": []
    },
    {
      "cell_type": "markdown",
      "metadata": {
        "id": "KRwHHKBFac7f",
        "colab_type": "text"
      },
      "source": [
        "### Many built-in optimizers, losses, and metrics are available"
      ]
    },
    {
      "cell_type": "markdown",
      "metadata": {
        "id": "gRY9jF8baW89",
        "colab_type": "text"
      },
      "source": [
        "* Optimizers\n",
        "  * SDG() with or without momentum\n",
        "  * RMSprop()\n",
        "  * Adam()\n",
        "* Losses\n",
        "  * MeanSquaredError()\n",
        "  * KLDivergence()\n",
        "  * CosineSimilarity()\n",
        "* Metrics\n",
        "  * AUC()\n",
        "  * Precision()\n",
        "  * Recall()"
      ]
    },
    {
      "cell_type": "markdown",
      "metadata": {
        "id": "S6-ZhZkEaf3O",
        "colab_type": "text"
      },
      "source": [
        "### Custom losses"
      ]
    },
    {
      "cell_type": "markdown",
      "metadata": {
        "id": "owXHR-gmeZHD",
        "colab_type": "text"
      },
      "source": [
        "* 1st method"
      ]
    },
    {
      "cell_type": "code",
      "metadata": {
        "id": "A78qf_XjdODE",
        "colab_type": "code",
        "colab": {}
      },
      "source": [
        "def custom_mean_squared_error(y_true, y_pred):\n",
        "  return tf.math.reduce_mean(tf.square(y_true - y_pred))\n",
        "\n",
        "model = get_uncompiled_model()\n",
        "model.compile(\n",
        "    optimizer=keras.optimizers.Adam(),\n",
        "    loss=custom_mean_squared_error\n",
        ")"
      ],
      "execution_count": 17,
      "outputs": []
    },
    {
      "cell_type": "code",
      "metadata": {
        "id": "Zin2b7s_d0YN",
        "colab_type": "code",
        "colab": {
          "base_uri": "https://localhost:8080/",
          "height": 51
        },
        "outputId": "11badbc2-d98e-475f-c1a9-b1905c34d685"
      },
      "source": [
        "y_train_one_hot = tf.one_hot(y_train, depth=10)\n",
        "model.fit(x_train, y_train_one_hot, batch_size=64, epochs=1)"
      ],
      "execution_count": 18,
      "outputs": [
        {
          "output_type": "stream",
          "text": [
            "782/782 [==============================] - 1s 2ms/step - loss: 0.0160\n"
          ],
          "name": "stdout"
        },
        {
          "output_type": "execute_result",
          "data": {
            "text/plain": [
              "<tensorflow.python.keras.callbacks.History at 0x7f0b32cc7828>"
            ]
          },
          "metadata": {
            "tags": []
          },
          "execution_count": 18
        }
      ]
    },
    {
      "cell_type": "markdown",
      "metadata": {
        "id": "DTJjuHtIea5q",
        "colab_type": "text"
      },
      "source": [
        "* 2nd method"
      ]
    },
    {
      "cell_type": "markdown",
      "metadata": {
        "id": "_N2HpyOTfrVo",
        "colab_type": "text"
      },
      "source": [
        "* __init__(self): accept parameters to pass during the call of your loss function\n",
        "* call(self, y_true, y_pred): use the targets (y_true) and the model predictions (y_pred) to compute the model's loss"
      ]
    },
    {
      "cell_type": "code",
      "metadata": {
        "id": "7ERVusXTPHNk",
        "colab_type": "code",
        "colab": {
          "base_uri": "https://localhost:8080/",
          "height": 51
        },
        "outputId": "e1e40999-59b5-47af-8ae5-b4f1667cad15"
      },
      "source": [
        "class CustomMSE(keras.losses.Loss):\n",
        "  def __init__(self, regularization_factor=0.1, name='custom_mse'):\n",
        "    super().__init__(name=name)\n",
        "    self.regularization_factor = regularization_factor\n",
        "\n",
        "  def call(self, y_true, y_pred):\n",
        "    mse = tf.math.reduce_mean(tf.square(y_true - y_pred))\n",
        "    reg = tf.math.reduce_mean(tf.square(0.5 - y_pred))\n",
        "    return mse + reg * self.regularization_factor\n",
        "\n",
        "\n",
        "model = get_compiled_model()\n",
        "model.compile(optimizer=keras.optimizers.Adam(),\n",
        "              loss=CustomMSE())\n",
        "\n",
        "y_train_one_hot = tf.one_hot(y_train, depth=10)\n",
        "model.fit(x_train, y_train_one_hot, batch_size=64, epochs=1)"
      ],
      "execution_count": 19,
      "outputs": [
        {
          "output_type": "stream",
          "text": [
            "782/782 [==============================] - 2s 2ms/step - loss: 0.0389\n"
          ],
          "name": "stdout"
        },
        {
          "output_type": "execute_result",
          "data": {
            "text/plain": [
              "<tensorflow.python.keras.callbacks.History at 0x7f0b323f7860>"
            ]
          },
          "metadata": {
            "tags": []
          },
          "execution_count": 19
        }
      ]
    },
    {
      "cell_type": "markdown",
      "metadata": {
        "id": "qfStowMgaikf",
        "colab_type": "text"
      },
      "source": [
        "### Custom metrics"
      ]
    },
    {
      "cell_type": "markdown",
      "metadata": {
        "id": "x2ae4pI8f1Wb",
        "colab_type": "text"
      },
      "source": [
        "* __init__(self), in which you will create state variables for your metric.\n",
        "* update_state(self, y_true, y_pred, sample_weight=None), which uses the targets * y_true and the model predictions y_pred to update the state variables.\n",
        "* result(self), which uses the state variables to compute the final results.\n",
        "* reset_states(self), which reinitializes the state of the metric."
      ]
    },
    {
      "cell_type": "markdown",
      "metadata": {
        "id": "XE70J4PBg3NY",
        "colab_type": "text"
      },
      "source": [
        "* State update and results computation are kept separate (in update_state() and result(), respectively) because in some cases, results computation might be very expensive, and would only be done periodically."
      ]
    },
    {
      "cell_type": "code",
      "metadata": {
        "id": "-RgOAV4-g7js",
        "colab_type": "code",
        "colab": {}
      },
      "source": [
        "class CategoricalTruePositives(keras.metrics.Metric):\n",
        "  def __init__(self, name='categorical_true_positives', **kwargs):\n",
        "    super(CategoricalTruePositives, self).__init__(name=name, **kwargs)\n",
        "    self.true_positives = self.add_weight(name='ctp', initializer='zeros')\n",
        "\n",
        "  \n",
        "  def update_state(self, y_true, y_pred, sample_weight=None):\n",
        "    y_pred = tf.reshape(tf.argmax(y_pred, axis=1), shape=(-1, 1))\n",
        "    values = tf.cast(y_true, 'int32') == tf.cast(y_pred, 'int32')\n",
        "    values = tf.cast(values, 'float32')\n",
        "    if sample_weight is not None:\n",
        "      sample_weight = tf.cast(sample_weight, 'float32')\n",
        "      values = tf.multiply(values, sample_weight)\n",
        "    self.true_positives.assign_add(tf.reduce_sum(values))\n",
        "\n",
        "  \n",
        "  def result(self):\n",
        "    return self.true_positives\n",
        "\n",
        "  \n",
        "  def reset_states(self):\n",
        "  # The state of the metric will be reset at the start of each epoch.\n",
        "    self.true_positives.assign(0.0)"
      ],
      "execution_count": 20,
      "outputs": []
    },
    {
      "cell_type": "code",
      "metadata": {
        "id": "Ah4Qav2iK0Vl",
        "colab_type": "code",
        "colab": {
          "base_uri": "https://localhost:8080/",
          "height": 136
        },
        "outputId": "2f246b4a-d8a0-4499-86d0-073fbbbbbd12"
      },
      "source": [
        "model = get_uncompiled_model()\n",
        "model.compile(optimizer=keras.optimizers.RMSprop(learning_rate=1e-3),\n",
        "              loss=keras.losses.SparseCategoricalCrossentropy(),\n",
        "              metrics=[CategoricalTruePositives()])\n",
        "\n",
        "model.fit(x_train, y_train, batch_size=128, epochs=3)\n"
      ],
      "execution_count": 25,
      "outputs": [
        {
          "output_type": "stream",
          "text": [
            "Epoch 1/3\n",
            "391/391 [==============================] - 1s 3ms/step - loss: 0.4045 - categorical_true_positives: 44362.0000\n",
            "Epoch 2/3\n",
            "391/391 [==============================] - 1s 3ms/step - loss: 0.1909 - categorical_true_positives: 47172.0000\n",
            "Epoch 3/3\n",
            "391/391 [==============================] - 1s 3ms/step - loss: 0.1409 - categorical_true_positives: 47927.0000\n"
          ],
          "name": "stdout"
        },
        {
          "output_type": "execute_result",
          "data": {
            "text/plain": [
              "<tensorflow.python.keras.callbacks.History at 0x7f0b23480f60>"
            ]
          },
          "metadata": {
            "tags": []
          },
          "execution_count": 25
        }
      ]
    },
    {
      "cell_type": "markdown",
      "metadata": {
        "id": "A2ieKPfDalq0",
        "colab_type": "text"
      },
      "source": [
        "### Handling losses and metrics that don't fit the standard signature"
      ]
    },
    {
      "cell_type": "markdown",
      "metadata": {
        "id": "GmwP_eY0P-TF",
        "colab_type": "text"
      },
      "source": [
        "* The overwhelming majority of losses and metrics can be computed from y_true and y_pred, where y_pred is an output of your model. \n",
        "* But not all of them. For instance, a regularization loss may only require the activation of a layer (there are no targets in this case), and this activation may not be a model output.\n",
        "\n",
        "* In such cases, you can call self.add_loss(loss_value) from inside the call method of a custom layer. \n",
        "* Losses added in this way get added to the \"main\" loss during training (the one passed to compile()). \n",
        "* Here's a simple example that adds activity regularization (note that activity regularization is built-in in all Keras layers -- this layer is just for the sake of providing a concrete example):"
      ]
    },
    {
      "cell_type": "code",
      "metadata": {
        "id": "VpEONJB8Q_p8",
        "colab_type": "code",
        "colab": {
          "base_uri": "https://localhost:8080/",
          "height": 51
        },
        "outputId": "86dc71f4-dff0-4e0f-fb83-135cf430ee8b"
      },
      "source": [
        "class ActivityRegularizationLayer(layers.Layer):\n",
        "  def call(self, inputs):\n",
        "    self.add_loss(tf.reduce_sum(inputs) * 0.1)\n",
        "    return inputs  # pass through layer\n",
        "\n",
        "\n",
        "inputs = keras.Input(shape=(784,), name='digits')\n",
        "x = layers.Dense(64, activation='relu', name='dense_1')(inputs)\n",
        "\n",
        "# insert activity regurlarization as a layer\n",
        "x = ActivityRegularizationLayer()(x)\n",
        "\n",
        "x = layers.Dense(64, activation='relu', name='dense_2')(x)\n",
        "outputs = layers.Dense(10, name='predictions')(x)\n",
        "\n",
        "model = keras.Model(inputs=inputs, outputs=outputs)\n",
        "model.compile(optimizer=keras.optimizers.RMSprop(learning_rate=1e-3),\n",
        "              loss=keras.losses.SparseCategoricalCrossentropy(from_logits=True))\n",
        "\n",
        "model.fit(x_train, y_train, batch_size=128, epochs=1)"
      ],
      "execution_count": 27,
      "outputs": [
        {
          "output_type": "stream",
          "text": [
            "391/391 [==============================] - 1s 2ms/step - loss: 2.9481\n"
          ],
          "name": "stdout"
        },
        {
          "output_type": "execute_result",
          "data": {
            "text/plain": [
              "<tensorflow.python.keras.callbacks.History at 0x7f0b21255dd8>"
            ]
          },
          "metadata": {
            "tags": []
          },
          "execution_count": 27
        }
      ]
    },
    {
      "cell_type": "markdown",
      "metadata": {
        "id": "1qvxmcEVVwpd",
        "colab_type": "text"
      },
      "source": [
        "* You can do the same for logging metric values, using add_metric():"
      ]
    },
    {
      "cell_type": "code",
      "metadata": {
        "id": "LG3xV96tVwDL",
        "colab_type": "code",
        "colab": {
          "base_uri": "https://localhost:8080/",
          "height": 51
        },
        "outputId": "4b9b0570-f7c1-4531-e488-73cd40b32c54"
      },
      "source": [
        "class MetricLoggingLayer(layers.Layer):\n",
        "  def call(self, inputs):\n",
        "    self.add_metric(keras.backend.std(inputs), \n",
        "                    name='std_of_activation', \n",
        "                    aggregation='mean')\n",
        "    return inputs\n",
        "\n",
        "\n",
        "inputs = keras.Input(shape=(784,), name=\"digits\")\n",
        "x = layers.Dense(64, activation=\"relu\", name=\"dense_1\")(inputs)\n",
        "\n",
        "# Insert std logging as a layer.\n",
        "x = MetricLoggingLayer()(x)\n",
        "\n",
        "x = layers.Dense(64, activation=\"relu\", name=\"dense_2\")(x)\n",
        "outputs = layers.Dense(10, name=\"predictions\")(x)\n",
        "\n",
        "model = keras.Model(inputs=inputs, outputs=outputs)\n",
        "model.compile(\n",
        "    optimizer=keras.optimizers.RMSprop(learning_rate=1e-3),\n",
        "    loss=keras.losses.SparseCategoricalCrossentropy(from_logits=True),\n",
        ")\n",
        "model.fit(x_train, y_train, batch_size=64, epochs=1)"
      ],
      "execution_count": 28,
      "outputs": [
        {
          "output_type": "stream",
          "text": [
            "782/782 [==============================] - 2s 2ms/step - loss: 0.3321 - std_of_activation: 0.9955\n"
          ],
          "name": "stdout"
        },
        {
          "output_type": "execute_result",
          "data": {
            "text/plain": [
              "<tensorflow.python.keras.callbacks.History at 0x7f0b1f06c1d0>"
            ]
          },
          "metadata": {
            "tags": []
          },
          "execution_count": 28
        }
      ]
    },
    {
      "cell_type": "markdown",
      "metadata": {
        "id": "lU-g-f8IWxvw",
        "colab_type": "text"
      },
      "source": [
        "* In the Functional API, you can also call \n",
        "* model.add_loss(loss_tensor), or \n",
        "* model.add_metric(metric_tensor, name, aggregation)."
      ]
    },
    {
      "cell_type": "code",
      "metadata": {
        "id": "R_NBIKNOXYdW",
        "colab_type": "code",
        "colab": {
          "base_uri": "https://localhost:8080/",
          "height": 51
        },
        "outputId": "d8c194c8-d827-4ff4-8125-afc6e20fdba2"
      },
      "source": [
        "inputs = keras.Input(shape=(784,), name='digits')\n",
        "x1 = layers.Dense(64, 'relu', name='dense1')(inputs)\n",
        "x2 = layers.Dense(64, 'relu', name='dense2')(x1)\n",
        "outputs = layers.Dense(10, name='predictions')(x2)\n",
        "model = keras.Model(inputs=inputs, outputs=outputs)\n",
        "\n",
        "model.add_loss(tf.reduce_sum(x1) * 0.1)\n",
        "model.add_metric(keras.backend.std(x1), name='std_of_activation', aggregation='mean')\n",
        "\n",
        "model.compile(optimizer=keras.optimizers.RMSprop(learning_rate=1e-3),\n",
        "              loss=keras.losses.SparseCategoricalCrossentropy(from_logits=True))\n",
        "model.fit(x_train, y_train, batch_size=256, epochs=1)"
      ],
      "execution_count": 30,
      "outputs": [
        {
          "output_type": "stream",
          "text": [
            "196/196 [==============================] - 1s 3ms/step - loss: 5.9384 - std_of_activation: 0.0074\n"
          ],
          "name": "stdout"
        },
        {
          "output_type": "execute_result",
          "data": {
            "text/plain": [
              "<tensorflow.python.keras.callbacks.History at 0x7f0b1e721208>"
            ]
          },
          "metadata": {
            "tags": []
          },
          "execution_count": 30
        }
      ]
    },
    {
      "cell_type": "markdown",
      "metadata": {
        "id": "X5lgNUO_a35-",
        "colab_type": "text"
      },
      "source": [
        "* Note that when you pass losses via add_loss(), it becomes possible to call compile() without a loss function, since the model already has a loss to minimize.\n",
        "* Consider the following LogisticEndpoint layer: it takes as inputs targets & logits, and it tracks a crossentropy loss via add_loss(). It also tracks classification accuracy via add_metric()."
      ]
    },
    {
      "cell_type": "code",
      "metadata": {
        "id": "y9Y6Dzbua_Px",
        "colab_type": "code",
        "colab": {}
      },
      "source": [
        ""
      ],
      "execution_count": null,
      "outputs": []
    },
    {
      "cell_type": "markdown",
      "metadata": {
        "id": "52r554lBascH",
        "colab_type": "text"
      },
      "source": [
        "### Automatically setting apart a validation holdout set"
      ]
    },
    {
      "cell_type": "markdown",
      "metadata": {
        "id": "YQO0LHUvevNA",
        "colab_type": "text"
      },
      "source": [
        "# Training & evaluation from tf.data Datasets"
      ]
    },
    {
      "cell_type": "code",
      "metadata": {
        "id": "XLLY4evGewFu",
        "colab_type": "code",
        "colab": {}
      },
      "source": [
        ""
      ],
      "execution_count": 19,
      "outputs": []
    }
  ]
}