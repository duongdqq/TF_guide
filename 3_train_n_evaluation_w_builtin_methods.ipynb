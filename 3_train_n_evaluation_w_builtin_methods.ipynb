{
  "nbformat": 4,
  "nbformat_minor": 0,
  "metadata": {
    "colab": {
      "name": "3_train_n_evaluation_w_builtin_methods.ipynb",
      "provenance": [],
      "collapsed_sections": [
        "PoCow1m6gaF_",
        "KUZlHV_jgkZR"
      ],
      "authorship_tag": "ABX9TyOJrZa0/ww4hwCejwUfM7zh",
      "include_colab_link": true
    },
    "kernelspec": {
      "name": "python3",
      "display_name": "Python 3"
    },
    "accelerator": "TPU"
  },
  "cells": [
    {
      "cell_type": "markdown",
      "metadata": {
        "id": "view-in-github",
        "colab_type": "text"
      },
      "source": [
        "<a href=\"https://colab.research.google.com/github/duongdqq/TF_guide/blob/master/3_train_n_evaluation_w_builtin_methods.ipynb\" target=\"_parent\"><img src=\"https://colab.research.google.com/assets/colab-badge.svg\" alt=\"Open In Colab\"/></a>"
      ]
    },
    {
      "cell_type": "code",
      "metadata": {
        "id": "vtr67YAvtI7x"
      },
      "source": [
        "import tensorflow as tf\n",
        "from tensorflow import keras\n",
        "from tensorflow.keras import layers"
      ],
      "execution_count": 49,
      "outputs": []
    },
    {
      "cell_type": "markdown",
      "metadata": {
        "id": "xNzVwBbMsb9d"
      },
      "source": [
        "# API overview: a first end-to-end example"
      ]
    },
    {
      "cell_type": "code",
      "metadata": {
        "id": "BsTemSzGStn9"
      },
      "source": [
        "inputs = keras.Input(shape=(784,), name='digits')\n",
        "x = layers.Dense(64, activation='relu', name='dense_1')(inputs)\n",
        "x = layers.Dense(64, activation='relu', name='dense_2')(x)\n",
        "outputs = layers.Dense(10, activation='softmax', name='predictions')(x)\n",
        "\n",
        "model = keras.Model(inputs=inputs, outputs=outputs)"
      ],
      "execution_count": 50,
      "outputs": []
    },
    {
      "cell_type": "code",
      "metadata": {
        "id": "D0q84zbNtHeQ"
      },
      "source": [
        "(x_train, y_train), (x_test, y_test) = keras.datasets.mnist.load_data()"
      ],
      "execution_count": 51,
      "outputs": []
    },
    {
      "cell_type": "code",
      "metadata": {
        "id": "muNQYNSNJcZv",
        "outputId": "a92114f8-9482-4997-a7ed-548ca68a8646",
        "colab": {
          "base_uri": "https://localhost:8080/",
          "height": 51
        }
      },
      "source": [
        "print(len(x_train))\n",
        "print(len(x_test))\n",
        "x_train = x_train.reshape(60000, 784).astype('float32') / 255\n",
        "x_test = x_test.reshape(10000, 784).astype('float32') / 255\n",
        "\n",
        "y_train = y_train.astype('float32')\n",
        "y_test = y_test.astype('float32')\n",
        "\n",
        "x_val = x_train[-10000:]\n",
        "y_val = y_train[-10000:]\n",
        "x_train = x_train[:-10000]\n",
        "y_train = y_train[:-10000]"
      ],
      "execution_count": 52,
      "outputs": [
        {
          "output_type": "stream",
          "text": [
            "60000\n",
            "10000\n"
          ],
          "name": "stdout"
        }
      ]
    },
    {
      "cell_type": "code",
      "metadata": {
        "id": "cqnOGN3tJrsf",
        "outputId": "f715ece4-90ec-4e64-e7c4-1e202bfb6fba",
        "colab": {
          "base_uri": "https://localhost:8080/",
          "height": 136
        }
      },
      "source": [
        "print(len(x_train))\n",
        "print(len(x_val))\n",
        "print(len(x_test))\n",
        "print('-'*10)\n",
        "print(len(y_train))\n",
        "print(len(y_val))\n",
        "print(len(y_test))"
      ],
      "execution_count": 53,
      "outputs": [
        {
          "output_type": "stream",
          "text": [
            "50000\n",
            "10000\n",
            "10000\n",
            "----------\n",
            "50000\n",
            "10000\n",
            "10000\n"
          ],
          "name": "stdout"
        }
      ]
    },
    {
      "cell_type": "code",
      "metadata": {
        "id": "cB99cvfDKZJV"
      },
      "source": [
        "# specify the training configuration\n",
        "model.compile(\n",
        "    optimizer=keras.optimizers.RMSprop(),\n",
        "    loss=keras.losses.SparseCategoricalCrossentropy(),\n",
        "    metrics=[keras.metrics.SparseCategoricalAccuracy()]\n",
        ")"
      ],
      "execution_count": 54,
      "outputs": []
    },
    {
      "cell_type": "code",
      "metadata": {
        "id": "34lbGarkNEnZ",
        "outputId": "4fd901ed-bbd5-47cb-d9f6-e7af7c1b270a",
        "colab": {
          "base_uri": "https://localhost:8080/",
          "height": 105
        }
      },
      "source": [
        "# call fit() to slide data into batches\n",
        "history = model.fit(\n",
        "    x_train,\n",
        "    y_train,\n",
        "    batch_size=64,\n",
        "    epochs=2,\n",
        "    validation_data=(x_val, y_val)\n",
        ") "
      ],
      "execution_count": 55,
      "outputs": [
        {
          "output_type": "stream",
          "text": [
            "Epoch 1/2\n",
            "782/782 [==============================] - 2s 2ms/step - loss: 0.3370 - sparse_categorical_accuracy: 0.9052 - val_loss: 0.1926 - val_sparse_categorical_accuracy: 0.9469\n",
            "Epoch 2/2\n",
            "782/782 [==============================] - 2s 2ms/step - loss: 0.1581 - sparse_categorical_accuracy: 0.9535 - val_loss: 0.1307 - val_sparse_categorical_accuracy: 0.9624\n"
          ],
          "name": "stdout"
        }
      ]
    },
    {
      "cell_type": "code",
      "metadata": {
        "id": "ib5WhrxoNwBs",
        "outputId": "330c7283-1545-408d-83fd-bc7639681da6",
        "colab": {
          "base_uri": "https://localhost:8080/",
          "height": 85
        }
      },
      "source": [
        "# history holds record of the loss values and metric values during training\n",
        "history.history"
      ],
      "execution_count": 56,
      "outputs": [
        {
          "output_type": "execute_result",
          "data": {
            "text/plain": [
              "{'loss': [0.33696964383125305, 0.158108651638031],\n",
              " 'sparse_categorical_accuracy': [0.9051600098609924, 0.9535199999809265],\n",
              " 'val_loss': [0.19258376955986023, 0.13067319989204407],\n",
              " 'val_sparse_categorical_accuracy': [0.9469000101089478, 0.9624000191688538]}"
            ]
          },
          "metadata": {
            "tags": []
          },
          "execution_count": 56
        }
      ]
    },
    {
      "cell_type": "code",
      "metadata": {
        "id": "b50Zi8DQPQ18",
        "outputId": "053e4541-2ac4-4190-a82c-92ae783c495c",
        "colab": {
          "base_uri": "https://localhost:8080/",
          "height": 34
        }
      },
      "source": [
        "# evaluate model on the test data\n",
        "results = model.evaluate(x_val, y_val, batch_size=128)"
      ],
      "execution_count": 57,
      "outputs": [
        {
          "output_type": "stream",
          "text": [
            "79/79 [==============================] - 0s 1ms/step - loss: 0.1307 - sparse_categorical_accuracy: 0.9624\n"
          ],
          "name": "stdout"
        }
      ]
    },
    {
      "cell_type": "code",
      "metadata": {
        "id": "4RZTnKUTYLGN",
        "outputId": "06fe2809-4b22-4340-8851-f2c5d505aed1",
        "colab": {
          "base_uri": "https://localhost:8080/",
          "height": 170
        }
      },
      "source": [
        "predictions = model.predict(x_test[:3])\n",
        "predictions"
      ],
      "execution_count": 58,
      "outputs": [
        {
          "output_type": "execute_result",
          "data": {
            "text/plain": [
              "array([[2.90244088e-06, 1.83373785e-07, 2.88954587e-04, 3.35387624e-04,\n",
              "        8.55224780e-09, 2.74164881e-06, 1.74435411e-10, 9.99348342e-01,\n",
              "        2.87892863e-06, 1.85877871e-05],\n",
              "       [1.04839070e-04, 2.59855355e-04, 9.98557150e-01, 1.05859537e-03,\n",
              "        4.52650167e-10, 7.09124015e-06, 3.83009865e-06, 1.70186269e-07,\n",
              "        8.47966749e-06, 1.73505406e-08],\n",
              "       [1.21268109e-04, 9.94431674e-01, 1.61981746e-03, 1.44066449e-04,\n",
              "        2.22408096e-04, 6.29434871e-05, 1.95612767e-04, 2.95745302e-03,\n",
              "        1.13250535e-04, 1.31512061e-04]], dtype=float32)"
            ]
          },
          "metadata": {
            "tags": []
          },
          "execution_count": 58
        }
      ]
    },
    {
      "cell_type": "code",
      "metadata": {
        "id": "YnvUqcKDYlTH",
        "outputId": "5fb17a3c-e694-4b99-abe7-bd6d0d54badd",
        "colab": {
          "base_uri": "https://localhost:8080/",
          "height": 34
        }
      },
      "source": [
        "predictions.shape"
      ],
      "execution_count": 59,
      "outputs": [
        {
          "output_type": "execute_result",
          "data": {
            "text/plain": [
              "(3, 10)"
            ]
          },
          "metadata": {
            "tags": []
          },
          "execution_count": 59
        }
      ]
    },
    {
      "cell_type": "markdown",
      "metadata": {
        "id": "Aeof2OUOZ_m-"
      },
      "source": [
        "# The compile() method: specifying a loss, metrics, and an optimizer"
      ]
    },
    {
      "cell_type": "markdown",
      "metadata": {
        "id": "pyjkbqgQYCPX"
      },
      "source": [
        "* Specify optimizer, loss function and metrics by model.compile()"
      ]
    },
    {
      "cell_type": "code",
      "metadata": {
        "id": "g-8vBFUGYq0m"
      },
      "source": [
        "inputs = keras.Input(shape=(784,), name='digits')\n",
        "x = layers.Dense(64, activation='relu', name='dense_1')(inputs)\n",
        "x = layers.Dense(64, activation='relu', name='dense_2')(x)\n",
        "outputs = layers.Dense(10, activation='softmax', name='predictions')(x)\n",
        "\n",
        "model = keras.Model(inputs=inputs, outputs=outputs)"
      ],
      "execution_count": 60,
      "outputs": []
    },
    {
      "cell_type": "markdown",
      "metadata": {
        "id": "Dm90V1vdZGyP"
      },
      "source": [
        "* 1st method"
      ]
    },
    {
      "cell_type": "code",
      "metadata": {
        "id": "bgotW7R0YI44"
      },
      "source": [
        "model.compile(\n",
        "    optimizer=keras.optimizers.RMSprop(learning_rate=1e-3),\n",
        "    loss=keras.losses.SparseCategoricalCrossentropy(),\n",
        "    metrics=[keras.metrics.SparseCategoricalAccuracy()]\n",
        ")"
      ],
      "execution_count": 61,
      "outputs": []
    },
    {
      "cell_type": "markdown",
      "metadata": {
        "id": "vhihRto3Y2fI"
      },
      "source": [
        "* If model has multiple outputs, specify different losses and metrics for each output, and modulate the contribution of each output to the total loss of the model"
      ]
    },
    {
      "cell_type": "markdown",
      "metadata": {
        "id": "yz74j5jPZJc4"
      },
      "source": [
        "* 2nd method"
      ]
    },
    {
      "cell_type": "code",
      "metadata": {
        "id": "MuZF3TGZZDtp"
      },
      "source": [
        "model.compile(\n",
        "    optimizer='rmsprop',\n",
        "    loss='sparse_categorical_crossentropy',\n",
        "    metrics=['sparse_categorical_accuracy']\n",
        ")"
      ],
      "execution_count": 62,
      "outputs": []
    },
    {
      "cell_type": "markdown",
      "metadata": {
        "id": "TwehJBbtZo4O"
      },
      "source": [
        "* For later reuse, put the model definition and compile step in function"
      ]
    },
    {
      "cell_type": "code",
      "metadata": {
        "id": "Pd4Oz_q9Z4e5"
      },
      "source": [
        "def get_uncompiled_model():\n",
        "  inputs = keras.Input(shape=(784,), name='digits')\n",
        "  x = layers.Dense(64, activation='relu', name='dense_1')(inputs)\n",
        "  x = layers.Dense(64, activation='relu', name='dense_2')(x)\n",
        "  outputs = layers.Dense(10, activation='softmax', name='predictions')(x)\n",
        "  model = keras.Model(inputs=inputs, outputs=outputs)\n",
        "  return model"
      ],
      "execution_count": 63,
      "outputs": []
    },
    {
      "cell_type": "code",
      "metadata": {
        "id": "2bnbJP9JaGSH"
      },
      "source": [
        "def get_compiled_model():\n",
        "  model = get_uncompiled_model()\n",
        "  model.compile(\n",
        "    optimizer='rmsprop',\n",
        "    loss='sparse_categorical_crossentropy',\n",
        "    metrics=['sparse_categorical_accuracy']\n",
        "  )\n",
        "  return model"
      ],
      "execution_count": 64,
      "outputs": []
    },
    {
      "cell_type": "markdown",
      "metadata": {
        "id": "KRwHHKBFac7f"
      },
      "source": [
        "### Many built-in optimizers, losses, and metrics are available"
      ]
    },
    {
      "cell_type": "markdown",
      "metadata": {
        "id": "gRY9jF8baW89"
      },
      "source": [
        "* Optimizers\n",
        "  * SDG() with or without momentum\n",
        "  * RMSprop()\n",
        "  * Adam()\n",
        "* Losses\n",
        "  * MeanSquaredError()\n",
        "  * KLDivergence()\n",
        "  * CosineSimilarity()\n",
        "* Metrics\n",
        "  * AUC()\n",
        "  * Precision()\n",
        "  * Recall()"
      ]
    },
    {
      "cell_type": "markdown",
      "metadata": {
        "id": "S6-ZhZkEaf3O"
      },
      "source": [
        "### Custom losses"
      ]
    },
    {
      "cell_type": "markdown",
      "metadata": {
        "id": "owXHR-gmeZHD"
      },
      "source": [
        "* 1st method"
      ]
    },
    {
      "cell_type": "code",
      "metadata": {
        "id": "A78qf_XjdODE"
      },
      "source": [
        "def custom_mean_squared_error(y_true, y_pred):\n",
        "  return tf.math.reduce_mean(tf.square(y_true - y_pred))\n",
        "\n",
        "model = get_uncompiled_model()\n",
        "model.compile(\n",
        "    optimizer=keras.optimizers.Adam(),\n",
        "    loss=custom_mean_squared_error\n",
        ")"
      ],
      "execution_count": 65,
      "outputs": []
    },
    {
      "cell_type": "code",
      "metadata": {
        "id": "Zin2b7s_d0YN",
        "outputId": "eb86d14a-727a-4736-bc1d-ba7c30451116",
        "colab": {
          "base_uri": "https://localhost:8080/",
          "height": 51
        }
      },
      "source": [
        "y_train_one_hot = tf.one_hot(y_train, depth=10)\n",
        "model.fit(x_train, y_train_one_hot, batch_size=64, epochs=1)"
      ],
      "execution_count": 66,
      "outputs": [
        {
          "output_type": "stream",
          "text": [
            "782/782 [==============================] - 2s 2ms/step - loss: 0.0160\n"
          ],
          "name": "stdout"
        },
        {
          "output_type": "execute_result",
          "data": {
            "text/plain": [
              "<tensorflow.python.keras.callbacks.History at 0x7fcd8acfd828>"
            ]
          },
          "metadata": {
            "tags": []
          },
          "execution_count": 66
        }
      ]
    },
    {
      "cell_type": "markdown",
      "metadata": {
        "id": "DTJjuHtIea5q"
      },
      "source": [
        "* 2nd method"
      ]
    },
    {
      "cell_type": "markdown",
      "metadata": {
        "id": "_N2HpyOTfrVo"
      },
      "source": [
        "* __init__(self): accept parameters to pass during the call of your loss function\n",
        "* call(self, y_true, y_pred): use the targets (y_true) and the model predictions (y_pred) to compute the model's loss"
      ]
    },
    {
      "cell_type": "code",
      "metadata": {
        "id": "7ERVusXTPHNk",
        "outputId": "7c608cad-b555-4eda-8758-e8cc0cf0e875",
        "colab": {
          "base_uri": "https://localhost:8080/",
          "height": 51
        }
      },
      "source": [
        "class CustomMSE(keras.losses.Loss):\n",
        "  def __init__(self, regularization_factor=0.1, name='custom_mse'):\n",
        "    super().__init__(name=name)\n",
        "    self.regularization_factor = regularization_factor\n",
        "\n",
        "  def call(self, y_true, y_pred):\n",
        "    mse = tf.math.reduce_mean(tf.square(y_true - y_pred))\n",
        "    reg = tf.math.reduce_mean(tf.square(0.5 - y_pred))\n",
        "    return mse + reg * self.regularization_factor\n",
        "\n",
        "\n",
        "model = get_compiled_model()\n",
        "model.compile(optimizer=keras.optimizers.Adam(),\n",
        "              loss=CustomMSE())\n",
        "\n",
        "y_train_one_hot = tf.one_hot(y_train, depth=10)\n",
        "model.fit(x_train, y_train_one_hot, batch_size=64, epochs=1)"
      ],
      "execution_count": 67,
      "outputs": [
        {
          "output_type": "stream",
          "text": [
            "782/782 [==============================] - 3s 3ms/step - loss: 0.0387\n"
          ],
          "name": "stdout"
        },
        {
          "output_type": "execute_result",
          "data": {
            "text/plain": [
              "<tensorflow.python.keras.callbacks.History at 0x7fcd8ab9cf60>"
            ]
          },
          "metadata": {
            "tags": []
          },
          "execution_count": 67
        }
      ]
    },
    {
      "cell_type": "markdown",
      "metadata": {
        "id": "qfStowMgaikf"
      },
      "source": [
        "### Custom metrics"
      ]
    },
    {
      "cell_type": "markdown",
      "metadata": {
        "id": "x2ae4pI8f1Wb"
      },
      "source": [
        "* __init__(self), in which you will create state variables for your metric.\n",
        "* update_state(self, y_true, y_pred, sample_weight=None), which uses the targets * y_true and the model predictions y_pred to update the state variables.\n",
        "* result(self), which uses the state variables to compute the final results.\n",
        "* reset_states(self), which reinitializes the state of the metric."
      ]
    },
    {
      "cell_type": "markdown",
      "metadata": {
        "id": "XE70J4PBg3NY"
      },
      "source": [
        "* State update and results computation are kept separate (in update_state() and result(), respectively) because in some cases, results computation might be very expensive, and would only be done periodically."
      ]
    },
    {
      "cell_type": "code",
      "metadata": {
        "id": "-RgOAV4-g7js"
      },
      "source": [
        "class CategoricalTruePositives(keras.metrics.Metric):\n",
        "  def __init__(self, name='categorical_true_positives', **kwargs):\n",
        "    super(CategoricalTruePositives, self).__init__(name=name, **kwargs)\n",
        "    self.true_positives = self.add_weight(name='ctp', initializer='zeros')\n",
        "\n",
        "  \n",
        "  def update_state(self, y_true, y_pred, sample_weight=None):\n",
        "    y_pred = tf.reshape(tf.argmax(y_pred, axis=1), shape=(-1, 1))\n",
        "    values = tf.cast(y_true, 'int32') == tf.cast(y_pred, 'int32')\n",
        "    values = tf.cast(values, 'float32')\n",
        "    if sample_weight is not None:\n",
        "      sample_weight = tf.cast(sample_weight, 'float32')\n",
        "      values = tf.multiply(values, sample_weight)\n",
        "    self.true_positives.assign_add(tf.reduce_sum(values))\n",
        "\n",
        "  \n",
        "  def result(self):\n",
        "    return self.true_positives\n",
        "\n",
        "  \n",
        "  def reset_states(self):\n",
        "  # The state of the metric will be reset at the start of each epoch.\n",
        "    self.true_positives.assign(0.0)"
      ],
      "execution_count": 68,
      "outputs": []
    },
    {
      "cell_type": "code",
      "metadata": {
        "id": "Ah4Qav2iK0Vl",
        "outputId": "3e28fc20-0590-4099-cf7e-b77d7407830a",
        "colab": {
          "base_uri": "https://localhost:8080/",
          "height": 136
        }
      },
      "source": [
        "model = get_uncompiled_model()\n",
        "model.compile(optimizer=keras.optimizers.RMSprop(learning_rate=1e-3),\n",
        "              loss=keras.losses.SparseCategoricalCrossentropy(),\n",
        "              metrics=[CategoricalTruePositives()])\n",
        "\n",
        "model.fit(x_train, y_train, batch_size=128, epochs=3)\n"
      ],
      "execution_count": 69,
      "outputs": [
        {
          "output_type": "stream",
          "text": [
            "Epoch 1/3\n",
            "391/391 [==============================] - 1s 3ms/step - loss: 0.3975 - categorical_true_positives: 44462.0000\n",
            "Epoch 2/3\n",
            "391/391 [==============================] - 1s 3ms/step - loss: 0.1924 - categorical_true_positives: 47199.0000\n",
            "Epoch 3/3\n",
            "391/391 [==============================] - 1s 3ms/step - loss: 0.1443 - categorical_true_positives: 47882.0000\n"
          ],
          "name": "stdout"
        },
        {
          "output_type": "execute_result",
          "data": {
            "text/plain": [
              "<tensorflow.python.keras.callbacks.History at 0x7fcd8ab00d68>"
            ]
          },
          "metadata": {
            "tags": []
          },
          "execution_count": 69
        }
      ]
    },
    {
      "cell_type": "markdown",
      "metadata": {
        "id": "A2ieKPfDalq0"
      },
      "source": [
        "### Handling losses and metrics that don't fit the standard signature"
      ]
    },
    {
      "cell_type": "markdown",
      "metadata": {
        "id": "GmwP_eY0P-TF"
      },
      "source": [
        "* The overwhelming majority of losses and metrics can be computed from y_true and y_pred, where y_pred is an output of your model. \n",
        "* But not all of them. For instance, a regularization loss may only require the activation of a layer (there are no targets in this case), and this activation may not be a model output.\n",
        "\n",
        "* In such cases, you can call self.add_loss(loss_value) from inside the call method of a custom layer. \n",
        "* Losses added in this way get added to the \"main\" loss during training (the one passed to compile()). \n",
        "* Here's a simple example that adds activity regularization (note that activity regularization is built-in in all Keras layers -- this layer is just for the sake of providing a concrete example):"
      ]
    },
    {
      "cell_type": "code",
      "metadata": {
        "id": "VpEONJB8Q_p8",
        "outputId": "dc124225-5988-44bd-9802-71dcd0945ad1",
        "colab": {
          "base_uri": "https://localhost:8080/",
          "height": 51
        }
      },
      "source": [
        "class ActivityRegularizationLayer(layers.Layer):\n",
        "  def call(self, inputs):\n",
        "    self.add_loss(tf.reduce_sum(inputs) * 0.1)\n",
        "    return inputs  # pass through layer\n",
        "\n",
        "\n",
        "inputs = keras.Input(shape=(784,), name='digits')\n",
        "x = layers.Dense(64, activation='relu', name='dense_1')(inputs)\n",
        "\n",
        "# insert activity regurlarization as a layer\n",
        "x = ActivityRegularizationLayer()(x)\n",
        "\n",
        "x = layers.Dense(64, activation='relu', name='dense_2')(x)\n",
        "outputs = layers.Dense(10, name='predictions')(x)\n",
        "\n",
        "model = keras.Model(inputs=inputs, outputs=outputs)\n",
        "model.compile(optimizer=keras.optimizers.RMSprop(learning_rate=1e-3),\n",
        "              loss=keras.losses.SparseCategoricalCrossentropy(from_logits=True))\n",
        "\n",
        "model.fit(x_train, y_train, batch_size=128, epochs=1)"
      ],
      "execution_count": 70,
      "outputs": [
        {
          "output_type": "stream",
          "text": [
            "391/391 [==============================] - 1s 3ms/step - loss: 3.0167\n"
          ],
          "name": "stdout"
        },
        {
          "output_type": "execute_result",
          "data": {
            "text/plain": [
              "<tensorflow.python.keras.callbacks.History at 0x7fcd8a9aefd0>"
            ]
          },
          "metadata": {
            "tags": []
          },
          "execution_count": 70
        }
      ]
    },
    {
      "cell_type": "markdown",
      "metadata": {
        "id": "1qvxmcEVVwpd"
      },
      "source": [
        "* You can do the same for logging metric values, using add_metric():"
      ]
    },
    {
      "cell_type": "code",
      "metadata": {
        "id": "LG3xV96tVwDL",
        "outputId": "1f5e84a0-d806-420e-fe51-ffc1e705dc5e",
        "colab": {
          "base_uri": "https://localhost:8080/",
          "height": 51
        }
      },
      "source": [
        "class MetricLoggingLayer(layers.Layer):\n",
        "  def call(self, inputs):\n",
        "    self.add_metric(keras.backend.std(inputs), \n",
        "                    name='std_of_activation', \n",
        "                    aggregation='mean')\n",
        "    return inputs\n",
        "\n",
        "\n",
        "inputs = keras.Input(shape=(784,), name=\"digits\")\n",
        "x = layers.Dense(64, activation=\"relu\", name=\"dense_1\")(inputs)\n",
        "\n",
        "# Insert std logging as a layer.\n",
        "x = MetricLoggingLayer()(x)\n",
        "\n",
        "x = layers.Dense(64, activation=\"relu\", name=\"dense_2\")(x)\n",
        "outputs = layers.Dense(10, name=\"predictions\")(x)\n",
        "\n",
        "model = keras.Model(inputs=inputs, outputs=outputs)\n",
        "model.compile(\n",
        "    optimizer=keras.optimizers.RMSprop(learning_rate=1e-3),\n",
        "    loss=keras.losses.SparseCategoricalCrossentropy(from_logits=True),\n",
        ")\n",
        "model.fit(x_train, y_train, batch_size=64, epochs=1)"
      ],
      "execution_count": 71,
      "outputs": [
        {
          "output_type": "stream",
          "text": [
            "782/782 [==============================] - 1s 2ms/step - loss: 0.3457 - std_of_activation: 0.9714\n"
          ],
          "name": "stdout"
        },
        {
          "output_type": "execute_result",
          "data": {
            "text/plain": [
              "<tensorflow.python.keras.callbacks.History at 0x7fcd8aeb80f0>"
            ]
          },
          "metadata": {
            "tags": []
          },
          "execution_count": 71
        }
      ]
    },
    {
      "cell_type": "markdown",
      "metadata": {
        "id": "lU-g-f8IWxvw"
      },
      "source": [
        "* In the Functional API, you can also call \n",
        "* model.add_loss(loss_tensor), or \n",
        "* model.add_metric(metric_tensor, name, aggregation)."
      ]
    },
    {
      "cell_type": "code",
      "metadata": {
        "id": "R_NBIKNOXYdW",
        "outputId": "444c5424-00a2-48fd-fffd-5f74903a9f10",
        "colab": {
          "base_uri": "https://localhost:8080/",
          "height": 51
        }
      },
      "source": [
        "inputs = keras.Input(shape=(784,), name='digits')\n",
        "x1 = layers.Dense(64, 'relu', name='dense1')(inputs)\n",
        "x2 = layers.Dense(64, 'relu', name='dense2')(x1)\n",
        "outputs = layers.Dense(10, name='predictions')(x2)\n",
        "model = keras.Model(inputs=inputs, outputs=outputs)\n",
        "\n",
        "model.add_loss(tf.reduce_sum(x1) * 0.1)\n",
        "model.add_metric(keras.backend.std(x1), name='std_of_activation', aggregation='mean')\n",
        "\n",
        "model.compile(optimizer=keras.optimizers.RMSprop(learning_rate=1e-3),\n",
        "              loss=keras.losses.SparseCategoricalCrossentropy(from_logits=True))\n",
        "model.fit(x_train, y_train, batch_size=256, epochs=1)"
      ],
      "execution_count": 72,
      "outputs": [
        {
          "output_type": "stream",
          "text": [
            "196/196 [==============================] - 1s 3ms/step - loss: 5.1813 - std_of_activation: 0.0067\n"
          ],
          "name": "stdout"
        },
        {
          "output_type": "execute_result",
          "data": {
            "text/plain": [
              "<tensorflow.python.keras.callbacks.History at 0x7fcd8ac06ac8>"
            ]
          },
          "metadata": {
            "tags": []
          },
          "execution_count": 72
        }
      ]
    },
    {
      "cell_type": "markdown",
      "metadata": {
        "id": "X5lgNUO_a35-"
      },
      "source": [
        "* Note that when you pass losses via add_loss(), it becomes possible to call compile() without a loss function, since the model already has a loss to minimize.\n",
        "* Consider the following LogisticEndpoint layer: it takes as inputs targets & logits, and it tracks a crossentropy loss via add_loss(). It also tracks classification accuracy via add_metric()."
      ]
    },
    {
      "cell_type": "code",
      "metadata": {
        "id": "y9Y6Dzbua_Px"
      },
      "source": [
        "class LogisticEndpoint(keras.layers.Layer):\n",
        "  def __init__(self, name=None):\n",
        "    super(LogisticEndpoint, self).__init__(name=name)\n",
        "    self.loss_fn = keras.losses.BinaryCrossentropy(from_logits=True)\n",
        "    self.accuracy_fn = keras.metrics.BinaryAccuracy()\n",
        "\n",
        "  def call(self, targets, logits, sample_weights=None):\n",
        "    # Compute the training-time loss value and add it\n",
        "    # to the layer using `self.add_loss()`.\n",
        "    loss = self.loss_fn(targets, logits, sample_weights)\n",
        "    self.add_loss(loss)\n",
        "\n",
        "    # Log accuracy as a metric and add it\n",
        "    # to the layer using `self.add_metric()`.\n",
        "    acc = self.accuracy_fn(targets, logits, sample_weights)\n",
        "    self.add_metric(acc, name='accuracy')\n",
        "\n",
        "    # Return the inference-time prediction tensor (for `.predict()`).\n",
        "    return tf.nn.softmax(logits)"
      ],
      "execution_count": 73,
      "outputs": []
    },
    {
      "cell_type": "markdown",
      "metadata": {
        "id": "iq87ct6maM6N"
      },
      "source": [
        "* You can use it in a model with two inputs (input data & targets), compiled without a loss argument, like this:"
      ]
    },
    {
      "cell_type": "code",
      "metadata": {
        "id": "GyOYILe-aO-D",
        "outputId": "e3e963d6-4cb4-48fe-c2d0-0d2e64a44ed5",
        "colab": {
          "base_uri": "https://localhost:8080/",
          "height": 51
        }
      },
      "source": [
        "import numpy as np\n",
        "\n",
        "inputs = keras.Input(shape=(3,), name='inputs')\n",
        "targets = keras.Input(shape=(10, ), name='targets')\n",
        "logits = keras.layers.Dense(10)(inputs)\n",
        "predictions = LogisticEndpoint(name='pred')(logits, targets)\n",
        "\n",
        "model = keras.Model(inputs=[inputs, targets], outputs=predictions)\n",
        "model.compile(optimizer='adam')  \n",
        "\n",
        "data = {'inputs': np.random.random((3,3)),\n",
        "        'targets': np.random.random((3,10))}\n",
        "\n",
        "model.fit(data)"
      ],
      "execution_count": 74,
      "outputs": [
        {
          "output_type": "stream",
          "text": [
            "1/1 [==============================] - 0s 1ms/step - loss: 1.0022 - binary_accuracy: 0.0000e+00\n"
          ],
          "name": "stdout"
        },
        {
          "output_type": "execute_result",
          "data": {
            "text/plain": [
              "<tensorflow.python.keras.callbacks.History at 0x7fcdac799dd8>"
            ]
          },
          "metadata": {
            "tags": []
          },
          "execution_count": 74
        }
      ]
    },
    {
      "cell_type": "markdown",
      "metadata": {
        "id": "52r554lBascH"
      },
      "source": [
        "### Automatically setting apart a validation holdout set"
      ]
    },
    {
      "cell_type": "markdown",
      "metadata": {
        "id": "iW9LVNndd2zy"
      },
      "source": [
        "* Here's another option: the argument validation_split allows you to automatically reserve part of your training data for validation. The argument value represents the fraction of the data to be reserved for validation, so it should be set to a number higher than 0 and lower than 1. For instance, validation_split=0.2 means \"use 20% of the data for validation\", and validation_split=0.6 means \"use 60% of the data for validation\"."
      ]
    },
    {
      "cell_type": "code",
      "metadata": {
        "id": "_KGqiepgeSUb",
        "outputId": "301b18dc-11ba-4809-b18b-123e383fd1c1",
        "colab": {
          "base_uri": "https://localhost:8080/",
          "height": 71
        }
      },
      "source": [
        "model = get_compiled_model()\n",
        "model.fit(x_train, y_train, batch_size=64, validation_split=0.2, epochs=1)"
      ],
      "execution_count": 75,
      "outputs": [
        {
          "output_type": "stream",
          "text": [
            "625/625 [==============================] - 1s 2ms/step - loss: 0.3646 - sparse_categorical_accuracy: 0.8978 - val_loss: 0.2285 - val_sparse_categorical_accuracy: 0.9323\n"
          ],
          "name": "stdout"
        },
        {
          "output_type": "execute_result",
          "data": {
            "text/plain": [
              "<tensorflow.python.keras.callbacks.History at 0x7fcd86864668>"
            ]
          },
          "metadata": {
            "tags": []
          },
          "execution_count": 75
        }
      ]
    },
    {
      "cell_type": "markdown",
      "metadata": {
        "id": "YQO0LHUvevNA"
      },
      "source": [
        "# Training & evaluation from tf.data Datasets"
      ]
    },
    {
      "cell_type": "markdown",
      "metadata": {
        "id": "feg2rfVGODNr"
      },
      "source": [
        "* the case where your data comes in the form of a tf.data.Dataset object\n",
        "* tf.data API is a set of utilities in TF 2.0 for loading and preprocessing data in a way that is fast and scalable\n",
        "* can pass a Dataset instance directly to the methods fit(), evaluate(), and predict()"
      ]
    },
    {
      "cell_type": "code",
      "metadata": {
        "id": "iN4BUPlrOmQ1",
        "outputId": "e0aff1ae-e5aa-4009-9849-839f560e9f56",
        "colab": {
          "base_uri": "https://localhost:8080/",
          "height": 170
        }
      },
      "source": [
        "model = get_compiled_model()\n",
        "\n",
        "train_dataset = tf.data.Dataset.from_tensor_slices((x_train, y_train))\n",
        "train_dataset = train_dataset.shuffle(buffer_size = 1024).batch(64)\n",
        "\n",
        "test_dataset = tf.data.Dataset.from_tensor_slices((x_test, y_test))\n",
        "test_dataset = test_dataset.batch(64)\n",
        "\n",
        "model.fit(train_dataset, epochs=3)\n",
        "\n",
        "result = model.evaluate(test_dataset)\n",
        "dict(zip(model.metrics_names, results))"
      ],
      "execution_count": 76,
      "outputs": [
        {
          "output_type": "stream",
          "text": [
            "Epoch 1/3\n",
            "782/782 [==============================] - 2s 2ms/step - loss: 0.3306 - sparse_categorical_accuracy: 0.9059\n",
            "Epoch 2/3\n",
            "782/782 [==============================] - 2s 2ms/step - loss: 0.1566 - sparse_categorical_accuracy: 0.9531\n",
            "Epoch 3/3\n",
            "782/782 [==============================] - 2s 2ms/step - loss: 0.1163 - sparse_categorical_accuracy: 0.9648\n",
            "157/157 [==============================] - 0s 1ms/step - loss: 0.1122 - sparse_categorical_accuracy: 0.9666\n"
          ],
          "name": "stdout"
        },
        {
          "output_type": "execute_result",
          "data": {
            "text/plain": [
              "{'loss': 0.13067319989204407,\n",
              " 'sparse_categorical_accuracy': 0.9624000191688538}"
            ]
          },
          "metadata": {
            "tags": []
          },
          "execution_count": 76
        }
      ]
    },
    {
      "cell_type": "markdown",
      "metadata": {
        "id": "SumAHiTWAa8Q"
      },
      "source": [
        "* the Dataset is reset at the end of each epoch, so it can be reused of the next epoch.\n",
        "* If you want to run training only on a specific number of batches from this Dataset, you can pass the steps_per_epoch argument, which specifies how many training steps the model should run using this Dataset before moving on to the next epoch.\n",
        "* If you do this, the dataset is not reset at the end of each epoch, instead we just keep drawing the next batches. The dataset will eventually run out of data (unless it is an infinitely-looping dataset)."
      ]
    },
    {
      "cell_type": "code",
      "metadata": {
        "id": "aONYT5raqzY-",
        "outputId": "a7215687-23ea-460c-e969-64cceb947fcf",
        "colab": {
          "base_uri": "https://localhost:8080/",
          "height": 136
        }
      },
      "source": [
        "model = get_compiled_model()\n",
        "\n",
        "train_dataset = tf.data.Dataset.from_tensor_slices((x_train, y_train))\n",
        "train_dataset = train_dataset.shuffle(buffer_size=1024).batch(64)\n",
        "\n",
        "model.fit(train_dataset, epochs = 3, steps_per_epoch=100)"
      ],
      "execution_count": 77,
      "outputs": [
        {
          "output_type": "stream",
          "text": [
            "Epoch 1/3\n",
            "100/100 [==============================] - 0s 2ms/step - loss: 0.7838 - sparse_categorical_accuracy: 0.8039\n",
            "Epoch 2/3\n",
            "100/100 [==============================] - 0s 2ms/step - loss: 0.3771 - sparse_categorical_accuracy: 0.8967\n",
            "Epoch 3/3\n",
            "100/100 [==============================] - 0s 2ms/step - loss: 0.3238 - sparse_categorical_accuracy: 0.9039\n"
          ],
          "name": "stdout"
        },
        {
          "output_type": "execute_result",
          "data": {
            "text/plain": [
              "<tensorflow.python.keras.callbacks.History at 0x7fcd855dc390>"
            ]
          },
          "metadata": {
            "tags": []
          },
          "execution_count": 77
        }
      ]
    },
    {
      "cell_type": "markdown",
      "metadata": {
        "id": "fIJkk_7efD-E"
      },
      "source": [
        "## Using a validation dataset"
      ]
    },
    {
      "cell_type": "markdown",
      "metadata": {
        "id": "QAnr3hb-teqo"
      },
      "source": [
        "* pass a Dataset instance as the validation_data argument in fit()"
      ]
    },
    {
      "cell_type": "code",
      "metadata": {
        "id": "y_GIArgctnDG",
        "outputId": "32a47cfa-bc34-4238-ae87-31278242644e",
        "colab": {
          "base_uri": "https://localhost:8080/",
          "height": 71
        }
      },
      "source": [
        "model = get_compiled_model()\n",
        "\n",
        "train_dataset = tf.data.Dataset.from_tensor_slices((x_train, y_train))\n",
        "train_dataset = train_dataset.shuffle(buffer_size=1024).batch(64)\n",
        "\n",
        "val_dataset = tf.data.Dataset.from_tensor_slices((x_val, y_val))\n",
        "val_dataset = val_dataset.batch(64)\n",
        "\n",
        "model.fit(train_dataset, validation_data=val_dataset, epochs=1)"
      ],
      "execution_count": 78,
      "outputs": [
        {
          "output_type": "stream",
          "text": [
            "782/782 [==============================] - 2s 3ms/step - loss: 0.3376 - sparse_categorical_accuracy: 0.9064 - val_loss: 0.1771 - val_sparse_categorical_accuracy: 0.9481\n"
          ],
          "name": "stdout"
        },
        {
          "output_type": "execute_result",
          "data": {
            "text/plain": [
              "<tensorflow.python.keras.callbacks.History at 0x7fcd855dc198>"
            ]
          },
          "metadata": {
            "tags": []
          },
          "execution_count": 78
        }
      ]
    },
    {
      "cell_type": "markdown",
      "metadata": {
        "id": "21CYO2pcucys"
      },
      "source": [
        "* At the end of each epoch, the model will iterate over the validation dataset and compute the validation loss and validation metrics.\n",
        "* If you want to run validation only on a specific number of batches from this dataset, you can pass the validation_steps argument, which specifies how many validation steps the model should run with the validation dataset before interrupting validation and moving on to the next epoch:"
      ]
    },
    {
      "cell_type": "code",
      "metadata": {
        "id": "i_pzc4UpvoB0",
        "outputId": "b418234b-afc7-4bf2-a6d9-874f8ec6e0f4",
        "colab": {
          "base_uri": "https://localhost:8080/",
          "height": 71
        }
      },
      "source": [
        "model = get_compiled_model()\n",
        "\n",
        "train_dataset = tf.data.Dataset.from_tensor_slices((x_train, y_train))\n",
        "train_dataset = train_dataset.shuffle(buffer_size=1024).batch(64)\n",
        "\n",
        "val_dataset = tf.data.Dataset.from_tensor_slices((x_val, y_val))\n",
        "val_dataset = val_dataset.batch(64)\n",
        "\n",
        "model.fit(\n",
        "    train_dataset,\n",
        "    epochs=1,\n",
        "    validation_data=val_dataset,\n",
        "    validation_steps=10\n",
        ")"
      ],
      "execution_count": 79,
      "outputs": [
        {
          "output_type": "stream",
          "text": [
            "782/782 [==============================] - 2s 2ms/step - loss: 0.3449 - sparse_categorical_accuracy: 0.9023 - val_loss: 0.3138 - val_sparse_categorical_accuracy: 0.9234\n"
          ],
          "name": "stdout"
        },
        {
          "output_type": "execute_result",
          "data": {
            "text/plain": [
              "<tensorflow.python.keras.callbacks.History at 0x7fcd854d8438>"
            ]
          },
          "metadata": {
            "tags": []
          },
          "execution_count": 79
        }
      ]
    },
    {
      "cell_type": "markdown",
      "metadata": {
        "id": "pecoP7dXznjV"
      },
      "source": [
        "* the validation dataset will be reset after each use (so that you will always be evaluating on the same samples from epoch to epoch).\n",
        "* The argument validation_split (generating a holdout set from the training data) is not supported when training from Dataset objects, since this feature requires the ability to index the samples of the datasets, which is not possible in general with the Dataset API."
      ]
    },
    {
      "cell_type": "markdown",
      "metadata": {
        "id": "t64hkIFKfdEG"
      },
      "source": [
        "# Other input formats supported"
      ]
    },
    {
      "cell_type": "markdown",
      "metadata": {
        "id": "cKHHu0T20HdP"
      },
      "source": [
        "* Pandas dataframes\n",
        "* from python generator that yield batches of data & labels\n",
        "* In particular, the keras.utils.Sequence class offers a simple interface to build Python data generators that are multiprocessing-aware and can be shuffled."
      ]
    },
    {
      "cell_type": "markdown",
      "metadata": {
        "id": "2fxDiOsu0YX8"
      },
      "source": [
        "* In general, we recommend that you use:\n",
        "\n",
        "* NumPy input data if your data is small and fits in memory\n",
        "* Dataset objects if you have large datasets and you need to do distributed training\n",
        "* Sequence objects if you have large datasets and you need to do a lot of custom Python-side processing that cannot be done in TensorFlow (e.g. if you rely on external libraries for data loading or preprocessing).\n"
      ]
    },
    {
      "cell_type": "markdown",
      "metadata": {
        "id": "QWFt5mejfiK-"
      },
      "source": [
        "# Using a keras.utils.Sequence object as input"
      ]
    },
    {
      "cell_type": "markdown",
      "metadata": {
        "id": "QUYm-IqI0lNL"
      },
      "source": [
        "* keras.utils.Sequence is a utility that you can subclass to obtain a Python generator with two important properties:\n",
        "\n",
        "* It works well with multiprocessing.\n",
        "* It can be shuffled (e.g. when passing shuffle=True in fit())."
      ]
    },
    {
      "cell_type": "markdown",
      "metadata": {
        "id": "80t_zCo30sm6"
      },
      "source": [
        "* A Sequence must implement two methods:\n",
        "\n",
        "* __getitem__\n",
        "* __len__\n",
        "* The method __getitem__ should return a complete batch. If you want to modify your dataset between epochs, you may implement on_epoch_end."
      ]
    },
    {
      "cell_type": "code",
      "metadata": {
        "id": "Z3GmMFCv0xAJ",
        "outputId": "39e54522-c643-41c4-81e5-fff06d960955",
        "colab": {
          "base_uri": "https://localhost:8080/",
          "height": 214
        }
      },
      "source": [
        "from skimage.io import imread\n",
        "from skimage.transform import resize\n",
        "import numpy as np\n",
        "from keras.utils import Sequence\n",
        "\n",
        "class CIFAR10Sequence(Sequence):\n",
        "  def __init__(self, filenames, labels, batch_size):\n",
        "    self.filenames, self.labels = filenames, labels\n",
        "    self.batch_size = batch_size\n",
        "\n",
        "  \n",
        "  def __len__(self):\n",
        "    return int(np.ceil(len(self.filenames) / float(self.batch_size)))\n",
        "\n",
        "  \n",
        "  def __getitem__(self, idx):\n",
        "    batch_x = self.filenames[idx * self.batch_size:(idx + 1) * self.batch_size]\n",
        "    batch_y = self.labels[idx * self.batch_size:(idx + 1) * self.batch_size]\n",
        "    return \n",
        "    np.array([resize(imread(filename), (200, 200)) for filename in batch_x]),\n",
        "    np.array(batch_y)\n",
        "\n",
        "\n",
        "sequence = CIFAR10Sequence(filenames, labels, batch_size)\n",
        "model.fit(sequence, epochs=10)"
      ],
      "execution_count": 81,
      "outputs": [
        {
          "output_type": "error",
          "ename": "NameError",
          "evalue": "ignored",
          "traceback": [
            "\u001b[0;31m---------------------------------------------------------------------------\u001b[0m",
            "\u001b[0;31mNameError\u001b[0m                                 Traceback (most recent call last)",
            "\u001b[0;32m<ipython-input-81-b52c16912a99>\u001b[0m in \u001b[0;36m<module>\u001b[0;34m()\u001b[0m\n\u001b[1;32m     22\u001b[0m \u001b[0;34m\u001b[0m\u001b[0m\n\u001b[1;32m     23\u001b[0m \u001b[0;34m\u001b[0m\u001b[0m\n\u001b[0;32m---> 24\u001b[0;31m \u001b[0msequence\u001b[0m \u001b[0;34m=\u001b[0m \u001b[0mCIFAR10Sequence\u001b[0m\u001b[0;34m(\u001b[0m\u001b[0mfilenames\u001b[0m\u001b[0;34m,\u001b[0m \u001b[0mlabels\u001b[0m\u001b[0;34m,\u001b[0m \u001b[0mbatch_size\u001b[0m\u001b[0;34m)\u001b[0m\u001b[0;34m\u001b[0m\u001b[0;34m\u001b[0m\u001b[0m\n\u001b[0m\u001b[1;32m     25\u001b[0m \u001b[0mmodel\u001b[0m\u001b[0;34m.\u001b[0m\u001b[0mfit\u001b[0m\u001b[0;34m(\u001b[0m\u001b[0msequence\u001b[0m\u001b[0;34m,\u001b[0m \u001b[0mepochs\u001b[0m\u001b[0;34m=\u001b[0m\u001b[0;36m10\u001b[0m\u001b[0;34m)\u001b[0m\u001b[0;34m\u001b[0m\u001b[0;34m\u001b[0m\u001b[0m\n",
            "\u001b[0;31mNameError\u001b[0m: name 'filenames' is not defined"
          ]
        }
      ]
    },
    {
      "cell_type": "markdown",
      "metadata": {
        "id": "CYP_uwHzfi_4"
      },
      "source": [
        "# Using sample weighting and class weighting"
      ]
    },
    {
      "cell_type": "markdown",
      "metadata": {
        "id": "sATWxi6GBUsg"
      },
      "source": [
        "* With the default settings the weight of a sample is decided by its frequency in the dataset. \n",
        "* There are two methods to weight the data, independent of sample frequency:\n",
        "  * class weight\n",
        "  * sample weight"
      ]
    },
    {
      "cell_type": "markdown",
      "metadata": {
        "id": "FeBvXfmCfi0M"
      },
      "source": [
        "## Class weights"
      ]
    },
    {
      "cell_type": "markdown",
      "metadata": {
        "id": "4vTG_qxjCLoZ"
      },
      "source": [
        "* This is set by passing a dictionary to the class_weight argument to Model.fit()\n",
        "* This dictionary maps class indices to the weight that should be used for samples belonging to this class.\n",
        "* This can be used to balance classes without resampling, or to train a model that gives more importance to a particular class.\n",
        "* For instance, if class \"0\" is half as represented as class \"1\" in your data, you could use Model.fit(..., class_weight={0: 1., 1: 0.5}).\n",
        "* Here's a NumPy example where we use class weights or sample weights to give more importance to the correct classification of class #5 (which is the digit \"5\" in the MNIST dataset)."
      ]
    },
    {
      "cell_type": "code",
      "metadata": {
        "id": "u2x3mImmkT6A",
        "outputId": "b421a3b5-3174-4f8e-bf8c-ac0e8f4116ad",
        "colab": {
          "base_uri": "https://localhost:8080/",
          "height": 68
        }
      },
      "source": [
        "import numpy as np\n",
        "\n",
        "class_weight = {\n",
        "    0: 1.0,\n",
        "    1: 1.0,\n",
        "    2: 1.0,\n",
        "    3: 1.0,\n",
        "    4: 1.0,\n",
        "    5: 2.0,  # noticeable\n",
        "    6: 1.0,\n",
        "    7: 1.0,\n",
        "    8: 1.0,\n",
        "    9: 1.0\n",
        "}\n",
        "\n",
        "print('fit with class weight')\n",
        "model = get_compiled_model()\n",
        "model.fit(x_train, y_train, class_weight=class_weight, batch_size=64, epochs=1)"
      ],
      "execution_count": 82,
      "outputs": [
        {
          "output_type": "stream",
          "text": [
            "fit with class weight\n",
            "782/782 [==============================] - 1s 2ms/step - loss: 0.3787 - sparse_categorical_accuracy: 0.8991\n"
          ],
          "name": "stdout"
        },
        {
          "output_type": "execute_result",
          "data": {
            "text/plain": [
              "<tensorflow.python.keras.callbacks.History at 0x7fcd84a82710>"
            ]
          },
          "metadata": {
            "tags": []
          },
          "execution_count": 82
        }
      ]
    },
    {
      "cell_type": "markdown",
      "metadata": {
        "id": "1smZRcvnfvSb"
      },
      "source": [
        "## Sample weights"
      ]
    },
    {
      "cell_type": "markdown",
      "metadata": {
        "id": "ryKaExd_luZT"
      },
      "source": [
        "* A \"sample weights\" array is an array of numbers that specify how much weight each sample in a batch should have in computing the total loss. \n",
        "* It is commonly used in imbalanced classification problems (the idea being to give more weight to rarely-seen classes).\n",
        "* When the weights used are ones and zeros, the array can be used as a mask for the loss function (entirely discarding the contribution of certain samples to the total loss).\n",
        "* For fine grained control, or if you are not building a classifier, you can use \"sample weights\".\n",
        "  * When training from NumPy data: Pass the sample_weight argument to Model.fit().\n",
        "  * When training from tf.data or any other sort of iterator: Yield (input_batch, label_batch, sample_weight_batch) tuples."
      ]
    },
    {
      "cell_type": "code",
      "metadata": {
        "id": "4LcxwGNomzaP",
        "outputId": "892613d6-f760-407e-e744-637ba9a8d819",
        "colab": {
          "base_uri": "https://localhost:8080/",
          "height": 68
        }
      },
      "source": [
        "sample_weight = np.ones(shape=(len(y_train),))\n",
        "sample_weight[y_train == 5] = 2.0\n",
        "\n",
        "print('fit with sample weight')\n",
        "model = get_compiled_model()\n",
        "model.fit(x_train, y_train, sample_weight=sample_weight, batch_size=64, epochs=1)"
      ],
      "execution_count": 83,
      "outputs": [
        {
          "output_type": "stream",
          "text": [
            "fit with sample weight\n",
            "782/782 [==============================] - 2s 2ms/step - loss: 0.3588 - sparse_categorical_accuracy: 0.9060\n"
          ],
          "name": "stdout"
        },
        {
          "output_type": "execute_result",
          "data": {
            "text/plain": [
              "<tensorflow.python.keras.callbacks.History at 0x7fcd84935f28>"
            ]
          },
          "metadata": {
            "tags": []
          },
          "execution_count": 83
        }
      ]
    },
    {
      "cell_type": "code",
      "metadata": {
        "id": "_BwBVmmaqJLI",
        "outputId": "47e99d3d-b4ae-4bf7-d019-ebc6da0821fc",
        "colab": {
          "base_uri": "https://localhost:8080/",
          "height": 51
        }
      },
      "source": [
        "sample_weight = np.ones(shape=(len(y_train),))\n",
        "sample_weight[y_train == 5] = 2.0\n",
        "\n",
        "# create a dataset that includes sample weights\n",
        "# 3rd element in the return tuple\n",
        "train_dataset = tf.data.Dataset.from_tensor_slices((x_train, y_train, sample_weight))\n",
        "\n",
        "train_dataset = train_dataset.shuffle(buffer_size=1024).batch(64)\n",
        "\n",
        "model = get_compiled_model()\n",
        "model.fit(train_dataset, epochs=1)"
      ],
      "execution_count": 84,
      "outputs": [
        {
          "output_type": "stream",
          "text": [
            "782/782 [==============================] - 2s 2ms/step - loss: 0.3751 - sparse_categorical_accuracy: 0.9025\n"
          ],
          "name": "stdout"
        },
        {
          "output_type": "execute_result",
          "data": {
            "text/plain": [
              "<tensorflow.python.keras.callbacks.History at 0x7fcd847c8390>"
            ]
          },
          "metadata": {
            "tags": []
          },
          "execution_count": 84
        }
      ]
    },
    {
      "cell_type": "markdown",
      "metadata": {
        "id": "VYN6zW2mf78u"
      },
      "source": [
        "# Passing data to multi-input, multi-output models"
      ]
    },
    {
      "cell_type": "markdown",
      "metadata": {
        "id": "OPOpOzfstbZv"
      },
      "source": [
        "* Consider the following model, which has an image input of shape (32, 32, 3) (that's (height, width, channels)) and a timeseries input of shape (None, 10) (that's (timesteps, features))\n",
        "* Our model will have two outputs computed from the combination of these inputs: a \"score\" (of shape (1,)) and a probability distribution over five classes (of shape (5,))."
      ]
    },
    {
      "cell_type": "code",
      "metadata": {
        "id": "oVI6GBvdtyYY"
      },
      "source": [
        "image_input = keras.Input(shape=(32, 32, 3), name='img_input')\n",
        "timeseries_input = keras.Input(shape=(None, 10), name='ts_input')\n",
        "\n",
        "x1 = layers.Conv2D(3, 3)(image_input)\n",
        "x1 = layers.GlobalMaxPooling2D()(x1)\n",
        "\n",
        "x2 = layers.Conv1D(3, 3)(timeseries_input)\n",
        "x2 = layers.GlobalMaxPooling1D()(x2)\n",
        "\n",
        "x = layers.concatenate([x1, x2])\n",
        "\n",
        "score_output = layers.Dense(1, name='score_output')(x)\n",
        "class_output = layers.Dense(5, name='class_output')(x)\n",
        "\n",
        "model = keras.Model(\n",
        "    inputs=[image_input, timeseries_input], outputs=[score_output, class_output]\n",
        ")"
      ],
      "execution_count": 85,
      "outputs": []
    },
    {
      "cell_type": "code",
      "metadata": {
        "id": "HdZPHc3eyenv",
        "outputId": "c075958d-d60c-4302-f2bb-e068f23c395b",
        "colab": {
          "base_uri": "https://localhost:8080/",
          "height": 422
        }
      },
      "source": [
        "keras.utils.plot_model(model, '123.png', show_shapes=True)"
      ],
      "execution_count": 86,
      "outputs": [
        {
          "output_type": "execute_result",
          "data": {
            "image/png": "[encoded data removed]",
            "text/plain": [
              "<IPython.core.display.Image object>"
            ]
          },
          "metadata": {
            "tags": []
          },
          "execution_count": 86
        }
      ]
    },
    {
      "cell_type": "markdown",
      "metadata": {
        "id": "dQGX4rMlzF1f"
      },
      "source": [
        "* At compilation time, we can specify different losses to different outputs, by passing the loss functions as a list:"
      ]
    },
    {
      "cell_type": "code",
      "metadata": {
        "id": "4w_oOZpvzFa9"
      },
      "source": [
        "model.compile(\n",
        "    optimizer=keras.optimizers.RMSprop(1e-3),\n",
        "    loss=[keras.losses.MeanSquaredError(), keras.losses.CategoricalCrossentropy()]\n",
        ")"
      ],
      "execution_count": 87,
      "outputs": []
    },
    {
      "cell_type": "markdown",
      "metadata": {
        "id": "Hb4Lm4Abzqvg"
      },
      "source": [
        "* likewise for metrics"
      ]
    },
    {
      "cell_type": "code",
      "metadata": {
        "id": "JLZ0BrKyzCSF"
      },
      "source": [
        "model.compile(\n",
        "    optimizer=keras.optimizers.RMSprop(1e-3),\n",
        "    loss=[keras.losses.MeanSquaredError(), keras.losses.CategoricalCrossentropy()],\n",
        "    metrics=[\n",
        "             [\n",
        "              keras.metrics.MeanAbsolutePercentageError(),\n",
        "              keras.metrics.MeanAbsoluteError()\n",
        "             ],\n",
        "             [keras.metrics.CategoricalAccuracy()]\n",
        "    ]\n",
        ")"
      ],
      "execution_count": 88,
      "outputs": []
    },
    {
      "cell_type": "markdown",
      "metadata": {
        "id": "1fwjM1ff0eBx"
      },
      "source": [
        "* Since we gave names to our output layers, we could also specify per-output losses and metrics via a dict:"
      ]
    },
    {
      "cell_type": "code",
      "metadata": {
        "id": "_mNHjOkK0fpB"
      },
      "source": [
        "model.compile(\n",
        "    optimizer=keras.optimizers.RMSprop(1e-3),\n",
        "    loss={\n",
        "        'score_output': keras.losses.MeanSquaredError(), \n",
        "        'class_output': keras.losses.CategoricalCrossentropy()\n",
        "        },\n",
        "    metrics={\n",
        "             'score_output': [\n",
        "              keras.metrics.MeanAbsolutePercentageError(),\n",
        "              keras.metrics.MeanAbsoluteError()\n",
        "             ],\n",
        "             'class_output': [keras.metrics.CategoricalAccuracy()]\n",
        "    }\n",
        ")"
      ],
      "execution_count": 89,
      "outputs": []
    },
    {
      "cell_type": "markdown",
      "metadata": {
        "id": "FGJk1Wjj1ofe"
      },
      "source": [
        "* It's possible to give different weights to different output-specific losses (for instance, one might wish to privilege the \"score\" loss in our example, by giving to 2x the importance of the class loss), using the loss_weights argument:"
      ]
    },
    {
      "cell_type": "code",
      "metadata": {
        "id": "J9HHKZB-2W3F"
      },
      "source": [
        "model.compile(\n",
        "    optimizer=keras.optimizers.RMSprop(1e-3),\n",
        "    loss={\n",
        "        'score_output': keras.losses.MeanSquaredError(), \n",
        "        'class_output': keras.losses.CategoricalCrossentropy()\n",
        "        },\n",
        "    metrics={\n",
        "             'score_output': [\n",
        "              keras.metrics.MeanAbsolutePercentageError(),\n",
        "              keras.metrics.MeanAbsoluteError()\n",
        "             ],\n",
        "             'class_output': [keras.metrics.CategoricalAccuracy()]\n",
        "    },\n",
        "    loss_weights={\n",
        "        'score_output': 2.0,\n",
        "        'class_output': 1.0}\n",
        ")"
      ],
      "execution_count": 90,
      "outputs": []
    },
    {
      "cell_type": "markdown",
      "metadata": {
        "id": "D4-iBalP3OBe"
      },
      "source": [
        "* You could also chose not to compute a loss for certain outputs, if these outputs meant for prediction but not for training:"
      ]
    },
    {
      "cell_type": "code",
      "metadata": {
        "id": "XTW4yHbX3m2U"
      },
      "source": [
        "# list loss version\n",
        "model.compile(\n",
        "    optimizer=keras.optimizers.RMSprop(1e-3),\n",
        "    loss=[\n",
        "          None,\n",
        "          keras.losses.CategoricalCrossentropy()\n",
        "    ]\n",
        ")\n",
        "\n",
        "# or dict loss version\n",
        "model.compile(\n",
        "    optimizer=keras.optimizers.RMSprop(1e-3),\n",
        "    loss={\n",
        "          'class_output': keras.losses.CategoricalCrossentropy()\n",
        "    }\n",
        ")"
      ],
      "execution_count": 91,
      "outputs": []
    },
    {
      "cell_type": "markdown",
      "metadata": {
        "id": "SKQlkS7B6G7E"
      },
      "source": [
        "* Passing data to a multi-input or multi-output model in fit works in a similar way as specifying a loss function in compile: \n",
        "* you can pass lists of NumPy arrays (with 1:1 mapping to the outputs that received a loss function) or dicts mapping output names to NumPy arrays."
      ]
    },
    {
      "cell_type": "code",
      "metadata": {
        "id": "7ZIUBeEj6Sy6",
        "outputId": "75a35847-d673-40a5-f2b5-4003b8859223",
        "colab": {
          "base_uri": "https://localhost:8080/",
          "height": 88
        }
      },
      "source": [
        "model.compile(\n",
        "    optimizer=keras.optimizers.RMSprop(1e-3),\n",
        "    loss=[keras.losses.MeanSquaredError(), keras.losses.CategoricalCrossentropy()],\n",
        ")\n",
        "\n",
        "# Generate dummy NumPy data\n",
        "img_data = np.random.random_sample(size=(100, 32, 32, 3))\n",
        "ts_data = np.random.random_sample(size=(100, 20, 10))\n",
        "score_targets = np.random.random_sample(size=(100, 1))\n",
        "class_targets = np.random.random_sample(size=(100, 5))\n",
        "\n",
        "# Fit on lists\n",
        "model.fit([img_data, ts_data], [score_targets, class_targets], batch_size=32, epochs=1)\n",
        "\n",
        "# Alternatively, fit on dicts\n",
        "model.fit(\n",
        "    {\"img_input\": img_data, \"ts_input\": ts_data},\n",
        "    {\"score_output\": score_targets, \"class_output\": class_targets},\n",
        "    batch_size=32,\n",
        "    epochs=1,\n",
        ")"
      ],
      "execution_count": 92,
      "outputs": [
        {
          "output_type": "stream",
          "text": [
            "4/4 [==============================] - 0s 7ms/step - loss: 22.8800 - score_output_loss: 3.9990 - class_output_loss: 18.8810\n",
            "4/4 [==============================] - 0s 8ms/step - loss: 21.3581 - score_output_loss: 2.9036 - class_output_loss: 18.4545\n"
          ],
          "name": "stdout"
        },
        {
          "output_type": "execute_result",
          "data": {
            "text/plain": [
              "<tensorflow.python.keras.callbacks.History at 0x7fcd804fce80>"
            ]
          },
          "metadata": {
            "tags": []
          },
          "execution_count": 92
        }
      ]
    },
    {
      "cell_type": "markdown",
      "metadata": {
        "id": "YhrUfTnQ6lhN"
      },
      "source": [
        "* Here's the Dataset use case: similarly as what we did for NumPy arrays, the Dataset should return a tuple of dicts."
      ]
    },
    {
      "cell_type": "code",
      "metadata": {
        "id": "8wGBIIuu6mc_",
        "outputId": "4274d89e-786d-4337-ac47-905a1e239435",
        "colab": {
          "base_uri": "https://localhost:8080/",
          "height": 71
        }
      },
      "source": [
        "train_dataset = tf.data.Dataset.from_tensor_slices(\n",
        "    (\n",
        "        {\"img_input\": img_data, \"ts_input\": ts_data},\n",
        "        {\"score_output\": score_targets, \"class_output\": class_targets},\n",
        "    )\n",
        "    \n",
        ")\n",
        "\n",
        "train_dataset = train_dataset.shuffle(buffer_size=1024).batch(64)\n",
        "\n",
        "model.fit(train_dataset, epochs=1)"
      ],
      "execution_count": 93,
      "outputs": [
        {
          "output_type": "stream",
          "text": [
            "2/2 [==============================] - 0s 12ms/step - loss: 21.4071 - score_output_loss: 2.5001 - class_output_loss: 18.9070\n"
          ],
          "name": "stdout"
        },
        {
          "output_type": "execute_result",
          "data": {
            "text/plain": [
              "<tensorflow.python.keras.callbacks.History at 0x7fcd8065d080>"
            ]
          },
          "metadata": {
            "tags": []
          },
          "execution_count": 93
        }
      ]
    },
    {
      "cell_type": "markdown",
      "metadata": {
        "id": "edJbU33df-2d"
      },
      "source": [
        "# Using callbacks"
      ]
    },
    {
      "cell_type": "markdown",
      "metadata": {
        "id": "tyaFAtGZ1Lno"
      },
      "source": [
        "* Callbacks in Keras are objects that are called at different points during training (at the start of an epoch, at the end of a batch, at the end of an epoch, etc.)\n",
        "* and which can be used to implement behaviors such as:\n",
        "  * Doing validation at different points during training (beyond the built-in per-epoch validation)\n",
        "  * Checkpointing the model at regular intervals or when it exceeds a certain accuracy threshold\n",
        "  * Changing the learning rate of the model when training seems to be plateauing\n",
        "  * Doing fine-tuning of the top layers when training seems to be plateauing\n",
        "  * Sending email or instant message notifications when training ends or where a certain performance threshold is exceeded"
      ]
    },
    {
      "cell_type": "code",
      "metadata": {
        "id": "dAqpzNPk4gHX",
        "outputId": "892fb42e-de7d-436e-d5a5-106a102d6740",
        "colab": {
          "base_uri": "https://localhost:8080/",
          "height": 309
        }
      },
      "source": [
        "model = get_compiled_model()\n",
        "\n",
        "callbacks = [\n",
        "             keras.callbacks.EarlyStopping(\n",
        "                 monitor = 'val_loss',  # stop training when val_loss is no longer improving\n",
        "                 min_delta=1e-2,  # no longer improving being defined as no better than 1e-2 less\n",
        "                 patience=2,  # no longer improving being futher defined as for at least 2 epochs\n",
        "                 verbose=1\n",
        "             )\n",
        "]\n",
        "\n",
        "model.fit(\n",
        "    x_train,\n",
        "    y_train,\n",
        "    epochs=20,\n",
        "    batch_size=64,\n",
        "    callbacks=callbacks,\n",
        "    validation_split=0.2\n",
        ")"
      ],
      "execution_count": 94,
      "outputs": [
        {
          "output_type": "stream",
          "text": [
            "Epoch 1/20\n",
            "625/625 [==============================] - 1s 2ms/step - loss: 0.3744 - sparse_categorical_accuracy: 0.8952 - val_loss: 0.2387 - val_sparse_categorical_accuracy: 0.9281\n",
            "Epoch 2/20\n",
            "625/625 [==============================] - 1s 2ms/step - loss: 0.1747 - sparse_categorical_accuracy: 0.9488 - val_loss: 0.2035 - val_sparse_categorical_accuracy: 0.9362\n",
            "Epoch 3/20\n",
            "625/625 [==============================] - 1s 2ms/step - loss: 0.1286 - sparse_categorical_accuracy: 0.9617 - val_loss: 0.1591 - val_sparse_categorical_accuracy: 0.9540\n",
            "Epoch 4/20\n",
            "625/625 [==============================] - 1s 2ms/step - loss: 0.1030 - sparse_categorical_accuracy: 0.9700 - val_loss: 0.1514 - val_sparse_categorical_accuracy: 0.9533\n",
            "Epoch 5/20\n",
            "625/625 [==============================] - 3s 4ms/step - loss: 0.0860 - sparse_categorical_accuracy: 0.9737 - val_loss: 0.1378 - val_sparse_categorical_accuracy: 0.9589\n",
            "Epoch 6/20\n",
            "625/625 [==============================] - 2s 3ms/step - loss: 0.0724 - sparse_categorical_accuracy: 0.9786 - val_loss: 0.1369 - val_sparse_categorical_accuracy: 0.9627\n",
            "Epoch 7/20\n",
            "625/625 [==============================] - 1s 2ms/step - loss: 0.0612 - sparse_categorical_accuracy: 0.9818 - val_loss: 0.1406 - val_sparse_categorical_accuracy: 0.9636\n",
            "Epoch 00007: early stopping\n"
          ],
          "name": "stdout"
        },
        {
          "output_type": "execute_result",
          "data": {
            "text/plain": [
              "<tensorflow.python.keras.callbacks.History at 0x7fcd84907080>"
            ]
          },
          "metadata": {
            "tags": []
          },
          "execution_count": 94
        }
      ]
    },
    {
      "cell_type": "markdown",
      "metadata": {
        "id": "BXmRw-rjgKiH"
      },
      "source": [
        "## Many built-in callbacks are available"
      ]
    },
    {
      "cell_type": "markdown",
      "metadata": {
        "id": "3cwVkQMa8L6i"
      },
      "source": [
        "* ModelCheckingpoint: save the model\n",
        "* EearlyStopping: stop training when training is no longer improving the validation metrics\n",
        "* TensorBoard: periodically write model logs that can be visualized in TensorBoard \n",
        "* CSVLogger: streams loss and metrics data to a CSV file"
      ]
    },
    {
      "cell_type": "markdown",
      "metadata": {
        "id": "bXazss5xgNwR"
      },
      "source": [
        "## Writing your own callback"
      ]
    },
    {
      "cell_type": "markdown",
      "metadata": {
        "id": "KlEvCohC9k3x"
      },
      "source": [
        "* You can create a custom callback by extending the base class keras.callbacks.Callback. \n",
        "* A callback has access to its associated model through the class property self.model.\n",
        "* Here's a simple example saving a list of per-batch loss values during training:"
      ]
    },
    {
      "cell_type": "code",
      "metadata": {
        "id": "tiM6SrQ_-RQW"
      },
      "source": [
        "class LossHistory(keras.callbacks.Callback):\n",
        "  def on_train_begin(self, logs):\n",
        "    self.per_batch_losses = []\n",
        "\n",
        "  def on_train_end(self, logs):\n",
        "    self.per_batch_losses.append(logs.get('loss'))"
      ],
      "execution_count": 95,
      "outputs": []
    },
    {
      "cell_type": "markdown",
      "metadata": {
        "id": "o7RpQLo9gVzI"
      },
      "source": [
        "# Checkpointing models\n"
      ]
    },
    {
      "cell_type": "markdown",
      "metadata": {
        "id": "rylSVT6U_S54"
      },
      "source": [
        "* When you're training model on relatively large datasets, it's crucial to save checkpoints of your model at frequent intervals.\n",
        "* The easiest way to achieve this is with the ModelCheckpoint callback:"
      ]
    },
    {
      "cell_type": "code",
      "metadata": {
        "id": "wt8stPJW_Y_y",
        "outputId": "4cc3cf0c-1aa3-46f6-ff00-34bf2a446551",
        "colab": {
          "base_uri": "https://localhost:8080/",
          "height": 224
        }
      },
      "source": [
        "model = get_compiled_model()\n",
        "\n",
        "callbacks = [\n",
        "             keras.callbacks.ModelCheckpoint(\n",
        "             # Path where to save the model\n",
        "             # The two parameters below mean that we will overwrite\n",
        "             # the current checkpoint if and only if\n",
        "             # the `val_loss` score has improved.\n",
        "             # The saved model name will include the current epoch.\n",
        "             filepath='mymodel_{epoch}',\n",
        "             monitor='val_loss',\n",
        "             verbose=1,\n",
        "             save_best_only=True\n",
        "             )\n",
        "]\n",
        "\n",
        "model.fit(\n",
        "    x_train,\n",
        "    y_train,\n",
        "    epochs=2,\n",
        "    batch_size=64,\n",
        "    callbacks=callbacks,\n",
        "    validation_split=0.2\n",
        ")"
      ],
      "execution_count": 96,
      "outputs": [
        {
          "output_type": "stream",
          "text": [
            "Epoch 1/2\n",
            "599/625 [===========================>..] - ETA: 0s - loss: 0.3798 - sparse_categorical_accuracy: 0.8913\n",
            "Epoch 00001: val_loss improved from inf to 0.24003, saving model to mymodel_1\n",
            "INFO:tensorflow:Assets written to: mymodel_1/assets\n",
            "625/625 [==============================] - 2s 3ms/step - loss: 0.3744 - sparse_categorical_accuracy: 0.8928 - val_loss: 0.2400 - val_sparse_categorical_accuracy: 0.9278\n",
            "Epoch 2/2\n",
            "610/625 [============================>.] - ETA: 0s - loss: 0.1763 - sparse_categorical_accuracy: 0.9488\n",
            "Epoch 00002: val_loss improved from 0.24003 to 0.18742, saving model to mymodel_2\n",
            "INFO:tensorflow:Assets written to: mymodel_2/assets\n",
            "625/625 [==============================] - 2s 3ms/step - loss: 0.1753 - sparse_categorical_accuracy: 0.9492 - val_loss: 0.1874 - val_sparse_categorical_accuracy: 0.9453\n"
          ],
          "name": "stdout"
        },
        {
          "output_type": "execute_result",
          "data": {
            "text/plain": [
              "<tensorflow.python.keras.callbacks.History at 0x7fcd856a0c88>"
            ]
          },
          "metadata": {
            "tags": []
          },
          "execution_count": 96
        }
      ]
    },
    {
      "cell_type": "markdown",
      "metadata": {
        "id": "YqXSnEP0B1pc"
      },
      "source": [
        "* The ModelCheckpoint callback can be used to implement fault-tolerance: the ability to restart training from the last saved state of the model in case training gets randomly interrupted. Here's a basic example:"
      ]
    },
    {
      "cell_type": "code",
      "metadata": {
        "id": "p9IWsEjyB3Fo",
        "outputId": "0030c37b-250c-427a-8575-773c69b0cc65",
        "colab": {
          "base_uri": "https://localhost:8080/",
          "height": 343
        }
      },
      "source": [
        "import os\n",
        "\n",
        "# prepare a directory to store all the checkpoint\n",
        "checkpoint_dir = './ckpt'\n",
        "if not os.path.exists(checkpoint_dir):\n",
        "  os.makedirs(checkpoint_dir)\n",
        "\n",
        "\n",
        "def make_or_restore_model():\n",
        "  # either restore the lastest model or create a fresh one\n",
        "  # if there is no ckpt available\n",
        "  ckpt = [checkpoint_dir + '/' + name for name in os.listdir(checkpoint_dir)]\n",
        "  if ckpt:\n",
        "    lastest_ckpt = max(clpt, key=os.path.getctime)\n",
        "    print('restoring from', lastest_ckpt)\n",
        "    return keras.models.load_model(lastest_ckpt)\n",
        "  print('create a new model')\n",
        "  return get_compiled_model()\n",
        "\n",
        "\n",
        "model = make_or_restore_model()\n",
        "callbacks = [\n",
        "             # this callback saves a SavedModel every 100 batches\n",
        "             # we include the training loss in the saved model name\n",
        "             keras.callbacks.ModelCheckpoint(\n",
        "                 filepath = checkpoint_dir + '/ckpt-loss={loss:.2f}',\n",
        "                 save_freq=100\n",
        "             )\n",
        "]\n",
        "\n",
        "model.fit(\n",
        "    x_train,\n",
        "    y_train, \n",
        "    epochs=1,\n",
        "    callbacks=callbacks\n",
        ")"
      ],
      "execution_count": 102,
      "outputs": [
        {
          "output_type": "stream",
          "text": [
            "create a new model\n",
            "  71/1563 [>.............................] - ETA: 2s - loss: 1.1430 - sparse_categorical_accuracy: 0.6919INFO:tensorflow:Assets written to: ./ckpt/ckpt-loss=0.98/assets\n",
            " 176/1563 [==>...........................] - ETA: 5s - loss: 0.7533 - sparse_categorical_accuracy: 0.7912INFO:tensorflow:Assets written to: ./ckpt/ckpt-loss=0.71/assets\n",
            " 299/1563 [====>.........................] - ETA: 5s - loss: 0.5929 - sparse_categorical_accuracy: 0.8346INFO:tensorflow:Assets written to: ./ckpt/ckpt-loss=0.59/assets\n",
            " 371/1563 [======>.......................] - ETA: 6s - loss: 0.5433 - sparse_categorical_accuracy: 0.8495INFO:tensorflow:Assets written to: ./ckpt/ckpt-loss=0.53/assets\n",
            " 467/1563 [=======>......................] - ETA: 6s - loss: 0.4952 - sparse_categorical_accuracy: 0.8615INFO:tensorflow:Assets written to: ./ckpt/ckpt-loss=0.48/assets\n",
            " 575/1563 [==========>...................] - ETA: 5s - loss: 0.4596 - sparse_categorical_accuracy: 0.8701INFO:tensorflow:Assets written to: ./ckpt/ckpt-loss=0.45/assets\n",
            " 690/1563 [============>.................] - ETA: 4s - loss: 0.4246 - sparse_categorical_accuracy: 0.8798INFO:tensorflow:Assets written to: ./ckpt/ckpt-loss=0.42/assets\n",
            " 770/1563 [=============>................] - ETA: 4s - loss: 0.4058 - sparse_categorical_accuracy: 0.8847INFO:tensorflow:Assets written to: ./ckpt/ckpt-loss=0.40/assets\n",
            " 868/1563 [===============>..............] - ETA: 4s - loss: 0.3851 - sparse_categorical_accuracy: 0.8899INFO:tensorflow:Assets written to: ./ckpt/ckpt-loss=0.38/assets\n",
            " 971/1563 [=================>............] - ETA: 3s - loss: 0.3687 - sparse_categorical_accuracy: 0.8941INFO:tensorflow:Assets written to: ./ckpt/ckpt-loss=0.36/assets\n",
            "1069/1563 [===================>..........] - ETA: 2s - loss: 0.3555 - sparse_categorical_accuracy: 0.8979INFO:tensorflow:Assets written to: ./ckpt/ckpt-loss=0.35/assets\n",
            "1167/1563 [=====================>........] - ETA: 2s - loss: 0.3432 - sparse_categorical_accuracy: 0.9011INFO:tensorflow:Assets written to: ./ckpt/ckpt-loss=0.34/assets\n",
            "1284/1563 [=======================>......] - ETA: 1s - loss: 0.3309 - sparse_categorical_accuracy: 0.9046INFO:tensorflow:Assets written to: ./ckpt/ckpt-loss=0.33/assets\n",
            "1399/1563 [=========================>....] - ETA: 1s - loss: 0.3191 - sparse_categorical_accuracy: 0.9078INFO:tensorflow:Assets written to: ./ckpt/ckpt-loss=0.32/assets\n",
            "1466/1563 [===========================>..] - ETA: 0s - loss: 0.3130 - sparse_categorical_accuracy: 0.9096INFO:tensorflow:Assets written to: ./ckpt/ckpt-loss=0.31/assets\n",
            "1563/1563 [==============================] - 10s 6ms/step - loss: 0.3044 - sparse_categorical_accuracy: 0.9121\n"
          ],
          "name": "stdout"
        },
        {
          "output_type": "execute_result",
          "data": {
            "text/plain": [
              "<tensorflow.python.keras.callbacks.History at 0x7fcd7d94e630>"
            ]
          },
          "metadata": {
            "tags": []
          },
          "execution_count": 102
        }
      ]
    },
    {
      "cell_type": "markdown",
      "metadata": {
        "id": "PoCow1m6gaF_"
      },
      "source": [
        "# Using learning rate schedules"
      ]
    },
    {
      "cell_type": "markdown",
      "metadata": {
        "id": "k-Q-gpexWrWT"
      },
      "source": [
        "* A common pattern when training deep learning models is to gradually reduce the learning as training progresses. This is generally known as \"learning rate decay\".\n",
        "* The learning decay schedule could be static (fixed in advance, as a function of the current epoch or the current batch index), or dynamic (responding to the current behavior of the model, in particular the validation loss)"
      ]
    },
    {
      "cell_type": "markdown",
      "metadata": {
        "id": "Vuw32injgemQ"
      },
      "source": [
        "## Passing a schedule to an optimizer"
      ]
    },
    {
      "cell_type": "markdown",
      "metadata": {
        "id": "NirCeI70Xf4X"
      },
      "source": [
        "* You can easily use a static learning rate decay schedule by passing a schedule object as the learning_rate argument in your optimizer:"
      ]
    },
    {
      "cell_type": "code",
      "metadata": {
        "id": "fmIQGjn5XimT"
      },
      "source": [
        "initial_lr = 0.1\n",
        "lr_schedule = keras.optimizers.schedules.ExponentialDecay(\n",
        "    initial_lr, decay_steps=100000, decay_rate=0.96, staircase=True\n",
        ")\n",
        "\n",
        "optimizer = keras.optimizers.RMSprop(learning_rate=lr_schedule)"
      ],
      "execution_count": 104,
      "outputs": []
    },
    {
      "cell_type": "markdown",
      "metadata": {
        "id": "yr5wtvpvYRCD"
      },
      "source": [
        "* Several built-in schedules are available: \n",
        "  * ExponentialDecay, \n",
        "  * PiecewiseConstantDecay, \n",
        "  * PolynomialDecay, and \n",
        "  * InverseTimeDecay."
      ]
    },
    {
      "cell_type": "markdown",
      "metadata": {
        "id": "IcBVS_fhgfxJ"
      },
      "source": [
        "## Using callbacks to implement a dynamic learning rate schedule"
      ]
    },
    {
      "cell_type": "markdown",
      "metadata": {
        "id": "aiWoTpnAZpTa"
      },
      "source": [
        "* A dynamic learning rate schedule (for instance, decreasing the learning rate when the validation loss is no longer improving) cannot be achieved with these schedule objects since the optimizer does not have access to validation metrics.\n",
        "* However, callbacks do have access to all metrics, including validation metrics! \n",
        "* You can thus achieve this pattern by using a callback that modifies the current learning rate on the optimizer. \n",
        "* In fact, this is even built-in as the ReduceLROnPlateau callback."
      ]
    },
    {
      "cell_type": "markdown",
      "metadata": {
        "id": "KUZlHV_jgkZR"
      },
      "source": [
        "# Visualizing loss and metrics during training"
      ]
    },
    {
      "cell_type": "markdown",
      "metadata": {
        "id": "0qHu6jeEcoKz"
      },
      "source": [
        "* The best way to keep an eye on your model during training is to use TensorBoard, a browser-based application that you can run locally that provides you with:\n",
        "  * Live plots of the loss and metrics for training and evaluation\n",
        "  * (optionally) Visualizations of the histograms of your layer activations\n",
        "  * (optionally) 3D visualizations of the embedding spaces learned by your Embedding layers"
      ]
    },
    {
      "cell_type": "markdown",
      "metadata": {
        "id": "I93kC-scglPo"
      },
      "source": [
        "## Using the TensorBoard callback"
      ]
    },
    {
      "cell_type": "markdown",
      "metadata": {
        "id": "QDiEVRkkfHHL"
      },
      "source": [
        "* The easiest way to use TensorBoard with a Keras model and the fit method is the TensorBoard callback.\n",
        "* In the simplest case, just specify where you want the callback to write logs, and you're good to go:"
      ]
    },
    {
      "cell_type": "code",
      "metadata": {
        "id": "gSoTL8dogOS3"
      },
      "source": [
        ""
      ],
      "execution_count": null,
      "outputs": []
    }
  ]
}