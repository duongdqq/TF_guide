{
  "nbformat": 4,
  "nbformat_minor": 0,
  "metadata": {
    "colab": {
      "name": "3_train_n_evaluation_w_builtin_methods.ipynb",
      "provenance": [],
      "collapsed_sections": [
        "PoCow1m6gaF_",
        "KUZlHV_jgkZR"
      ],
      "authorship_tag": "ABX9TyOpwcTVzMBD+YG0JwRoJZOZ",
      "include_colab_link": true
    },
    "kernelspec": {
      "name": "python3",
      "display_name": "Python 3"
    },
    "accelerator": "TPU"
  },
  "cells": [
    {
      "cell_type": "markdown",
      "metadata": {
        "id": "view-in-github",
        "colab_type": "text"
      },
      "source": [
        "<a href=\"https://colab.research.google.com/github/duongdqq/TF_guide/blob/master/3_train_n_evaluation_w_builtin_methods.ipynb\" target=\"_parent\"><img src=\"https://colab.research.google.com/assets/colab-badge.svg\" alt=\"Open In Colab\"/></a>"
      ]
    },
    {
      "cell_type": "code",
      "metadata": {
        "id": "vtr67YAvtI7x"
      },
      "source": [
        "import tensorflow as tf\n",
        "from tensorflow import keras\n",
        "from tensorflow.keras import layers"
      ],
      "execution_count": 38,
      "outputs": []
    },
    {
      "cell_type": "markdown",
      "metadata": {
        "id": "xNzVwBbMsb9d"
      },
      "source": [
        "# API overview: a first end-to-end example"
      ]
    },
    {
      "cell_type": "code",
      "metadata": {
        "id": "BsTemSzGStn9"
      },
      "source": [
        "inputs = keras.Input(shape=(784,), name='digits')\n",
        "x = layers.Dense(64, activation='relu', name='dense_1')(inputs)\n",
        "x = layers.Dense(64, activation='relu', name='dense_2')(x)\n",
        "outputs = layers.Dense(10, activation='softmax', name='predictions')(x)\n",
        "\n",
        "model = keras.Model(inputs=inputs, outputs=outputs)"
      ],
      "execution_count": 39,
      "outputs": []
    },
    {
      "cell_type": "code",
      "metadata": {
        "id": "D0q84zbNtHeQ"
      },
      "source": [
        "(x_train, y_train), (x_test, y_test) = keras.datasets.mnist.load_data()"
      ],
      "execution_count": 40,
      "outputs": []
    },
    {
      "cell_type": "code",
      "metadata": {
        "id": "muNQYNSNJcZv",
        "outputId": "1ad99d97-f226-4105-c168-15450110a4ca",
        "colab": {
          "base_uri": "https://localhost:8080/",
          "height": 51
        }
      },
      "source": [
        "print(len(x_train))\n",
        "print(len(x_test))\n",
        "x_train = x_train.reshape(60000, 784).astype('float32') / 255\n",
        "x_test = x_test.reshape(10000, 784).astype('float32') / 255\n",
        "\n",
        "y_train = y_train.astype('float32')\n",
        "y_test = y_test.astype('float32')\n",
        "\n",
        "x_val = x_train[-10000:]\n",
        "y_val = y_train[-10000:]\n",
        "x_train = x_train[:-10000]\n",
        "y_train = y_train[:-10000]"
      ],
      "execution_count": 41,
      "outputs": [
        {
          "output_type": "stream",
          "text": [
            "60000\n",
            "10000\n"
          ],
          "name": "stdout"
        }
      ]
    },
    {
      "cell_type": "code",
      "metadata": {
        "id": "cqnOGN3tJrsf",
        "outputId": "97b3564a-08f6-433f-cc4c-f0653c2aff51",
        "colab": {
          "base_uri": "https://localhost:8080/",
          "height": 136
        }
      },
      "source": [
        "print(len(x_train))\n",
        "print(len(x_val))\n",
        "print(len(x_test))\n",
        "print('-'*10)\n",
        "print(len(y_train))\n",
        "print(len(y_val))\n",
        "print(len(y_test))"
      ],
      "execution_count": 42,
      "outputs": [
        {
          "output_type": "stream",
          "text": [
            "50000\n",
            "10000\n",
            "10000\n",
            "----------\n",
            "50000\n",
            "10000\n",
            "10000\n"
          ],
          "name": "stdout"
        }
      ]
    },
    {
      "cell_type": "code",
      "metadata": {
        "id": "cB99cvfDKZJV"
      },
      "source": [
        "# specify the training configuration\n",
        "model.compile(\n",
        "    optimizer=keras.optimizers.RMSprop(),\n",
        "    loss=keras.losses.SparseCategoricalCrossentropy(),\n",
        "    metrics=[keras.metrics.SparseCategoricalAccuracy()]\n",
        ")"
      ],
      "execution_count": 43,
      "outputs": []
    },
    {
      "cell_type": "code",
      "metadata": {
        "id": "34lbGarkNEnZ",
        "outputId": "81bd947a-82dc-4496-eb6d-36d7cca3377a",
        "colab": {
          "base_uri": "https://localhost:8080/",
          "height": 105
        }
      },
      "source": [
        "# call fit() to slide data into batches\n",
        "history = model.fit(\n",
        "    x_train,\n",
        "    y_train,\n",
        "    batch_size=64,\n",
        "    epochs=2,\n",
        "    validation_data=(x_val, y_val)\n",
        ") "
      ],
      "execution_count": 44,
      "outputs": [
        {
          "output_type": "stream",
          "text": [
            "Epoch 1/2\n",
            "782/782 [==============================] - 2s 2ms/step - loss: 0.3377 - sparse_categorical_accuracy: 0.9039 - val_loss: 0.1863 - val_sparse_categorical_accuracy: 0.9460\n",
            "Epoch 2/2\n",
            "782/782 [==============================] - 1s 2ms/step - loss: 0.1508 - sparse_categorical_accuracy: 0.9550 - val_loss: 0.1335 - val_sparse_categorical_accuracy: 0.9611\n"
          ],
          "name": "stdout"
        }
      ]
    },
    {
      "cell_type": "code",
      "metadata": {
        "id": "ib5WhrxoNwBs",
        "outputId": "d8a70fd0-544e-42de-f737-2e35396d87be",
        "colab": {
          "base_uri": "https://localhost:8080/",
          "height": 85
        }
      },
      "source": [
        "# history holds record of the loss values and metric values during training\n",
        "history.history"
      ],
      "execution_count": 45,
      "outputs": [
        {
          "output_type": "execute_result",
          "data": {
            "text/plain": [
              "{'loss': [0.3377305567264557, 0.1508178561925888],\n",
              " 'sparse_categorical_accuracy': [0.9039199948310852, 0.9549599885940552],\n",
              " 'val_loss': [0.18628622591495514, 0.13353805243968964],\n",
              " 'val_sparse_categorical_accuracy': [0.9459999799728394, 0.9610999822616577]}"
            ]
          },
          "metadata": {
            "tags": []
          },
          "execution_count": 45
        }
      ]
    },
    {
      "cell_type": "code",
      "metadata": {
        "id": "b50Zi8DQPQ18",
        "outputId": "88a86554-e3d0-4d19-a05c-e8d09e44fa5b",
        "colab": {
          "base_uri": "https://localhost:8080/",
          "height": 34
        }
      },
      "source": [
        "# evaluate model on the test data\n",
        "results = model.evaluate(x_val, y_val, batch_size=128)"
      ],
      "execution_count": 46,
      "outputs": [
        {
          "output_type": "stream",
          "text": [
            "79/79 [==============================] - 0s 1ms/step - loss: 0.1335 - sparse_categorical_accuracy: 0.9611\n"
          ],
          "name": "stdout"
        }
      ]
    },
    {
      "cell_type": "code",
      "metadata": {
        "id": "4RZTnKUTYLGN",
        "outputId": "5676b210-17a8-415f-dfd1-db9abf2f3378",
        "colab": {
          "base_uri": "https://localhost:8080/",
          "height": 170
        }
      },
      "source": [
        "predictions = model.predict(x_test[:3])\n",
        "predictions"
      ],
      "execution_count": 47,
      "outputs": [
        {
          "output_type": "execute_result",
          "data": {
            "text/plain": [
              "array([[1.7879194e-06, 1.7838173e-07, 5.5737837e-05, 1.0455530e-04,\n",
              "        6.4203824e-08, 1.4882244e-06, 9.8944984e-11, 9.9974054e-01,\n",
              "        3.3444646e-06, 9.2379261e-05],\n",
              "       [2.9537682e-06, 1.6467800e-04, 9.9959260e-01, 1.4996962e-04,\n",
              "        2.4616869e-12, 1.2922469e-06, 5.0152778e-07, 1.5742895e-09,\n",
              "        8.8022884e-05, 8.2672647e-11],\n",
              "       [2.4299297e-05, 9.9207580e-01, 1.1150719e-03, 7.6321803e-04,\n",
              "        1.6981586e-04, 1.2099812e-04, 2.8804262e-04, 3.4756502e-03,\n",
              "        1.9116851e-03, 5.5392960e-05]], dtype=float32)"
            ]
          },
          "metadata": {
            "tags": []
          },
          "execution_count": 47
        }
      ]
    },
    {
      "cell_type": "code",
      "metadata": {
        "id": "YnvUqcKDYlTH",
        "outputId": "e58b387b-7e08-4df8-d778-a0fd638dacdf",
        "colab": {
          "base_uri": "https://localhost:8080/",
          "height": 34
        }
      },
      "source": [
        "predictions.shape"
      ],
      "execution_count": 48,
      "outputs": [
        {
          "output_type": "execute_result",
          "data": {
            "text/plain": [
              "(3, 10)"
            ]
          },
          "metadata": {
            "tags": []
          },
          "execution_count": 48
        }
      ]
    },
    {
      "cell_type": "markdown",
      "metadata": {
        "id": "Aeof2OUOZ_m-"
      },
      "source": [
        "# The compile() method: specifying a loss, metrics, and an optimizer"
      ]
    },
    {
      "cell_type": "markdown",
      "metadata": {
        "id": "pyjkbqgQYCPX"
      },
      "source": [
        "* Specify optimizer, loss function and metrics by model.compile()"
      ]
    },
    {
      "cell_type": "code",
      "metadata": {
        "id": "g-8vBFUGYq0m"
      },
      "source": [
        "inputs = keras.Input(shape=(784,), name='digits')\n",
        "x = layers.Dense(64, activation='relu', name='dense_1')(inputs)\n",
        "x = layers.Dense(64, activation='relu', name='dense_2')(x)\n",
        "outputs = layers.Dense(10, activation='softmax', name='predictions')(x)\n",
        "\n",
        "model = keras.Model(inputs=inputs, outputs=outputs)"
      ],
      "execution_count": 49,
      "outputs": []
    },
    {
      "cell_type": "markdown",
      "metadata": {
        "id": "Dm90V1vdZGyP"
      },
      "source": [
        "* 1st method"
      ]
    },
    {
      "cell_type": "code",
      "metadata": {
        "id": "bgotW7R0YI44"
      },
      "source": [
        "model.compile(\n",
        "    optimizer=keras.optimizers.RMSprop(learning_rate=1e-3),\n",
        "    loss=keras.losses.SparseCategoricalCrossentropy(),\n",
        "    metrics=[keras.metrics.SparseCategoricalAccuracy()]\n",
        ")"
      ],
      "execution_count": 50,
      "outputs": []
    },
    {
      "cell_type": "markdown",
      "metadata": {
        "id": "vhihRto3Y2fI"
      },
      "source": [
        "* If model has multiple outputs, specify different losses and metrics for each output, and modulate the contribution of each output to the total loss of the model"
      ]
    },
    {
      "cell_type": "markdown",
      "metadata": {
        "id": "yz74j5jPZJc4"
      },
      "source": [
        "* 2nd method"
      ]
    },
    {
      "cell_type": "code",
      "metadata": {
        "id": "MuZF3TGZZDtp"
      },
      "source": [
        "model.compile(\n",
        "    optimizer='rmsprop',\n",
        "    loss='sparse_categorical_crossentropy',\n",
        "    metrics=['sparse_categorical_accuracy']\n",
        ")"
      ],
      "execution_count": 51,
      "outputs": []
    },
    {
      "cell_type": "markdown",
      "metadata": {
        "id": "TwehJBbtZo4O"
      },
      "source": [
        "* For later reuse, put the model definition and compile step in function"
      ]
    },
    {
      "cell_type": "code",
      "metadata": {
        "id": "Pd4Oz_q9Z4e5"
      },
      "source": [
        "def get_uncompiled_model():\n",
        "  inputs = keras.Input(shape=(784,), name='digits')\n",
        "  x = layers.Dense(64, activation='relu', name='dense_1')(inputs)\n",
        "  x = layers.Dense(64, activation='relu', name='dense_2')(x)\n",
        "  outputs = layers.Dense(10, activation='softmax', name='predictions')(x)\n",
        "  model = keras.Model(inputs=inputs, outputs=outputs)\n",
        "  return model"
      ],
      "execution_count": 52,
      "outputs": []
    },
    {
      "cell_type": "code",
      "metadata": {
        "id": "2bnbJP9JaGSH"
      },
      "source": [
        "def get_compiled_model():\n",
        "  model = get_uncompiled_model()\n",
        "  model.compile(\n",
        "    optimizer='rmsprop',\n",
        "    loss='sparse_categorical_crossentropy',\n",
        "    metrics=['sparse_categorical_accuracy']\n",
        "  )\n",
        "  return model"
      ],
      "execution_count": 53,
      "outputs": []
    },
    {
      "cell_type": "markdown",
      "metadata": {
        "id": "KRwHHKBFac7f"
      },
      "source": [
        "### Many built-in optimizers, losses, and metrics are available"
      ]
    },
    {
      "cell_type": "markdown",
      "metadata": {
        "id": "gRY9jF8baW89"
      },
      "source": [
        "* Optimizers\n",
        "  * SDG() with or without momentum\n",
        "  * RMSprop()\n",
        "  * Adam()\n",
        "* Losses\n",
        "  * MeanSquaredError()\n",
        "  * KLDivergence()\n",
        "  * CosineSimilarity()\n",
        "* Metrics\n",
        "  * AUC()\n",
        "  * Precision()\n",
        "  * Recall()"
      ]
    },
    {
      "cell_type": "markdown",
      "metadata": {
        "id": "S6-ZhZkEaf3O"
      },
      "source": [
        "### Custom losses"
      ]
    },
    {
      "cell_type": "markdown",
      "metadata": {
        "id": "owXHR-gmeZHD"
      },
      "source": [
        "* 1st method"
      ]
    },
    {
      "cell_type": "code",
      "metadata": {
        "id": "A78qf_XjdODE"
      },
      "source": [
        "def custom_mean_squared_error(y_true, y_pred):\n",
        "  return tf.math.reduce_mean(tf.square(y_true - y_pred))\n",
        "\n",
        "model = get_uncompiled_model()\n",
        "model.compile(\n",
        "    optimizer=keras.optimizers.Adam(),\n",
        "    loss=custom_mean_squared_error\n",
        ")"
      ],
      "execution_count": 54,
      "outputs": []
    },
    {
      "cell_type": "code",
      "metadata": {
        "id": "Zin2b7s_d0YN",
        "outputId": "a78ea4c1-ec76-448d-c628-351058a95746",
        "colab": {
          "base_uri": "https://localhost:8080/",
          "height": 51
        }
      },
      "source": [
        "y_train_one_hot = tf.one_hot(y_train, depth=10)\n",
        "model.fit(x_train, y_train_one_hot, batch_size=64, epochs=1)"
      ],
      "execution_count": 55,
      "outputs": [
        {
          "output_type": "stream",
          "text": [
            "782/782 [==============================] - 1s 2ms/step - loss: 0.0154\n"
          ],
          "name": "stdout"
        },
        {
          "output_type": "execute_result",
          "data": {
            "text/plain": [
              "<tensorflow.python.keras.callbacks.History at 0x7f214b024fd0>"
            ]
          },
          "metadata": {
            "tags": []
          },
          "execution_count": 55
        }
      ]
    },
    {
      "cell_type": "markdown",
      "metadata": {
        "id": "DTJjuHtIea5q"
      },
      "source": [
        "* 2nd method"
      ]
    },
    {
      "cell_type": "markdown",
      "metadata": {
        "id": "_N2HpyOTfrVo"
      },
      "source": [
        "* __init__(self): accept parameters to pass during the call of your loss function\n",
        "* call(self, y_true, y_pred): use the targets (y_true) and the model predictions (y_pred) to compute the model's loss"
      ]
    },
    {
      "cell_type": "code",
      "metadata": {
        "id": "7ERVusXTPHNk",
        "outputId": "1e01be62-1a63-4725-9c2c-a95c10dda7fe",
        "colab": {
          "base_uri": "https://localhost:8080/",
          "height": 51
        }
      },
      "source": [
        "class CustomMSE(keras.losses.Loss):\n",
        "  def __init__(self, regularization_factor=0.1, name='custom_mse'):\n",
        "    super().__init__(name=name)\n",
        "    self.regularization_factor = regularization_factor\n",
        "\n",
        "  def call(self, y_true, y_pred):\n",
        "    mse = tf.math.reduce_mean(tf.square(y_true - y_pred))\n",
        "    reg = tf.math.reduce_mean(tf.square(0.5 - y_pred))\n",
        "    return mse + reg * self.regularization_factor\n",
        "\n",
        "\n",
        "model = get_compiled_model()\n",
        "model.compile(optimizer=keras.optimizers.Adam(),\n",
        "              loss=CustomMSE())\n",
        "\n",
        "y_train_one_hot = tf.one_hot(y_train, depth=10)\n",
        "model.fit(x_train, y_train_one_hot, batch_size=64, epochs=1)"
      ],
      "execution_count": 56,
      "outputs": [
        {
          "output_type": "stream",
          "text": [
            "782/782 [==============================] - 1s 2ms/step - loss: 0.0391\n"
          ],
          "name": "stdout"
        },
        {
          "output_type": "execute_result",
          "data": {
            "text/plain": [
              "<tensorflow.python.keras.callbacks.History at 0x7f214a7d2ef0>"
            ]
          },
          "metadata": {
            "tags": []
          },
          "execution_count": 56
        }
      ]
    },
    {
      "cell_type": "markdown",
      "metadata": {
        "id": "qfStowMgaikf"
      },
      "source": [
        "### Custom metrics"
      ]
    },
    {
      "cell_type": "markdown",
      "metadata": {
        "id": "x2ae4pI8f1Wb"
      },
      "source": [
        "* __init__(self), in which you will create state variables for your metric.\n",
        "* update_state(self, y_true, y_pred, sample_weight=None), which uses the targets * y_true and the model predictions y_pred to update the state variables.\n",
        "* result(self), which uses the state variables to compute the final results.\n",
        "* reset_states(self), which reinitializes the state of the metric."
      ]
    },
    {
      "cell_type": "markdown",
      "metadata": {
        "id": "XE70J4PBg3NY"
      },
      "source": [
        "* State update and results computation are kept separate (in update_state() and result(), respectively) because in some cases, results computation might be very expensive, and would only be done periodically."
      ]
    },
    {
      "cell_type": "code",
      "metadata": {
        "id": "-RgOAV4-g7js"
      },
      "source": [
        "class CategoricalTruePositives(keras.metrics.Metric):\n",
        "  def __init__(self, name='categorical_true_positives', **kwargs):\n",
        "    super(CategoricalTruePositives, self).__init__(name=name, **kwargs)\n",
        "    self.true_positives = self.add_weight(name='ctp', initializer='zeros')\n",
        "\n",
        "  \n",
        "  def update_state(self, y_true, y_pred, sample_weight=None):\n",
        "    y_pred = tf.reshape(tf.argmax(y_pred, axis=1), shape=(-1, 1))\n",
        "    values = tf.cast(y_true, 'int32') == tf.cast(y_pred, 'int32')\n",
        "    values = tf.cast(values, 'float32')\n",
        "    if sample_weight is not None:\n",
        "      sample_weight = tf.cast(sample_weight, 'float32')\n",
        "      values = tf.multiply(values, sample_weight)\n",
        "    self.true_positives.assign_add(tf.reduce_sum(values))\n",
        "\n",
        "  \n",
        "  def result(self):\n",
        "    return self.true_positives\n",
        "\n",
        "  \n",
        "  def reset_states(self):\n",
        "  # The state of the metric will be reset at the start of each epoch.\n",
        "    self.true_positives.assign(0.0)"
      ],
      "execution_count": 57,
      "outputs": []
    },
    {
      "cell_type": "code",
      "metadata": {
        "id": "Ah4Qav2iK0Vl",
        "outputId": "c78495a4-abdc-427e-817d-2926e484324f",
        "colab": {
          "base_uri": "https://localhost:8080/",
          "height": 136
        }
      },
      "source": [
        "model = get_uncompiled_model()\n",
        "model.compile(optimizer=keras.optimizers.RMSprop(learning_rate=1e-3),\n",
        "              loss=keras.losses.SparseCategoricalCrossentropy(),\n",
        "              metrics=[CategoricalTruePositives()])\n",
        "\n",
        "model.fit(x_train, y_train, batch_size=128, epochs=3)\n"
      ],
      "execution_count": 58,
      "outputs": [
        {
          "output_type": "stream",
          "text": [
            "Epoch 1/3\n",
            "391/391 [==============================] - 1s 2ms/step - loss: 0.4047 - categorical_true_positives: 44293.0000\n",
            "Epoch 2/3\n",
            "391/391 [==============================] - 1s 2ms/step - loss: 0.1831 - categorical_true_positives: 47298.0000\n",
            "Epoch 3/3\n",
            "391/391 [==============================] - 1s 2ms/step - loss: 0.1323 - categorical_true_positives: 48020.0000\n"
          ],
          "name": "stdout"
        },
        {
          "output_type": "execute_result",
          "data": {
            "text/plain": [
              "<tensorflow.python.keras.callbacks.History at 0x7f2149e626d8>"
            ]
          },
          "metadata": {
            "tags": []
          },
          "execution_count": 58
        }
      ]
    },
    {
      "cell_type": "markdown",
      "metadata": {
        "id": "A2ieKPfDalq0"
      },
      "source": [
        "### Handling losses and metrics that don't fit the standard signature"
      ]
    },
    {
      "cell_type": "markdown",
      "metadata": {
        "id": "GmwP_eY0P-TF"
      },
      "source": [
        "* The overwhelming majority of losses and metrics can be computed from y_true and y_pred, where y_pred is an output of your model. \n",
        "* But not all of them. For instance, a regularization loss may only require the activation of a layer (there are no targets in this case), and this activation may not be a model output.\n",
        "\n",
        "* In such cases, you can call self.add_loss(loss_value) from inside the call method of a custom layer. \n",
        "* Losses added in this way get added to the \"main\" loss during training (the one passed to compile()). \n",
        "* Here's a simple example that adds activity regularization (note that activity regularization is built-in in all Keras layers -- this layer is just for the sake of providing a concrete example):"
      ]
    },
    {
      "cell_type": "code",
      "metadata": {
        "id": "VpEONJB8Q_p8",
        "outputId": "f379c06e-b7bc-417e-e89e-282970c65bf3",
        "colab": {
          "base_uri": "https://localhost:8080/",
          "height": 51
        }
      },
      "source": [
        "class ActivityRegularizationLayer(layers.Layer):\n",
        "  def call(self, inputs):\n",
        "    self.add_loss(tf.reduce_sum(inputs) * 0.1)\n",
        "    return inputs  # pass through layer\n",
        "\n",
        "\n",
        "inputs = keras.Input(shape=(784,), name='digits')\n",
        "x = layers.Dense(64, activation='relu', name='dense_1')(inputs)\n",
        "\n",
        "# insert activity regurlarization as a layer\n",
        "x = ActivityRegularizationLayer()(x)\n",
        "\n",
        "x = layers.Dense(64, activation='relu', name='dense_2')(x)\n",
        "outputs = layers.Dense(10, name='predictions')(x)\n",
        "\n",
        "model = keras.Model(inputs=inputs, outputs=outputs)\n",
        "model.compile(optimizer=keras.optimizers.RMSprop(learning_rate=1e-3),\n",
        "              loss=keras.losses.SparseCategoricalCrossentropy(from_logits=True))\n",
        "\n",
        "model.fit(x_train, y_train, batch_size=128, epochs=1)"
      ],
      "execution_count": 59,
      "outputs": [
        {
          "output_type": "stream",
          "text": [
            "391/391 [==============================] - 1s 2ms/step - loss: 3.0730\n"
          ],
          "name": "stdout"
        },
        {
          "output_type": "execute_result",
          "data": {
            "text/plain": [
              "<tensorflow.python.keras.callbacks.History at 0x7f214958cac8>"
            ]
          },
          "metadata": {
            "tags": []
          },
          "execution_count": 59
        }
      ]
    },
    {
      "cell_type": "markdown",
      "metadata": {
        "id": "1qvxmcEVVwpd"
      },
      "source": [
        "* You can do the same for logging metric values, using add_metric():"
      ]
    },
    {
      "cell_type": "code",
      "metadata": {
        "id": "LG3xV96tVwDL",
        "outputId": "005d3b75-d047-4c88-dde7-9a26e285e96c",
        "colab": {
          "base_uri": "https://localhost:8080/",
          "height": 51
        }
      },
      "source": [
        "class MetricLoggingLayer(layers.Layer):\n",
        "  def call(self, inputs):\n",
        "    self.add_metric(keras.backend.std(inputs), \n",
        "                    name='std_of_activation', \n",
        "                    aggregation='mean')\n",
        "    return inputs\n",
        "\n",
        "\n",
        "inputs = keras.Input(shape=(784,), name=\"digits\")\n",
        "x = layers.Dense(64, activation=\"relu\", name=\"dense_1\")(inputs)\n",
        "\n",
        "# Insert std logging as a layer.\n",
        "x = MetricLoggingLayer()(x)\n",
        "\n",
        "x = layers.Dense(64, activation=\"relu\", name=\"dense_2\")(x)\n",
        "outputs = layers.Dense(10, name=\"predictions\")(x)\n",
        "\n",
        "model = keras.Model(inputs=inputs, outputs=outputs)\n",
        "model.compile(\n",
        "    optimizer=keras.optimizers.RMSprop(learning_rate=1e-3),\n",
        "    loss=keras.losses.SparseCategoricalCrossentropy(from_logits=True),\n",
        ")\n",
        "model.fit(x_train, y_train, batch_size=64, epochs=1)"
      ],
      "execution_count": 60,
      "outputs": [
        {
          "output_type": "stream",
          "text": [
            "782/782 [==============================] - 1s 2ms/step - loss: 0.3419 - std_of_activation: 0.9719\n"
          ],
          "name": "stdout"
        },
        {
          "output_type": "execute_result",
          "data": {
            "text/plain": [
              "<tensorflow.python.keras.callbacks.History at 0x7f2148c36ba8>"
            ]
          },
          "metadata": {
            "tags": []
          },
          "execution_count": 60
        }
      ]
    },
    {
      "cell_type": "markdown",
      "metadata": {
        "id": "lU-g-f8IWxvw"
      },
      "source": [
        "* In the Functional API, you can also call \n",
        "* model.add_loss(loss_tensor), or \n",
        "* model.add_metric(metric_tensor, name, aggregation)."
      ]
    },
    {
      "cell_type": "code",
      "metadata": {
        "id": "R_NBIKNOXYdW",
        "outputId": "403edcdf-33f9-4c94-837a-18b06730c50c",
        "colab": {
          "base_uri": "https://localhost:8080/",
          "height": 51
        }
      },
      "source": [
        "inputs = keras.Input(shape=(784,), name='digits')\n",
        "x1 = layers.Dense(64, 'relu', name='dense1')(inputs)\n",
        "x2 = layers.Dense(64, 'relu', name='dense2')(x1)\n",
        "outputs = layers.Dense(10, name='predictions')(x2)\n",
        "model = keras.Model(inputs=inputs, outputs=outputs)\n",
        "\n",
        "model.add_loss(tf.reduce_sum(x1) * 0.1)\n",
        "model.add_metric(keras.backend.std(x1), name='std_of_activation', aggregation='mean')\n",
        "\n",
        "model.compile(optimizer=keras.optimizers.RMSprop(learning_rate=1e-3),\n",
        "              loss=keras.losses.SparseCategoricalCrossentropy(from_logits=True))\n",
        "model.fit(x_train, y_train, batch_size=256, epochs=1)"
      ],
      "execution_count": 61,
      "outputs": [
        {
          "output_type": "stream",
          "text": [
            "196/196 [==============================] - 1s 3ms/step - loss: 5.2351 - std_of_activation: 0.0067\n"
          ],
          "name": "stdout"
        },
        {
          "output_type": "execute_result",
          "data": {
            "text/plain": [
              "<tensorflow.python.keras.callbacks.History at 0x7f21482feda0>"
            ]
          },
          "metadata": {
            "tags": []
          },
          "execution_count": 61
        }
      ]
    },
    {
      "cell_type": "markdown",
      "metadata": {
        "id": "X5lgNUO_a35-"
      },
      "source": [
        "* Note that when you pass losses via add_loss(), it becomes possible to call compile() without a loss function, since the model already has a loss to minimize.\n",
        "* Consider the following LogisticEndpoint layer: it takes as inputs targets & logits, and it tracks a crossentropy loss via add_loss(). It also tracks classification accuracy via add_metric()."
      ]
    },
    {
      "cell_type": "code",
      "metadata": {
        "id": "y9Y6Dzbua_Px"
      },
      "source": [
        "class LogisticEndpoint(keras.layers.Layer):\n",
        "  def __init__(self, name=None):\n",
        "    super(LogisticEndpoint, self).__init__(name=name)\n",
        "    self.loss_fn = keras.losses.BinaryCrossentropy(from_logits=True)\n",
        "    self.accuracy_fn = keras.metrics.BinaryAccuracy()\n",
        "\n",
        "  def call(self, targets, logits, sample_weights=None):\n",
        "    # Compute the training-time loss value and add it\n",
        "    # to the layer using `self.add_loss()`.\n",
        "    loss = self.loss_fn(targets, logits, sample_weights)\n",
        "    self.add_loss(loss)\n",
        "\n",
        "    # Log accuracy as a metric and add it\n",
        "    # to the layer using `self.add_metric()`.\n",
        "    acc = self.accuracy_fn(targets, logits, sample_weights)\n",
        "    self.add_metric(acc, name='accuracy')\n",
        "\n",
        "    # Return the inference-time prediction tensor (for `.predict()`).\n",
        "    return tf.nn.softmax(logits)"
      ],
      "execution_count": 62,
      "outputs": []
    },
    {
      "cell_type": "markdown",
      "metadata": {
        "id": "iq87ct6maM6N"
      },
      "source": [
        "* You can use it in a model with two inputs (input data & targets), compiled without a loss argument, like this:"
      ]
    },
    {
      "cell_type": "code",
      "metadata": {
        "id": "GyOYILe-aO-D",
        "outputId": "7d95fa63-ce72-4c5d-8049-f3dd45d83467",
        "colab": {
          "base_uri": "https://localhost:8080/",
          "height": 51
        }
      },
      "source": [
        "import numpy as np\n",
        "\n",
        "inputs = keras.Input(shape=(3,), name='inputs')\n",
        "targets = keras.Input(shape=(10, ), name='targets')\n",
        "logits = keras.layers.Dense(10)(inputs)\n",
        "predictions = LogisticEndpoint(name='pred')(logits, targets)\n",
        "\n",
        "model = keras.Model(inputs=[inputs, targets], outputs=predictions)\n",
        "model.compile(optimizer='adam')  \n",
        "\n",
        "data = {'inputs': np.random.random((3,3)),\n",
        "        'targets': np.random.random((3,10))}\n",
        "\n",
        "model.fit(data)"
      ],
      "execution_count": 63,
      "outputs": [
        {
          "output_type": "stream",
          "text": [
            "1/1 [==============================] - 0s 2ms/step - loss: 1.0465 - binary_accuracy: 0.0000e+00\n"
          ],
          "name": "stdout"
        },
        {
          "output_type": "execute_result",
          "data": {
            "text/plain": [
              "<tensorflow.python.keras.callbacks.History at 0x7f21479bc7b8>"
            ]
          },
          "metadata": {
            "tags": []
          },
          "execution_count": 63
        }
      ]
    },
    {
      "cell_type": "markdown",
      "metadata": {
        "id": "52r554lBascH"
      },
      "source": [
        "### Automatically setting apart a validation holdout set"
      ]
    },
    {
      "cell_type": "markdown",
      "metadata": {
        "id": "iW9LVNndd2zy"
      },
      "source": [
        "* Here's another option: the argument validation_split allows you to automatically reserve part of your training data for validation. The argument value represents the fraction of the data to be reserved for validation, so it should be set to a number higher than 0 and lower than 1. For instance, validation_split=0.2 means \"use 20% of the data for validation\", and validation_split=0.6 means \"use 60% of the data for validation\"."
      ]
    },
    {
      "cell_type": "code",
      "metadata": {
        "id": "_KGqiepgeSUb",
        "outputId": "90a2c304-1ac8-4d53-9276-f6d6c4f90d86",
        "colab": {
          "base_uri": "https://localhost:8080/",
          "height": 71
        }
      },
      "source": [
        "model = get_compiled_model()\n",
        "model.fit(x_train, y_train, batch_size=64, validation_split=0.2, epochs=1)"
      ],
      "execution_count": 64,
      "outputs": [
        {
          "output_type": "stream",
          "text": [
            "625/625 [==============================] - 1s 2ms/step - loss: 0.3688 - sparse_categorical_accuracy: 0.8962 - val_loss: 0.2164 - val_sparse_categorical_accuracy: 0.9356\n"
          ],
          "name": "stdout"
        },
        {
          "output_type": "execute_result",
          "data": {
            "text/plain": [
              "<tensorflow.python.keras.callbacks.History at 0x7f21470a4be0>"
            ]
          },
          "metadata": {
            "tags": []
          },
          "execution_count": 64
        }
      ]
    },
    {
      "cell_type": "markdown",
      "metadata": {
        "id": "YQO0LHUvevNA"
      },
      "source": [
        "# Training & evaluation from tf.data Datasets"
      ]
    },
    {
      "cell_type": "markdown",
      "metadata": {
        "id": "feg2rfVGODNr"
      },
      "source": [
        "* the case where your data comes in the form of a tf.data.Dataset object\n",
        "* tf.data API is a set of utilities in TF 2.0 for loading and preprocessing data in a way that is fast and scalable\n",
        "* can pass a Dataset instance directly to the methods fit(), evaluate(), and predict()"
      ]
    },
    {
      "cell_type": "code",
      "metadata": {
        "id": "iN4BUPlrOmQ1",
        "outputId": "10b72edf-1c83-492c-a75d-931fa1d28b35",
        "colab": {
          "base_uri": "https://localhost:8080/",
          "height": 153
        }
      },
      "source": [
        "model = get_compiled_model()\n",
        "\n",
        "train_dataset = tf.data.Dataset.from_tensor_slices((x_train, y_train))\n",
        "train_dataset = train_dataset.shuffle(buffer_size = 1024).batch(64)\n",
        "\n",
        "test_dataset = tf.data.Dataset.from_tensor_slices((x_test, y_test))\n",
        "test_dataset = test_dataset.batch(64)\n",
        "\n",
        "model.fit(train_dataset, epochs=3)\n",
        "\n",
        "result = model.evaluate(test_dataset)\n",
        "dict(zip(model.metrics_names, results))"
      ],
      "execution_count": 65,
      "outputs": [
        {
          "output_type": "stream",
          "text": [
            "Epoch 1/3\n",
            "782/782 [==============================] - 1s 2ms/step - loss: 0.3464 - sparse_categorical_accuracy: 0.9022\n",
            "Epoch 2/3\n",
            "782/782 [==============================] - 1s 2ms/step - loss: 0.1574 - sparse_categorical_accuracy: 0.9531\n",
            "Epoch 3/3\n",
            "782/782 [==============================] - 1s 2ms/step - loss: 0.1131 - sparse_categorical_accuracy: 0.9659\n",
            "157/157 [==============================] - 0s 1ms/step - loss: 0.1157 - sparse_categorical_accuracy: 0.9636\n"
          ],
          "name": "stdout"
        },
        {
          "output_type": "execute_result",
          "data": {
            "text/plain": [
              "{'loss': 0.1335381269454956, 'sparse_categorical_accuracy': 0.9610999822616577}"
            ]
          },
          "metadata": {
            "tags": []
          },
          "execution_count": 65
        }
      ]
    },
    {
      "cell_type": "markdown",
      "metadata": {
        "id": "SumAHiTWAa8Q"
      },
      "source": [
        "* the Dataset is reset at the end of each epoch, so it can be reused of the next epoch.\n",
        "* If you want to run training only on a specific number of batches from this Dataset, you can pass the steps_per_epoch argument, which specifies how many training steps the model should run using this Dataset before moving on to the next epoch.\n",
        "* If you do this, the dataset is not reset at the end of each epoch, instead we just keep drawing the next batches. The dataset will eventually run out of data (unless it is an infinitely-looping dataset)."
      ]
    },
    {
      "cell_type": "code",
      "metadata": {
        "id": "aONYT5raqzY-",
        "outputId": "c7baac2b-0300-4555-91c7-1c94c4f98444",
        "colab": {
          "base_uri": "https://localhost:8080/",
          "height": 136
        }
      },
      "source": [
        "model = get_compiled_model()\n",
        "\n",
        "train_dataset = tf.data.Dataset.from_tensor_slices((x_train, y_train))\n",
        "train_dataset = train_dataset.shuffle(buffer_size=1024).batch(64)\n",
        "\n",
        "model.fit(train_dataset, epochs = 3, steps_per_epoch=100)"
      ],
      "execution_count": 66,
      "outputs": [
        {
          "output_type": "stream",
          "text": [
            "Epoch 1/3\n",
            "100/100 [==============================] - 0s 2ms/step - loss: 0.7809 - sparse_categorical_accuracy: 0.7877\n",
            "Epoch 2/3\n",
            "100/100 [==============================] - 0s 2ms/step - loss: 0.3760 - sparse_categorical_accuracy: 0.8920\n",
            "Epoch 3/3\n",
            "100/100 [==============================] - 0s 2ms/step - loss: 0.3330 - sparse_categorical_accuracy: 0.9027\n"
          ],
          "name": "stdout"
        },
        {
          "output_type": "execute_result",
          "data": {
            "text/plain": [
              "<tensorflow.python.keras.callbacks.History at 0x7f2145e97b00>"
            ]
          },
          "metadata": {
            "tags": []
          },
          "execution_count": 66
        }
      ]
    },
    {
      "cell_type": "markdown",
      "metadata": {
        "id": "fIJkk_7efD-E"
      },
      "source": [
        "## Using a validation dataset"
      ]
    },
    {
      "cell_type": "markdown",
      "metadata": {
        "id": "QAnr3hb-teqo"
      },
      "source": [
        "* pass a Dataset instance as the validation_data argument in fit()"
      ]
    },
    {
      "cell_type": "code",
      "metadata": {
        "id": "y_GIArgctnDG",
        "outputId": "976f0b0d-9b5b-4de1-fec0-d8a8788cd642",
        "colab": {
          "base_uri": "https://localhost:8080/",
          "height": 71
        }
      },
      "source": [
        "model = get_compiled_model()\n",
        "\n",
        "train_dataset = tf.data.Dataset.from_tensor_slices((x_train, y_train))\n",
        "train_dataset = train_dataset.shuffle(buffer_size=1024).batch(64)\n",
        "\n",
        "val_dataset = tf.data.Dataset.from_tensor_slices((x_val, y_val))\n",
        "val_dataset = val_dataset.batch(64)\n",
        "\n",
        "model.fit(train_dataset, validation_data=val_dataset, epochs=1)"
      ],
      "execution_count": 67,
      "outputs": [
        {
          "output_type": "stream",
          "text": [
            "782/782 [==============================] - 2s 2ms/step - loss: 0.3415 - sparse_categorical_accuracy: 0.9035 - val_loss: 0.1964 - val_sparse_categorical_accuracy: 0.9451\n"
          ],
          "name": "stdout"
        },
        {
          "output_type": "execute_result",
          "data": {
            "text/plain": [
              "<tensorflow.python.keras.callbacks.History at 0x7f2145e8c198>"
            ]
          },
          "metadata": {
            "tags": []
          },
          "execution_count": 67
        }
      ]
    },
    {
      "cell_type": "markdown",
      "metadata": {
        "id": "21CYO2pcucys"
      },
      "source": [
        "* At the end of each epoch, the model will iterate over the validation dataset and compute the validation loss and validation metrics.\n",
        "* If you want to run validation only on a specific number of batches from this dataset, you can pass the validation_steps argument, which specifies how many validation steps the model should run with the validation dataset before interrupting validation and moving on to the next epoch:"
      ]
    },
    {
      "cell_type": "code",
      "metadata": {
        "id": "i_pzc4UpvoB0",
        "outputId": "cd148590-c277-46d7-b04f-f0cc68c55231",
        "colab": {
          "base_uri": "https://localhost:8080/",
          "height": 71
        }
      },
      "source": [
        "model = get_compiled_model()\n",
        "\n",
        "train_dataset = tf.data.Dataset.from_tensor_slices((x_train, y_train))\n",
        "train_dataset = train_dataset.shuffle(buffer_size=1024).batch(64)\n",
        "\n",
        "val_dataset = tf.data.Dataset.from_tensor_slices((x_val, y_val))\n",
        "val_dataset = val_dataset.batch(64)\n",
        "\n",
        "model.fit(\n",
        "    train_dataset,\n",
        "    epochs=1,\n",
        "    validation_data=val_dataset,\n",
        "    validation_steps=10\n",
        ")"
      ],
      "execution_count": 68,
      "outputs": [
        {
          "output_type": "stream",
          "text": [
            "782/782 [==============================] - 2s 2ms/step - loss: 0.3335 - sparse_categorical_accuracy: 0.9039 - val_loss: 0.3152 - val_sparse_categorical_accuracy: 0.9219\n"
          ],
          "name": "stdout"
        },
        {
          "output_type": "execute_result",
          "data": {
            "text/plain": [
              "<tensorflow.python.keras.callbacks.History at 0x7f2148c2de48>"
            ]
          },
          "metadata": {
            "tags": []
          },
          "execution_count": 68
        }
      ]
    },
    {
      "cell_type": "markdown",
      "metadata": {
        "id": "pecoP7dXznjV"
      },
      "source": [
        "* the validation dataset will be reset after each use (so that you will always be evaluating on the same samples from epoch to epoch).\n",
        "* The argument validation_split (generating a holdout set from the training data) is not supported when training from Dataset objects, since this feature requires the ability to index the samples of the datasets, which is not possible in general with the Dataset API."
      ]
    },
    {
      "cell_type": "markdown",
      "metadata": {
        "id": "t64hkIFKfdEG"
      },
      "source": [
        "# Other input formats supported"
      ]
    },
    {
      "cell_type": "markdown",
      "metadata": {
        "id": "cKHHu0T20HdP"
      },
      "source": [
        "* Pandas dataframes\n",
        "* from python generator that yield batches of data & labels\n",
        "* In particular, the keras.utils.Sequence class offers a simple interface to build Python data generators that are multiprocessing-aware and can be shuffled."
      ]
    },
    {
      "cell_type": "markdown",
      "metadata": {
        "id": "2fxDiOsu0YX8"
      },
      "source": [
        "* In general, we recommend that you use:\n",
        "\n",
        "* NumPy input data if your data is small and fits in memory\n",
        "* Dataset objects if you have large datasets and you need to do distributed training\n",
        "* Sequence objects if you have large datasets and you need to do a lot of custom Python-side processing that cannot be done in TensorFlow (e.g. if you rely on external libraries for data loading or preprocessing).\n"
      ]
    },
    {
      "cell_type": "markdown",
      "metadata": {
        "id": "QWFt5mejfiK-"
      },
      "source": [
        "# Using a keras.utils.Sequence object as input"
      ]
    },
    {
      "cell_type": "markdown",
      "metadata": {
        "id": "QUYm-IqI0lNL"
      },
      "source": [
        "* keras.utils.Sequence is a utility that you can subclass to obtain a Python generator with two important properties:\n",
        "\n",
        "* It works well with multiprocessing.\n",
        "* It can be shuffled (e.g. when passing shuffle=True in fit())."
      ]
    },
    {
      "cell_type": "markdown",
      "metadata": {
        "id": "80t_zCo30sm6"
      },
      "source": [
        "* A Sequence must implement two methods:\n",
        "\n",
        "* __getitem__\n",
        "* __len__\n",
        "* The method __getitem__ should return a complete batch. If you want to modify your dataset between epochs, you may implement on_epoch_end."
      ]
    },
    {
      "cell_type": "code",
      "metadata": {
        "id": "Z3GmMFCv0xAJ",
        "outputId": "112246b6-7bdd-44fd-834e-7d6fc6cff654",
        "colab": {
          "base_uri": "https://localhost:8080/",
          "height": 214
        }
      },
      "source": [
        "from skimage.io import imread\n",
        "from skimage.transform import resize\n",
        "import numpy as np\n",
        "from keras.utils import Sequence\n",
        "\n",
        "class CIFAR10Sequence(Sequence):\n",
        "  def __init__(self, filenames, labels, batch_size):\n",
        "    self.filenames, self.labels = filenames, labels\n",
        "    self.batch_size = batch_size\n",
        "\n",
        "  \n",
        "  def __len__(self):\n",
        "    return int(np.ceil(len(self.filenames) / float(self.batch_size)))\n",
        "\n",
        "  \n",
        "  def __getitem__(self, idx):\n",
        "    batch_x = self.filenames[idx * self.batch_size:(idx + 1) * self.batch_size]\n",
        "    batch_y = self.labels[idx * self.batch_size:(idx + 1) * self.batch_size]\n",
        "    return \n",
        "    np.array([resize(imread(filename), (200, 200)) for filename in batch_x]),\n",
        "    np.array(batch_y)\n",
        "\n",
        "\n",
        "sequence = CIFAR10Sequence(filenames, labels, batch_size)\n",
        "model.fit(sequence, epochs=10)"
      ],
      "execution_count": 69,
      "outputs": [
        {
          "output_type": "error",
          "ename": "NameError",
          "evalue": "ignored",
          "traceback": [
            "\u001b[0;31m---------------------------------------------------------------------------\u001b[0m",
            "\u001b[0;31mNameError\u001b[0m                                 Traceback (most recent call last)",
            "\u001b[0;32m<ipython-input-69-b52c16912a99>\u001b[0m in \u001b[0;36m<module>\u001b[0;34m()\u001b[0m\n\u001b[1;32m     22\u001b[0m \u001b[0;34m\u001b[0m\u001b[0m\n\u001b[1;32m     23\u001b[0m \u001b[0;34m\u001b[0m\u001b[0m\n\u001b[0;32m---> 24\u001b[0;31m \u001b[0msequence\u001b[0m \u001b[0;34m=\u001b[0m \u001b[0mCIFAR10Sequence\u001b[0m\u001b[0;34m(\u001b[0m\u001b[0mfilenames\u001b[0m\u001b[0;34m,\u001b[0m \u001b[0mlabels\u001b[0m\u001b[0;34m,\u001b[0m \u001b[0mbatch_size\u001b[0m\u001b[0;34m)\u001b[0m\u001b[0;34m\u001b[0m\u001b[0;34m\u001b[0m\u001b[0m\n\u001b[0m\u001b[1;32m     25\u001b[0m \u001b[0mmodel\u001b[0m\u001b[0;34m.\u001b[0m\u001b[0mfit\u001b[0m\u001b[0;34m(\u001b[0m\u001b[0msequence\u001b[0m\u001b[0;34m,\u001b[0m \u001b[0mepochs\u001b[0m\u001b[0;34m=\u001b[0m\u001b[0;36m10\u001b[0m\u001b[0;34m)\u001b[0m\u001b[0;34m\u001b[0m\u001b[0;34m\u001b[0m\u001b[0m\n",
            "\u001b[0;31mNameError\u001b[0m: name 'filenames' is not defined"
          ]
        }
      ]
    },
    {
      "cell_type": "markdown",
      "metadata": {
        "id": "CYP_uwHzfi_4"
      },
      "source": [
        "# Using sample weighting and class weighting"
      ]
    },
    {
      "cell_type": "markdown",
      "metadata": {
        "id": "sATWxi6GBUsg"
      },
      "source": [
        "* With the default settings the weight of a sample is decided by its frequency in the dataset. \n",
        "* There are two methods to weight the data, independent of sample frequency:\n",
        "  * class weight\n",
        "  * sample weight"
      ]
    },
    {
      "cell_type": "markdown",
      "metadata": {
        "id": "FeBvXfmCfi0M"
      },
      "source": [
        "## Class weights"
      ]
    },
    {
      "cell_type": "markdown",
      "metadata": {
        "id": "4vTG_qxjCLoZ"
      },
      "source": [
        "* This is set by passing a dictionary to the class_weight argument to Model.fit()\n",
        "* This dictionary maps class indices to the weight that should be used for samples belonging to this class.\n",
        "* This can be used to balance classes without resampling, or to train a model that gives more importance to a particular class.\n",
        "* For instance, if class \"0\" is half as represented as class \"1\" in your data, you could use Model.fit(..., class_weight={0: 1., 1: 0.5}).\n",
        "* Here's a NumPy example where we use class weights or sample weights to give more importance to the correct classification of class #5 (which is the digit \"5\" in the MNIST dataset)."
      ]
    },
    {
      "cell_type": "code",
      "metadata": {
        "id": "u2x3mImmkT6A"
      },
      "source": [
        "import numpy as np\n",
        "\n",
        "class_weight = {\n",
        "    0: 1.0,\n",
        "    1: 1.0,\n",
        "    2: 1.0,\n",
        "    3: 1.0,\n",
        "    4: 1.0,\n",
        "    5: 2.0,  # noticeable\n",
        "    6: 1.0,\n",
        "    7: 1.0,\n",
        "    8: 1.0,\n",
        "    9: 1.0\n",
        "}\n",
        "\n",
        "print('fit with class weight')\n",
        "model = get_compiled_model()\n",
        "model.fit(x_train, y_train, class_weight=class_weight, batch_size=64, epochs=1)"
      ],
      "execution_count": null,
      "outputs": []
    },
    {
      "cell_type": "markdown",
      "metadata": {
        "id": "1smZRcvnfvSb"
      },
      "source": [
        "## Sample weights"
      ]
    },
    {
      "cell_type": "markdown",
      "metadata": {
        "id": "ryKaExd_luZT"
      },
      "source": [
        "* A \"sample weights\" array is an array of numbers that specify how much weight each sample in a batch should have in computing the total loss. \n",
        "* It is commonly used in imbalanced classification problems (the idea being to give more weight to rarely-seen classes).\n",
        "* When the weights used are ones and zeros, the array can be used as a mask for the loss function (entirely discarding the contribution of certain samples to the total loss).\n",
        "* For fine grained control, or if you are not building a classifier, you can use \"sample weights\".\n",
        "  * When training from NumPy data: Pass the sample_weight argument to Model.fit().\n",
        "  * When training from tf.data or any other sort of iterator: Yield (input_batch, label_batch, sample_weight_batch) tuples."
      ]
    },
    {
      "cell_type": "code",
      "metadata": {
        "id": "4LcxwGNomzaP"
      },
      "source": [
        "sample_weight = np.ones(shape=(len(y_train),))\n",
        "sample_weight[y_train == 5] = 2.0\n",
        "\n",
        "print('fit with sample weight')\n",
        "model = get_compiled_model()\n",
        "model.fit(x_train, y_train, sample_weight=sample_weight, batch_size=64, epochs=1)"
      ],
      "execution_count": null,
      "outputs": []
    },
    {
      "cell_type": "code",
      "metadata": {
        "id": "_BwBVmmaqJLI"
      },
      "source": [
        "sample_weight = np.ones(shape=(len(y_train),))\n",
        "sample_weight[y_train == 5] = 2.0\n",
        "\n",
        "# create a dataset that includes sample weights\n",
        "# 3rd element in the return tuple\n",
        "train_dataset = tf.data.Dataset.from_tensor_slices((x_train, y_train, sample_weight))\n",
        "\n",
        "train_dataset = train_dataset.shuffle(buffer_size=1024).batch(64)\n",
        "\n",
        "model = get_compiled_model()\n",
        "model.fit(train_dataset, epochs=1)"
      ],
      "execution_count": null,
      "outputs": []
    },
    {
      "cell_type": "markdown",
      "metadata": {
        "id": "VYN6zW2mf78u"
      },
      "source": [
        "# Passing data to multi-input, multi-output models"
      ]
    },
    {
      "cell_type": "markdown",
      "metadata": {
        "id": "OPOpOzfstbZv"
      },
      "source": [
        "* Consider the following model, which has an image input of shape (32, 32, 3) (that's (height, width, channels)) and a timeseries input of shape (None, 10) (that's (timesteps, features))\n",
        "* Our model will have two outputs computed from the combination of these inputs: a \"score\" (of shape (1,)) and a probability distribution over five classes (of shape (5,))."
      ]
    },
    {
      "cell_type": "code",
      "metadata": {
        "id": "oVI6GBvdtyYY"
      },
      "source": [
        "image_input = keras.Input(shape=(32, 32, 3), name='img_input')\n",
        "timeseries_input = keras.Input(shape=(None, 10), name='ts_input')\n",
        "\n",
        "x1 = layers.Conv2D(3, 3)(image_input)\n",
        "x1 = layers.GlobalMaxPooling2D()(x1)\n",
        "\n",
        "x2 = layers.Conv1D(3, 3)(timeseries_input)\n",
        "x2 = layers.GlobalMaxPooling1D()(x2)\n",
        "\n",
        "x = layers.concatenate([x1, x2])\n",
        "\n",
        "score_output = layers.Dense(1, name='score_output')(x)\n",
        "class_output = layers.Dense(5, name='class_output')(x)\n",
        "\n",
        "model = keras.Model(\n",
        "    inputs=[image_input, timeseries_input], outputs=[score_output, class_output]\n",
        ")"
      ],
      "execution_count": 70,
      "outputs": []
    },
    {
      "cell_type": "code",
      "metadata": {
        "id": "HdZPHc3eyenv",
        "outputId": "7d0edeee-6712-4bf2-f8d3-661cee2b5c7c",
        "colab": {
          "base_uri": "https://localhost:8080/",
          "height": 438
        }
      },
      "source": [
        "keras.utils.plot_model(model, '123.png', show_shapes=True)"
      ],
      "execution_count": 71,
      "outputs": [
        {
          "output_type": "execute_result",
          "data": {
            "image/png": "[encoded data removed]",
            "text/plain": [
              "<IPython.core.display.Image object>"
            ]
          },
          "metadata": {
            "tags": []
          },
          "execution_count": 71
        }
      ]
    },
    {
      "cell_type": "markdown",
      "metadata": {
        "id": "dQGX4rMlzF1f"
      },
      "source": [
        "* At compilation time, we can specify different losses to different outputs, by passing the loss functions as a list:"
      ]
    },
    {
      "cell_type": "code",
      "metadata": {
        "id": "4w_oOZpvzFa9"
      },
      "source": [
        "model.compile(\n",
        "    optimizer=keras.optimizers.RMSprop(1e-3),\n",
        "    loss=[keras.losses.MeanSquaredError(), keras.losses.CategoricalCrossentropy()]\n",
        ")"
      ],
      "execution_count": 72,
      "outputs": []
    },
    {
      "cell_type": "markdown",
      "metadata": {
        "id": "Hb4Lm4Abzqvg"
      },
      "source": [
        "* likewise for metrics"
      ]
    },
    {
      "cell_type": "code",
      "metadata": {
        "id": "JLZ0BrKyzCSF"
      },
      "source": [
        "model.compile(\n",
        "    optimizer=keras.optimizers.RMSprop(1e-3),\n",
        "    loss=[keras.losses.MeanSquaredError(), keras.losses.CategoricalCrossentropy()],\n",
        "    metrics=[\n",
        "             [\n",
        "              keras.metrics.MeanAbsolutePercentageError(),\n",
        "              keras.metrics.MeanAbsoluteError()\n",
        "             ],\n",
        "             [keras.metrics.CategoricalAccuracy()]\n",
        "    ]\n",
        ")"
      ],
      "execution_count": 74,
      "outputs": []
    },
    {
      "cell_type": "markdown",
      "metadata": {
        "id": "1fwjM1ff0eBx"
      },
      "source": [
        "* Since we gave names to our output layers, we could also specify per-output losses and metrics via a dict:"
      ]
    },
    {
      "cell_type": "code",
      "metadata": {
        "id": "_mNHjOkK0fpB"
      },
      "source": [
        "model.compile(\n",
        "    optimizer=keras.optimizers.RMSprop(1e-3),\n",
        "    loss={\n",
        "        'score_output': keras.losses.MeanSquaredError(), \n",
        "        'class_output': keras.losses.CategoricalCrossentropy()\n",
        "        },\n",
        "    metrics={\n",
        "             'score_output': [\n",
        "              keras.metrics.MeanAbsolutePercentageError(),\n",
        "              keras.metrics.MeanAbsoluteError()\n",
        "             ],\n",
        "             'class_output': [keras.metrics.CategoricalAccuracy()]\n",
        "    }\n",
        ")"
      ],
      "execution_count": 75,
      "outputs": []
    },
    {
      "cell_type": "markdown",
      "metadata": {
        "id": "FGJk1Wjj1ofe"
      },
      "source": [
        "* It's possible to give different weights to different output-specific losses (for instance, one might wish to privilege the \"score\" loss in our example, by giving to 2x the importance of the class loss), using the loss_weights argument:"
      ]
    },
    {
      "cell_type": "code",
      "metadata": {
        "id": "J9HHKZB-2W3F"
      },
      "source": [
        "model.compile(\n",
        "    optimizer=keras.optimizers.RMSprop(1e-3),\n",
        "    loss={\n",
        "        'score_output': keras.losses.MeanSquaredError(), \n",
        "        'class_output': keras.losses.CategoricalCrossentropy()\n",
        "        },\n",
        "    metrics={\n",
        "             'score_output': [\n",
        "              keras.metrics.MeanAbsolutePercentageError(),\n",
        "              keras.metrics.MeanAbsoluteError()\n",
        "             ],\n",
        "             'class_output': [keras.metrics.CategoricalAccuracy()]\n",
        "    },\n",
        "    loss_weights={\n",
        "        'score_output': 2.0,\n",
        "        'class_output': 1.0}\n",
        ")"
      ],
      "execution_count": 76,
      "outputs": []
    },
    {
      "cell_type": "markdown",
      "metadata": {
        "id": "D4-iBalP3OBe"
      },
      "source": [
        "* You could also chose not to compute a loss for certain outputs, if these outputs meant for prediction but not for training:"
      ]
    },
    {
      "cell_type": "code",
      "metadata": {
        "id": "XTW4yHbX3m2U"
      },
      "source": [
        "# list loss version\n",
        "model.compile(\n",
        "    optimizer=keras.optimizers.RMSprop(1e-3),\n",
        "    loss=[\n",
        "          None,\n",
        "          keras.losses.CategoricalCrossentropy()\n",
        "    ]\n",
        ")\n",
        "\n",
        "# or dict loss version\n",
        "model.compile(\n",
        "    optimizer=keras.optimizers.RMSprop(1e-3),\n",
        "    loss={\n",
        "          'class_output': keras.losses.CategoricalCrossentropy()\n",
        "    }\n",
        ")"
      ],
      "execution_count": 77,
      "outputs": []
    },
    {
      "cell_type": "markdown",
      "metadata": {
        "id": "SKQlkS7B6G7E"
      },
      "source": [
        "* Passing data to a multi-input or multi-output model in fit works in a similar way as specifying a loss function in compile: \n",
        "* you can pass lists of NumPy arrays (with 1:1 mapping to the outputs that received a loss function) or dicts mapping output names to NumPy arrays."
      ]
    },
    {
      "cell_type": "code",
      "metadata": {
        "id": "7ZIUBeEj6Sy6",
        "outputId": "d137da30-ba68-47ad-f7de-c760e75e6719",
        "colab": {
          "base_uri": "https://localhost:8080/",
          "height": 88
        }
      },
      "source": [
        "model.compile(\n",
        "    optimizer=keras.optimizers.RMSprop(1e-3),\n",
        "    loss=[keras.losses.MeanSquaredError(), keras.losses.CategoricalCrossentropy()],\n",
        ")\n",
        "\n",
        "# Generate dummy NumPy data\n",
        "img_data = np.random.random_sample(size=(100, 32, 32, 3))\n",
        "ts_data = np.random.random_sample(size=(100, 20, 10))\n",
        "score_targets = np.random.random_sample(size=(100, 1))\n",
        "class_targets = np.random.random_sample(size=(100, 5))\n",
        "\n",
        "# Fit on lists\n",
        "model.fit([img_data, ts_data], [score_targets, class_targets], batch_size=32, epochs=1)\n",
        "\n",
        "# Alternatively, fit on dicts\n",
        "model.fit(\n",
        "    {\"img_input\": img_data, \"ts_input\": ts_data},\n",
        "    {\"score_output\": score_targets, \"class_output\": class_targets},\n",
        "    batch_size=32,\n",
        "    epochs=1,\n",
        ")"
      ],
      "execution_count": 78,
      "outputs": [
        {
          "output_type": "stream",
          "text": [
            "4/4 [==============================] - 0s 9ms/step - loss: 17.0267 - score_output_loss: 0.4968 - class_output_loss: 16.5299\n",
            "4/4 [==============================] - 0s 8ms/step - loss: 17.5177 - score_output_loss: 0.4121 - class_output_loss: 17.1056\n"
          ],
          "name": "stdout"
        },
        {
          "output_type": "execute_result",
          "data": {
            "text/plain": [
              "<tensorflow.python.keras.callbacks.History at 0x7f21697b8c50>"
            ]
          },
          "metadata": {
            "tags": []
          },
          "execution_count": 78
        }
      ]
    },
    {
      "cell_type": "markdown",
      "metadata": {
        "id": "YhrUfTnQ6lhN"
      },
      "source": [
        "* Here's the Dataset use case: similarly as what we did for NumPy arrays, the Dataset should return a tuple of dicts."
      ]
    },
    {
      "cell_type": "code",
      "metadata": {
        "id": "8wGBIIuu6mc_",
        "outputId": "e8e969fa-c9e7-4b33-8f87-3c24691001b6",
        "colab": {
          "base_uri": "https://localhost:8080/",
          "height": 71
        }
      },
      "source": [
        "train_dataset = tf.data.Dataset.from_tensor_slices(\n",
        "    (\n",
        "        {\"img_input\": img_data, \"ts_input\": ts_data},\n",
        "        {\"score_output\": score_targets, \"class_output\": class_targets},\n",
        "    )\n",
        "    \n",
        ")\n",
        "\n",
        "train_dataset = train_dataset.shuffle(buffer_size=1024).batch(64)\n",
        "\n",
        "model.fit(train_dataset, epochs=1)"
      ],
      "execution_count": 83,
      "outputs": [
        {
          "output_type": "stream",
          "text": [
            "2/2 [==============================] - 0s 10ms/step - loss: 13.9787 - score_output_loss: 0.2351 - class_output_loss: 13.7436\n"
          ],
          "name": "stdout"
        },
        {
          "output_type": "execute_result",
          "data": {
            "text/plain": [
              "<tensorflow.python.keras.callbacks.History at 0x7f216969d630>"
            ]
          },
          "metadata": {
            "tags": []
          },
          "execution_count": 83
        }
      ]
    },
    {
      "cell_type": "markdown",
      "metadata": {
        "id": "edJbU33df-2d"
      },
      "source": [
        "# Using callbacks"
      ]
    },
    {
      "cell_type": "markdown",
      "metadata": {
        "id": "BXmRw-rjgKiH"
      },
      "source": [
        "## Many built-in callbacks are available"
      ]
    },
    {
      "cell_type": "markdown",
      "metadata": {
        "id": "bXazss5xgNwR"
      },
      "source": [
        "## Writing your own callback"
      ]
    },
    {
      "cell_type": "markdown",
      "metadata": {
        "id": "o7RpQLo9gVzI"
      },
      "source": [
        "# Checkpointing models\n"
      ]
    },
    {
      "cell_type": "markdown",
      "metadata": {
        "id": "PoCow1m6gaF_"
      },
      "source": [
        "# Using learning rate schedules"
      ]
    },
    {
      "cell_type": "markdown",
      "metadata": {
        "id": "Vuw32injgemQ"
      },
      "source": [
        "## Passing a schedule to an optimizer"
      ]
    },
    {
      "cell_type": "markdown",
      "metadata": {
        "id": "IcBVS_fhgfxJ"
      },
      "source": [
        "## Using callbacks to implement a dynamic learning rate schedule"
      ]
    },
    {
      "cell_type": "markdown",
      "metadata": {
        "id": "KUZlHV_jgkZR"
      },
      "source": [
        "# Visualizing loss and metrics during training"
      ]
    },
    {
      "cell_type": "markdown",
      "metadata": {
        "id": "I93kC-scglPo"
      },
      "source": [
        "## Using the TensorBoard callback"
      ]
    },
    {
      "cell_type": "code",
      "metadata": {
        "id": "gSoTL8dogOS3"
      },
      "source": [
        ""
      ],
      "execution_count": null,
      "outputs": []
    }
  ]
}