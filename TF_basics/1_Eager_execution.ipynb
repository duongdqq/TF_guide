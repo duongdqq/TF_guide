{
  "nbformat": 4,
  "nbformat_minor": 0,
  "metadata": {
    "colab": {
      "name": "1_Eager execution.ipynb",
      "provenance": [],
      "collapsed_sections": [],
      "authorship_tag": "ABX9TyM8bTsowoEWJzvC47Ji+/gz",
      "include_colab_link": true
    },
    "kernelspec": {
      "name": "python3",
      "display_name": "Python 3"
    },
    "accelerator": "GPU"
  },
  "cells": [
    {
      "cell_type": "markdown",
      "metadata": {
        "id": "view-in-github",
        "colab_type": "text"
      },
      "source": [
        "<a href=\"https://colab.research.google.com/github/duongdqq/TF_guide/blob/master/TF_basics/1_Eager_execution.ipynb\" target=\"_parent\"><img src=\"https://colab.research.google.com/assets/colab-badge.svg\" alt=\"Open In Colab\"/></a>"
      ]
    },
    {
      "cell_type": "markdown",
      "metadata": {
        "id": "85LHJwnzbCkA"
      },
      "source": [
        "## 1 Introduction "
      ]
    },
    {
      "cell_type": "markdown",
      "metadata": {
        "id": "jXQrDywxbF3C"
      },
      "source": [
        "* TensorFlow's eager execution is an imperative programming environment that evaluates operations immediately, without building graphs: operations return concrete values instead of constructing a computational graph to run later.\n",
        "* This makes it easy to get started with TensorFlow and debug models, and it reduces boilerplate as well. "
      ]
    },
    {
      "cell_type": "markdown",
      "metadata": {
        "id": "xDG9PjeRst80"
      },
      "source": [
        "* Eager execution is a flexible machine learning platform for research and experimentation, providing:\n",
        "\n",
        "  * An intuitive interface—Structure your code naturally and use Python data structures. Quickly iterate on small models and small data.\n",
        "  * Easier debugging—Call ops directly to inspect running models and test changes. Use standard Python debugging tools for immediate error reporting.\n",
        "  * Natural control flow—Use Python control flow instead of graph control flow, simplifying the specification of dynamic models.\n",
        "* Eager execution supports most TensorFlow operations and GPU acceleration."
      ]
    },
    {
      "cell_type": "markdown",
      "metadata": {
        "id": "LeOW-94rbnZ-"
      },
      "source": [
        "## 2 Set up and basic usage"
      ]
    },
    {
      "cell_type": "code",
      "metadata": {
        "id": "BUSG1XKoZqYI"
      },
      "source": [
        "import os\n",
        "import tensorflow as tf\n",
        "import cProfile"
      ],
      "execution_count": 1,
      "outputs": []
    },
    {
      "cell_type": "code",
      "metadata": {
        "id": "te1ZQDN0b4jm",
        "outputId": "36fe6205-5e23-46df-852f-7a77a4fb30df",
        "colab": {
          "base_uri": "https://localhost:8080/"
        }
      },
      "source": [
        "tf.executing_eagerly()"
      ],
      "execution_count": 2,
      "outputs": [
        {
          "output_type": "execute_result",
          "data": {
            "text/plain": [
              "True"
            ]
          },
          "metadata": {
            "tags": []
          },
          "execution_count": 2
        }
      ]
    },
    {
      "cell_type": "code",
      "metadata": {
        "id": "8zZD6ZpZcJd1",
        "outputId": "607802af-7fc6-4bea-993c-9e95683f9995",
        "colab": {
          "base_uri": "https://localhost:8080/"
        }
      },
      "source": [
        "x = [[2.]]\n",
        "m = tf.matmul(x, x)\n",
        "print('hello, {}'.format(m))"
      ],
      "execution_count": 3,
      "outputs": [
        {
          "output_type": "stream",
          "text": [
            "hello, [[4.]]\n"
          ],
          "name": "stdout"
        }
      ]
    },
    {
      "cell_type": "markdown",
      "metadata": {
        "id": "FQbG0gHxuyBM"
      },
      "source": [
        "* Enabling eager execution changes how TensorFlow operations behave—now they immediately evaluate and return their values to Python."
      ]
    },
    {
      "cell_type": "markdown",
      "metadata": {
        "id": "lo6e3_r1vDUD"
      },
      "source": [
        "* tf.Tensor objects reference concrete values instead of symbolic handles to nodes in a computational graph. \n",
        "* Since there isn't a computational graph to build and run later in a session, it's easy to inspect results using print() or a debugger. \n",
        "* Evaluating, printing, and checking tensor values does not break the flow for computing gradients."
      ]
    },
    {
      "cell_type": "markdown",
      "metadata": {
        "id": "F0Vwg2uRvYAu"
      },
      "source": [
        "* Eager execution works nicely with NumPy. \n",
        "* NumPy operations accept tf.Tensor arguments. \n",
        "* The TensorFlow tf.math operations convert Python objects and NumPy arrays to tf.Tensor objects. \n",
        "* The tf.Tensor.numpy method returns the object's value as a NumPy ndarray."
      ]
    },
    {
      "cell_type": "code",
      "metadata": {
        "id": "75hgOVzGdPn4",
        "outputId": "e5488a7e-6c41-4b29-9c81-1a6c0ade0fae",
        "colab": {
          "base_uri": "https://localhost:8080/"
        }
      },
      "source": [
        "a = tf.constant([[1, 2],\n",
        "                 [3, 4]])\n",
        "print(a)  "
      ],
      "execution_count": 4,
      "outputs": [
        {
          "output_type": "stream",
          "text": [
            "tf.Tensor(\n",
            "[[1 2]\n",
            " [3 4]], shape=(2, 2), dtype=int32)\n"
          ],
          "name": "stdout"
        }
      ]
    },
    {
      "cell_type": "code",
      "metadata": {
        "id": "F6XPC0sBunln",
        "outputId": "9763b52a-9f59-4c8b-fa9b-78c708d8c304",
        "colab": {
          "base_uri": "https://localhost:8080/"
        }
      },
      "source": [
        "b = tf.add(a, 1)\n",
        "print(b)"
      ],
      "execution_count": 5,
      "outputs": [
        {
          "output_type": "stream",
          "text": [
            "tf.Tensor(\n",
            "[[2 3]\n",
            " [4 5]], shape=(2, 2), dtype=int32)\n"
          ],
          "name": "stdout"
        }
      ]
    },
    {
      "cell_type": "code",
      "metadata": {
        "id": "ToE9eHp-aODf",
        "outputId": "6e53a0d4-22c5-4512-9b59-fd872d8d1f8a",
        "colab": {
          "base_uri": "https://localhost:8080/"
        }
      },
      "source": [
        "print(a * b)"
      ],
      "execution_count": 6,
      "outputs": [
        {
          "output_type": "stream",
          "text": [
            "tf.Tensor(\n",
            "[[ 2  6]\n",
            " [12 20]], shape=(2, 2), dtype=int32)\n"
          ],
          "name": "stdout"
        }
      ]
    },
    {
      "cell_type": "code",
      "metadata": {
        "id": "S66Z4BLXArs6",
        "outputId": "42541377-7f73-4154-ce10-24cdca068336",
        "colab": {
          "base_uri": "https://localhost:8080/"
        }
      },
      "source": [
        "import numpy as np \n",
        "c = np.multiply(a, b)\n",
        "print(c)"
      ],
      "execution_count": 7,
      "outputs": [
        {
          "output_type": "stream",
          "text": [
            "[[ 2  6]\n",
            " [12 20]]\n"
          ],
          "name": "stdout"
        }
      ]
    },
    {
      "cell_type": "code",
      "metadata": {
        "id": "qw7fXmOaAy6W",
        "outputId": "7fc83506-eefb-4ac0-e08a-03459d859c69",
        "colab": {
          "base_uri": "https://localhost:8080/"
        }
      },
      "source": [
        "# Obtain numpy value from a tensor:\n",
        "print(a.numpy())"
      ],
      "execution_count": 8,
      "outputs": [
        {
          "output_type": "stream",
          "text": [
            "[[1 2]\n",
            " [3 4]]\n"
          ],
          "name": "stdout"
        }
      ]
    },
    {
      "cell_type": "markdown",
      "metadata": {
        "id": "18E1M1CFA-EQ"
      },
      "source": [
        "# 3 Dynamic control flow"
      ]
    },
    {
      "cell_type": "markdown",
      "metadata": {
        "id": "H6qhpBrgBmqJ"
      },
      "source": [
        "* A major benefit of eager execution is that all the functionality of the host language is available while your model is executing."
      ]
    },
    {
      "cell_type": "code",
      "metadata": {
        "id": "iGXQBgBJA4F2"
      },
      "source": [
        "def fizzbuzz(max_num):\n",
        "  max_num = tf.convert_to_tensor(max_num)\n",
        "  for num in range(1, max_num.numpy() + 1):\n",
        "    num = tf.constant(num)\n",
        "    if int(num % 3) == 0 and int(num % 5) == 0:\n",
        "      print('FizzBuzz')\n",
        "    elif int(num % 3) == 0:\n",
        "      print('Fizz')\n",
        "    elif int(num % 5) == 0:\n",
        "      print('Buzz')\n",
        "    else:\n",
        "      print(num.numpy())"
      ],
      "execution_count": 9,
      "outputs": []
    },
    {
      "cell_type": "code",
      "metadata": {
        "id": "OCN1-gqtCbom",
        "outputId": "ff62e848-3026-486d-8a5b-8a45eb40d941",
        "colab": {
          "base_uri": "https://localhost:8080/"
        }
      },
      "source": [
        "fizzbuzz(15)"
      ],
      "execution_count": 10,
      "outputs": [
        {
          "output_type": "stream",
          "text": [
            "1\n",
            "2\n",
            "Fizz\n",
            "4\n",
            "Buzz\n",
            "Fizz\n",
            "7\n",
            "8\n",
            "Fizz\n",
            "Buzz\n",
            "11\n",
            "Fizz\n",
            "13\n",
            "14\n",
            "FizzBuzz\n"
          ],
          "name": "stdout"
        }
      ]
    },
    {
      "cell_type": "markdown",
      "metadata": {
        "id": "g11XvqU2C2uj"
      },
      "source": [
        "# 4 Eager training"
      ]
    },
    {
      "cell_type": "markdown",
      "metadata": {
        "id": "qFxE7-zeC5QI"
      },
      "source": [
        "## 4.1 Computing gradients"
      ]
    },
    {
      "cell_type": "markdown",
      "metadata": {
        "id": "VrvhPFY5E_2q"
      },
      "source": [
        "* Automatic differentiation is useful for implementing machine learning algorithms such as backpropagation for training neural networks. \n",
        "* During eager execution, use tf.GradientTape to trace operations for computing gradients later."
      ]
    },
    {
      "cell_type": "code",
      "metadata": {
        "id": "ANVag1GACdOD",
        "outputId": "7d4bb54e-e4fd-4a57-e344-ed83ad465704",
        "colab": {
          "base_uri": "https://localhost:8080/"
        }
      },
      "source": [
        "w = tf.Variable([[5.0]])\n",
        "with tf.GradientTape() as tape:\n",
        "  loss = w ** 3\n",
        "\n",
        "grad = tape.gradient(loss, w)\n",
        "print(grad)"
      ],
      "execution_count": 11,
      "outputs": [
        {
          "output_type": "stream",
          "text": [
            "tf.Tensor([[74.99999]], shape=(1, 1), dtype=float32)\n"
          ],
          "name": "stdout"
        }
      ]
    },
    {
      "cell_type": "markdown",
      "metadata": {
        "id": "YKPKxjTbIYPh"
      },
      "source": [
        "## 4.2 Train a model"
      ]
    },
    {
      "cell_type": "markdown",
      "metadata": {
        "id": "vm1MW_daIfHH"
      },
      "source": [
        "* The following example creates a multi-layer model that classifies the standard MNIST handwritten digits. It demonstrates the optimizer and layer APIs to build trainable graphs in an eager execution environment."
      ]
    },
    {
      "cell_type": "code",
      "metadata": {
        "id": "QWmFdv1NJmgC",
        "outputId": "0bfb81e7-9353-49e3-a424-69683336d2b1",
        "colab": {
          "base_uri": "https://localhost:8080/"
        }
      },
      "source": [
        "(mnist_images, mnist_labels), _ = tf.keras.datasets.mnist.load_data()\n",
        "\n",
        "dataset = tf.data.Dataset.from_tensor_slices(\n",
        "    (tf.cast(mnist_images[..., tf.newaxis]/255, tf.float32),\n",
        "    tf.cast(mnist_labels, tf.int64))\n",
        ")\n",
        "dataset = dataset.shuffle(1000).batch(32)"
      ],
      "execution_count": 12,
      "outputs": [
        {
          "output_type": "stream",
          "text": [
            "Downloading data from https://storage.googleapis.com/tensorflow/tf-keras-datasets/mnist.npz\n",
            "11493376/11490434 [==============================] - 0s 0us/step\n"
          ],
          "name": "stdout"
        }
      ]
    },
    {
      "cell_type": "code",
      "metadata": {
        "id": "AN0USQ2PYi7y"
      },
      "source": [
        "mnist_model = tf.keras.Sequential([\n",
        "                                   tf.keras.layers.Conv2D(16, [3,3], activation='relu',\n",
        "                                                          input_shape=(None, None, 1)),\n",
        "                                   tf.keras.layers.Conv2D(16, [3,3], activation='relu'),\n",
        "                                   tf.keras.layers.GlobalAveragePooling2D(),\n",
        "                                   tf.keras.layers.Dense(10)\n",
        "])"
      ],
      "execution_count": 13,
      "outputs": []
    },
    {
      "cell_type": "markdown",
      "metadata": {
        "id": "VMw8kehEZQUi"
      },
      "source": [
        "Even without training, call the model and inspect the output in eager execution:"
      ]
    },
    {
      "cell_type": "code",
      "metadata": {
        "id": "PSMYFgJrZRM7",
        "outputId": "27493f0d-817e-4fe8-925a-6d0f2949cc87",
        "colab": {
          "base_uri": "https://localhost:8080/"
        }
      },
      "source": [
        "for images, labels in dataset.take(1):\n",
        "  print('Logits: ', mnist_model(images[0:1]).numpy())"
      ],
      "execution_count": 14,
      "outputs": [
        {
          "output_type": "stream",
          "text": [
            "Logits:  [[ 0.02196483 -0.02409778 -0.03759912  0.00768842 -0.00934942 -0.00971232\n",
            "  -0.00691688 -0.03016222 -0.00720448 -0.00372962]]\n"
          ],
          "name": "stdout"
        }
      ]
    },
    {
      "cell_type": "markdown",
      "metadata": {
        "id": "35JxN6G8f_7_"
      },
      "source": [
        "* While keras models have a builtin training loop (using the fit method), sometimes you need more customization. Here's an example, of a training loop implemented with eager:"
      ]
    },
    {
      "cell_type": "code",
      "metadata": {
        "id": "B84GukhjjAP4"
      },
      "source": [
        "optimizer = tf.keras.optimizers.Adam()\n",
        "loss_object = tf.keras.losses.SparseCategoricalCrossentropy(from_logits=True)\n",
        "\n",
        "loss_history = []"
      ],
      "execution_count": 15,
      "outputs": []
    },
    {
      "cell_type": "markdown",
      "metadata": {
        "id": "kqRsEw29jSDV"
      },
      "source": [
        "* Note: Use the assert functions in tf.debugging to check if a condition holds up. This works in eager and graph execution."
      ]
    },
    {
      "cell_type": "code",
      "metadata": {
        "id": "wVDDqH9pjx1L"
      },
      "source": [
        "def train_step(images, labels):\n",
        "  with tf.GradientTape() as tape:\n",
        "    logits = mnist_model(images, training=True)\n",
        "\n",
        "    # add asserts to check the shape of the output\n",
        "    tf.debugging.assert_equal(logits.shape, (32, 10))\n",
        "\n",
        "    loss_value = loss_object(labels, logits)\n",
        "\n",
        "  loss_history.append(loss_value.numpy().mean())\n",
        "  grads = tape.gradient(loss_value, mnist_model.trainable_variables)\n",
        "  optimizer.apply_gradients(zip(grads, mnist_model.trainable_variables))"
      ],
      "execution_count": 16,
      "outputs": []
    },
    {
      "cell_type": "code",
      "metadata": {
        "id": "aV8_KG_w-b0y"
      },
      "source": [
        "def train(epochs):\n",
        "  for epoch in range(epochs):\n",
        "    for (batch, (images, labels)) in enumerate(dataset):\n",
        "      train_step(images, labels)\n",
        "    print('Epoch {} finished'.format(epoch))"
      ],
      "execution_count": 17,
      "outputs": []
    },
    {
      "cell_type": "code",
      "metadata": {
        "id": "zKGxKZDg-uMQ",
        "outputId": "b9d3f209-6486-4a5b-dd53-ea1740089bb4",
        "colab": {
          "base_uri": "https://localhost:8080/"
        }
      },
      "source": [
        "train(3)"
      ],
      "execution_count": 18,
      "outputs": [
        {
          "output_type": "stream",
          "text": [
            "Epoch 0 finished\n",
            "Epoch 1 finished\n",
            "Epoch 2 finished\n"
          ],
          "name": "stdout"
        }
      ]
    },
    {
      "cell_type": "code",
      "metadata": {
        "id": "CNkCtZlzQADP",
        "outputId": "899720c5-cfae-4750-b458-852780dcff56",
        "colab": {
          "base_uri": "https://localhost:8080/",
          "height": 299
        }
      },
      "source": [
        "import matplotlib.pyplot as plt\n",
        "\n",
        "plt.plot(loss_history)\n",
        "plt.xlabel(\"Batch #\")\n",
        "plt.ylabel(\"Loss [entropy]\")"
      ],
      "execution_count": 19,
      "outputs": [
        {
          "output_type": "execute_result",
          "data": {
            "text/plain": [
              "Text(0, 0.5, 'Loss [entropy]')"
            ]
          },
          "metadata": {
            "tags": []
          },
          "execution_count": 19
        },
        {
          "output_type": "display_data",
          "data": {
            "image/png": "[encoded data removed]",
            "text/plain": [
              "<Figure size 432x288 with 1 Axes>"
            ]
          },
          "metadata": {
            "tags": [],
            "needs_background": "light"
          }
        }
      ]
    },
    {
      "cell_type": "markdown",
      "metadata": {
        "id": "WpbOHmxBIkH3"
      },
      "source": [
        "## Variables and optimizers"
      ]
    },
    {
      "cell_type": "markdown",
      "metadata": {
        "id": "JEbhhhuwa57X"
      },
      "source": [
        "* tf.Variable objects store mutable tf.Tensor like values accessed druring training to make automatic differentiation easier\n",
        "* The collections of variables can be encapsulated into layers or models, along with methods that operate on them\n",
        "*  The main difference between layers and models is that models add methods like Model.fit, Model.evaluate, and Model.save.\n",
        "* For example, the automatic differentiation example above can be rewritten:"
      ]
    },
    {
      "cell_type": "code",
      "metadata": {
        "id": "RJIQopfSeFzN"
      },
      "source": [
        "class Linear(tf.keras.Model):\n",
        "  def __init__(self):\n",
        "    super(Linear, self).__init__()\n",
        "    self.W = tf.Variable(5., name='weight')\n",
        "    self.B = tf.Variable(10., name='bias')\n",
        "  \n",
        "  def call(self, inputs):\n",
        "    return inputs * self.W + self.B"
      ],
      "execution_count": 20,
      "outputs": []
    },
    {
      "cell_type": "code",
      "metadata": {
        "id": "nU_NLYf3f3ab"
      },
      "source": [
        "NUM_EXAMPLES = 200\n",
        "training_inputs = tf.random.normal([NUM_EXAMPLES])\n",
        "noise = tf.random.normal([NUM_EXAMPLES])\n",
        "training_outputs = training_inputs * 3 + 2 + noise"
      ],
      "execution_count": 21,
      "outputs": []
    },
    {
      "cell_type": "code",
      "metadata": {
        "id": "jT1HlE8uhQSf",
        "outputId": "37cab7c5-b691-41d0-a46b-20482263d9db",
        "colab": {
          "base_uri": "https://localhost:8080/"
        }
      },
      "source": [
        "training_inputs"
      ],
      "execution_count": 22,
      "outputs": [
        {
          "output_type": "execute_result",
          "data": {
            "text/plain": [
              "<tf.Tensor: shape=(200,), dtype=float32, numpy=\n",
              "array([ 1.5522264 ,  1.0661751 ,  1.6272875 ,  0.91464126,  1.6582117 ,\n",
              "        1.2402873 ,  0.47318274,  0.6320585 , -1.0162326 , -0.2162437 ,\n",
              "       -2.9449537 , -1.3076224 , -1.1550132 , -0.29062745,  0.6295541 ,\n",
              "        0.10972717, -0.69485855,  1.6181071 ,  0.36053053, -1.0107787 ,\n",
              "        1.3451629 ,  0.14021084,  1.1599495 ,  0.8769111 , -0.33519492,\n",
              "       -1.764859  , -0.70656884, -1.6338934 , -0.98925364,  1.0160099 ,\n",
              "       -0.5194685 , -0.90983677, -0.5818362 , -0.9289189 , -1.1617826 ,\n",
              "        0.45726502, -0.4275062 , -0.03037437,  0.46455598, -0.14927578,\n",
              "       -0.15651882,  0.52824587,  0.30282846, -0.65383667, -0.26245287,\n",
              "       -1.0209305 ,  0.23553392, -0.00739842,  0.26187968,  0.39135993,\n",
              "        0.61691207,  1.5104048 , -0.23600745, -1.8487359 ,  0.5356158 ,\n",
              "        0.467539  ,  0.88926786, -1.6749061 ,  1.3740337 , -0.34538084,\n",
              "        0.01321516, -0.31902903, -0.5139741 ,  0.1235019 , -1.2011687 ,\n",
              "        1.513405  , -2.004811  , -1.5042632 ,  0.60679436,  0.14161417,\n",
              "        2.386488  , -0.1979256 , -1.0256099 , -1.6155753 ,  0.09541384,\n",
              "       -0.782792  ,  1.0014439 , -1.9279261 ,  0.02072682, -0.18166398,\n",
              "       -0.41429293, -0.46658596, -0.09842947, -2.0892725 , -0.04377092,\n",
              "       -0.9080191 ,  0.12714966,  0.7471017 ,  1.4991308 , -0.47921947,\n",
              "       -1.5305476 , -0.6603146 ,  3.228297  ,  1.2720281 ,  0.7024719 ,\n",
              "       -0.90546   , -0.556123  , -0.06621763,  0.10673997, -0.59051263,\n",
              "       -0.6375327 , -0.26532865, -1.5723627 , -1.3530848 , -0.3059107 ,\n",
              "        0.3089378 , -0.9915585 ,  0.22823283, -0.16087227, -0.6612935 ,\n",
              "        0.32880893, -0.6036057 ,  0.3627455 ,  0.6093454 ,  0.04471576,\n",
              "        2.2149758 ,  1.2850523 ,  1.8826436 ,  1.5262406 , -0.4108273 ,\n",
              "        1.7389697 , -1.0110776 , -0.69180065,  1.3146269 , -0.9584598 ,\n",
              "        1.3318082 , -0.41212425, -1.14306   , -0.96116817,  1.1794808 ,\n",
              "       -0.8393455 , -0.20442796,  0.53184146, -0.9220721 ,  1.5954328 ,\n",
              "        0.3916651 ,  1.8697937 ,  0.46332258,  0.2031149 , -0.367949  ,\n",
              "       -1.0439204 ,  0.8022685 ,  0.05498005, -1.7790303 , -0.43580428,\n",
              "       -0.4613214 ,  1.5357037 ,  0.09184161, -0.5634108 ,  1.8878131 ,\n",
              "        0.30417535, -0.2327444 ,  0.27579194, -1.1225017 , -1.5516955 ,\n",
              "       -0.8302234 , -0.85875374,  0.46064466,  0.02534005, -0.03119845,\n",
              "        0.15140755, -0.99488354, -0.02385079,  1.9118129 , -2.7782807 ,\n",
              "        0.48877946, -0.420146  , -0.7519975 , -0.5466147 ,  0.7384731 ,\n",
              "        0.77143276,  1.8008156 , -0.06818011, -0.8121834 ,  0.825417  ,\n",
              "        0.68403554,  0.10543258,  1.2543361 , -0.21123953, -0.78623194,\n",
              "       -0.13261324, -1.3831965 , -0.6629096 , -0.32091868,  0.11156068,\n",
              "       -0.46508375,  1.0452396 , -0.8984056 , -0.22765268, -0.7925863 ,\n",
              "       -0.8052865 ,  0.00683521,  0.37492368, -0.8882234 , -0.24351197,\n",
              "       -1.0647274 ,  0.21893974,  0.33542812, -0.19264331, -0.59800327],\n",
              "      dtype=float32)>"
            ]
          },
          "metadata": {
            "tags": []
          },
          "execution_count": 22
        }
      ]
    },
    {
      "cell_type": "code",
      "metadata": {
        "id": "6cCCozsKhWXs",
        "outputId": "ced0706f-3c0c-44c6-9a8e-44a69dbbe8ce",
        "colab": {
          "base_uri": "https://localhost:8080/"
        }
      },
      "source": [
        "noise"
      ],
      "execution_count": 23,
      "outputs": [
        {
          "output_type": "execute_result",
          "data": {
            "text/plain": [
              "<tf.Tensor: shape=(200,), dtype=float32, numpy=\n",
              "array([ 0.04284611,  0.9855079 ,  0.20295866, -0.18875854, -0.0672558 ,\n",
              "       -1.8348213 , -1.6443061 ,  0.23730664,  0.8971382 , -0.15668663,\n",
              "       -1.1211118 ,  0.90901047,  1.8969855 , -0.12165495,  1.9860392 ,\n",
              "       -1.1760411 ,  1.318423  ,  1.5616226 ,  0.09512167,  1.3524095 ,\n",
              "        0.00857109,  0.6113704 ,  0.06899816, -0.07478228,  0.21881661,\n",
              "       -0.44207168, -0.6350746 ,  0.5395458 ,  0.72144586,  0.9470714 ,\n",
              "        0.48019513,  0.42135933, -0.0904134 , -0.88955116,  0.9018326 ,\n",
              "       -1.4249989 ,  0.2860452 , -0.6432894 ,  1.3408415 ,  0.15908968,\n",
              "        0.7857934 ,  0.88868624,  0.30231386, -0.8342007 , -0.50222814,\n",
              "        1.0735728 ,  1.4301332 , -0.43298766, -0.66920835, -0.9096856 ,\n",
              "       -0.86308384,  1.3585142 , -0.72813034, -1.6966865 , -1.0817746 ,\n",
              "       -0.25623304,  0.39441574,  1.0117314 ,  0.9399577 ,  0.42848295,\n",
              "        2.1657481 , -0.15663873,  0.23556428, -0.55705637, -0.69490737,\n",
              "       -1.7812918 , -1.2947015 ,  0.27176288,  1.10007   ,  1.1150957 ,\n",
              "       -0.05371998, -0.76069707,  0.9875606 , -0.8861957 ,  0.8942258 ,\n",
              "        0.9353453 , -2.5302563 ,  1.1247432 , -0.37272272,  2.1501377 ,\n",
              "        0.69754916,  1.0518618 ,  1.0812474 ,  1.2987802 , -0.46205133,\n",
              "        1.0213287 ,  1.3610612 ,  0.05287918,  1.2919811 , -0.78944314,\n",
              "        1.4183725 ,  1.0065899 ,  0.01338508, -0.04705154, -0.3661149 ,\n",
              "       -1.3020447 ,  0.78911597,  1.270135  , -0.05130638,  1.6820891 ,\n",
              "        0.65899694, -0.16237225, -0.38481995,  0.4408528 ,  0.9342168 ,\n",
              "        0.80055124, -1.3408015 , -0.74784875,  0.5501469 ,  0.16075502,\n",
              "       -0.744517  , -0.31595135,  0.07931659,  1.6031575 , -0.10237814,\n",
              "        0.4853908 ,  0.5739714 ,  1.6918088 , -0.8509343 ,  0.8268933 ,\n",
              "        0.8854106 , -0.5480733 , -1.1063398 ,  0.9120483 , -1.2052627 ,\n",
              "       -0.27306736,  0.77092075, -0.5150133 ,  0.8695783 ,  1.2583898 ,\n",
              "        0.89978117,  1.3800693 , -0.86236066,  1.9775901 , -1.036283  ,\n",
              "        0.6837603 ,  0.7662595 ,  0.821843  , -1.570575  , -0.6303466 ,\n",
              "        0.28573656, -0.1037002 , -0.39058852,  0.40655392,  1.0200398 ,\n",
              "       -0.31419596,  1.4620259 ,  1.3572512 , -0.5505384 , -0.9962561 ,\n",
              "        0.5334801 ,  0.79644746, -0.49603617, -0.3077218 ,  0.76141334,\n",
              "        0.27629456, -0.21924815, -1.7388196 ,  1.4529718 , -0.93126255,\n",
              "        1.5203991 , -0.24733955,  0.01188175,  0.79457027, -2.0847313 ,\n",
              "        0.02776327, -0.41059345,  0.15396436,  0.11188073, -0.33789182,\n",
              "       -0.6218864 , -0.12953788, -2.0520616 ,  0.15021662, -0.10971189,\n",
              "       -2.1228454 ,  0.6022718 ,  0.7964337 ,  0.41748455,  1.5865182 ,\n",
              "       -0.15684667, -0.7629788 , -0.46481898,  1.2803869 ,  0.04805559,\n",
              "       -0.5408069 , -0.68460035, -0.10595551, -0.24064803,  0.5472453 ,\n",
              "        1.3237373 ,  0.6023013 , -0.77207005, -1.1396433 , -0.705203  ,\n",
              "       -1.4439248 ,  0.50933284, -0.57108486,  1.9054741 ,  0.12579969],\n",
              "      dtype=float32)>"
            ]
          },
          "metadata": {
            "tags": []
          },
          "execution_count": 23
        }
      ]
    },
    {
      "cell_type": "code",
      "metadata": {
        "id": "SjivhjpahNw0",
        "outputId": "f37e0d7c-8ee4-48bc-eda2-302d66dfc1bc",
        "colab": {
          "base_uri": "https://localhost:8080/"
        }
      },
      "source": [
        "training_outputs"
      ],
      "execution_count": 24,
      "outputs": [
        {
          "output_type": "execute_result",
          "data": {
            "text/plain": [
              "<tf.Tensor: shape=(200,), dtype=float32, numpy=\n",
              "array([ 6.6995254e+00,  6.1840334e+00,  7.0848212e+00,  4.5551653e+00,\n",
              "        6.9073792e+00,  3.8860407e+00,  1.7752422e+00,  4.1334820e+00,\n",
              "       -1.5155977e-01,  1.1945822e+00, -7.9559727e+00, -1.0138569e+00,\n",
              "        4.3194580e-01,  1.0064627e+00,  5.8747015e+00,  1.1531403e+00,\n",
              "        1.2338474e+00,  8.4159441e+00,  3.1767132e+00,  3.2007349e-01,\n",
              "        6.0440598e+00,  3.0320029e+00,  5.5488472e+00,  4.5559511e+00,\n",
              "        1.2132319e+00, -3.7366483e+00, -7.5478125e-01, -2.3621342e+00,\n",
              "       -2.4631518e-01,  5.9951015e+00,  9.2178977e-01, -3.0815098e-01,\n",
              "        1.6407794e-01, -1.6763079e+00, -5.8351517e-01,  1.9467963e+00,\n",
              "        1.0035266e+00,  1.2655876e+00,  4.7345095e+00,  1.7112623e+00,\n",
              "        2.3162370e+00,  4.4734240e+00,  3.2107992e+00, -7.9571062e-01,\n",
              "        7.1041322e-01,  1.0781169e-02,  4.1367350e+00,  1.5448171e+00,\n",
              "        2.1164308e+00,  2.2643943e+00,  2.9876523e+00,  7.8897290e+00,\n",
              "        5.6384730e-01, -5.2428942e+00,  2.5250726e+00,  3.1463840e+00,\n",
              "        5.0622196e+00, -2.0129869e+00,  7.0620584e+00,  1.3923404e+00,\n",
              "        4.2053938e+00,  8.8627422e-01,  6.9364208e-01,  1.8134494e+00,\n",
              "       -2.2984135e+00,  4.7589231e+00, -5.3091345e+00, -2.2410269e+00,\n",
              "        4.9204531e+00,  3.5399384e+00,  9.1057444e+00,  6.4552611e-01,\n",
              "       -8.9268863e-02, -3.7329216e+00,  3.1804674e+00,  5.8696949e-01,\n",
              "        2.4740753e+00, -2.6590350e+00,  1.6894578e+00,  3.6051457e+00,\n",
              "        1.4546704e+00,  1.6521039e+00,  2.7859590e+00, -2.9690373e+00,\n",
              "        1.4066360e+00,  2.9727125e-01,  3.7425103e+00,  4.2941847e+00,\n",
              "        7.7893739e+00, -2.2710156e-01, -1.1732703e+00,  1.0256460e+00,\n",
              "        1.1698276e+01,  5.7690330e+00,  3.7413008e+00, -2.0184250e+00,\n",
              "        1.1207469e+00,  3.0714822e+00,  2.2689135e+00,  1.9105512e+00,\n",
              "        7.4639881e-01,  1.0416418e+00, -3.1019077e+00, -1.6184019e+00,\n",
              "        2.0164847e+00,  3.7273645e+00, -2.3154769e+00,  1.9368498e+00,\n",
              "        2.0675302e+00,  1.7687450e-01,  2.2419097e+00, -1.2676835e-01,\n",
              "        3.1675529e+00,  5.4311934e+00,  2.0317690e+00,  9.1303186e+00,\n",
              "        6.4291282e+00,  9.3397398e+00,  5.7277875e+00,  1.5944114e+00,\n",
              "        8.1023197e+00, -1.5813062e+00, -1.1817418e+00,  6.8559294e+00,\n",
              "       -2.0806420e+00,  5.7223573e+00,  1.5345480e+00, -1.9441931e+00,\n",
              "       -1.3926089e-02,  6.7968326e+00,  3.8174456e-01,  2.7667854e+00,\n",
              "        2.7331636e+00,  1.2113738e+00,  5.7500153e+00,  3.8587556e+00,\n",
              "        8.3756399e+00,  4.2118106e+00,  1.0387697e+00,  2.6580638e-01,\n",
              "       -8.4602451e-01,  4.3031054e+00,  1.7743516e+00, -2.9305370e+00,\n",
              "        1.7126269e+00,  3.0183974e-01,  8.0691366e+00,  3.6327760e+00,\n",
              "       -2.4077094e-01,  6.6671829e+00,  3.4460063e+00,  2.0982144e+00,\n",
              "        2.3313398e+00, -1.6752269e+00, -1.8936732e+00, -2.1437564e-01,\n",
              "       -7.9550946e-01,  1.6431143e+00,  3.5289922e+00,  9.7514206e-01,\n",
              "        3.9746218e+00, -1.2319901e+00,  1.9403293e+00,  8.5300093e+00,\n",
              "       -8.4195738e+00,  3.4941018e+00,  3.2896858e-01, -1.0202806e-01,\n",
              "        4.7203654e-01,  3.8775275e+00,  3.6924119e+00,  7.2729087e+00,\n",
              "       -2.5660193e-01, -2.8633350e-01,  4.3665385e+00,  1.9292614e+00,\n",
              "        2.9185696e+00,  6.5594416e+00,  1.7837659e+00,  1.2278224e+00,\n",
              "        1.4453136e+00, -2.9125683e+00, -4.5354787e-01,  2.3176308e+00,\n",
              "        2.3827376e+00,  6.3941836e-02,  4.4511185e+00, -8.0117238e-01,\n",
              "        1.0763938e+00,  1.6948634e-01,  9.0787756e-01,  2.6228070e+00,\n",
              "        2.3527012e+00, -1.8043135e+00,  5.6426102e-01, -2.6381073e+00,\n",
              "        3.1661522e+00,  2.4351993e+00,  3.3275442e+00,  3.3178988e-01],\n",
              "      dtype=float32)>"
            ]
          },
          "metadata": {
            "tags": []
          },
          "execution_count": 24
        }
      ]
    },
    {
      "cell_type": "code",
      "metadata": {
        "id": "x3dfzw8UmMEY"
      },
      "source": [
        "# the loss function to be optimized\n",
        "def loss(model, inputs, targets):\n",
        "  error = model(inputs) - targets\n",
        "  return tf.reduce_mean(tf.square(error))\n",
        "\n",
        "\n",
        "def grad(model, inputs, targets):\n",
        "  with tf.GradientTape() as tape:\n",
        "    loss_value = loss(model, inputs, targets)\n",
        "  return tape.gradient(loss_value, [model.W, model.B])  # tính đạo hàm theo model.W và model.B"
      ],
      "execution_count": 25,
      "outputs": []
    },
    {
      "cell_type": "markdown",
      "metadata": {
        "id": "-dDwzbEPnB5j"
      },
      "source": [
        "* Next:\n",
        "- Create the model.\n",
        "- The Derivatives of a loss function with respect to model parameters.\n",
        "- A strategy for updating the variables based on the derivatives."
      ]
    },
    {
      "cell_type": "code",
      "metadata": {
        "id": "rwlOc_XenGIS",
        "outputId": "f71f1df3-f027-4068-8f39-e769d16fc646",
        "colab": {
          "base_uri": "https://localhost:8080/"
        }
      },
      "source": [
        "model = Linear()\n",
        "optimizer = tf.keras.optimizers.SGD(learning_rate=0.01)\n",
        "\n",
        "print(\"Initial loss: {:.3f}\".format(loss(model, training_outputs, training_outputs)))\n",
        "\n",
        "steps = 300\n",
        "for i in range(steps):\n",
        "  grads = grad(model, training_inputs, training_inputs)\n",
        "  optimizer.apply_gradients(zip(grads, [model.W, model.B]))\n",
        "  if i % 20 == 0:\n",
        "    print('Loss at step {:3d}: {:.3f}'.format(i, loss(model, training_inputs, training_outputs)))"
      ],
      "execution_count": 26,
      "outputs": [
        {
          "output_type": "stream",
          "text": [
            "Initial loss: 481.795\n",
            "Loss at step   0: 61.679\n",
            "Loss at step  20: 21.011\n",
            "Loss at step  40: 6.261\n",
            "Loss at step  60: 2.144\n",
            "Loss at step  80: 2.058\n",
            "Loss at step 100: 3.248\n",
            "Loss at step 120: 4.632\n",
            "Loss at step 140: 5.840\n",
            "Loss at step 160: 6.784\n",
            "Loss at step 180: 7.484\n",
            "Loss at step 200: 7.987\n",
            "Loss at step 220: 8.342\n",
            "Loss at step 240: 8.590\n",
            "Loss at step 260: 8.761\n",
            "Loss at step 280: 8.879\n"
          ],
          "name": "stdout"
        }
      ]
    },
    {
      "cell_type": "code",
      "metadata": {
        "id": "kEqLXmtS10hz",
        "outputId": "faf8266a-c020-4120-e2aa-1e1adc57a62c",
        "colab": {
          "base_uri": "https://localhost:8080/"
        }
      },
      "source": [
        "print(\"Final loss: {:.3f}\".format(loss(model, training_inputs, training_outputs)))"
      ],
      "execution_count": 27,
      "outputs": [
        {
          "output_type": "stream",
          "text": [
            "Final loss: 8.956\n"
          ],
          "name": "stdout"
        }
      ]
    },
    {
      "cell_type": "code",
      "metadata": {
        "id": "ysYl7YZu2EIp",
        "outputId": "48e95bd8-e02a-474f-cfb4-425a3fb5a2b9",
        "colab": {
          "base_uri": "https://localhost:8080/"
        }
      },
      "source": [
        "print(\"W = {}, B = {}\".format(model.W.numpy(), model.B.numpy()))"
      ],
      "execution_count": 28,
      "outputs": [
        {
          "output_type": "stream",
          "text": [
            "W = 1.0174391269683838, B = 0.027711033821105957\n"
          ],
          "name": "stdout"
        }
      ]
    },
    {
      "cell_type": "markdown",
      "metadata": {
        "id": "O_miRZTx2UHj"
      },
      "source": [
        "Note: Variables persist until the last reference to the python object is removed, and is the variable is deleted.\n"
      ]
    },
    {
      "cell_type": "markdown",
      "metadata": {
        "id": "ymA4G7o9IkFj"
      },
      "source": [
        "## Object-based saving"
      ]
    },
    {
      "cell_type": "markdown",
      "metadata": {
        "id": "l17alY7mC0qR"
      },
      "source": [
        "A tf.keras.Model includes a convenient save_weights method allowing you to easily create a checkpoint:"
      ]
    },
    {
      "cell_type": "code",
      "metadata": {
        "id": "NnQZamOYC1qE"
      },
      "source": [
        "model.save_weights('weights')\n",
        "status = model.load_weights('weights')"
      ],
      "execution_count": 29,
      "outputs": []
    },
    {
      "cell_type": "markdown",
      "metadata": {
        "id": "4iGGSNLXFB0I"
      },
      "source": [
        "Using tf.train.Checkpoint you can take full control over this process."
      ]
    },
    {
      "cell_type": "code",
      "metadata": {
        "id": "0lNbXZEOFwOS"
      },
      "source": [
        "x = tf.Variable(10.)\n",
        "checkpoint = tf.train.Checkpoint(x=x)"
      ],
      "execution_count": 30,
      "outputs": []
    },
    {
      "cell_type": "code",
      "metadata": {
        "id": "No8sVHweIfke",
        "outputId": "f6e29ef2-062a-4e51-e712-8e3e2aa32e6b",
        "colab": {
          "base_uri": "https://localhost:8080/"
        }
      },
      "source": [
        "x.assign(2.)  # assign a new value to the variables and save\n",
        "checkpoint_path = './ckpt/'\n",
        "checkpoint.save('./ckpt/')\n",
        "print(x)"
      ],
      "execution_count": 31,
      "outputs": [
        {
          "output_type": "stream",
          "text": [
            "<tf.Variable 'Variable:0' shape=() dtype=float32, numpy=2.0>\n"
          ],
          "name": "stdout"
        }
      ]
    },
    {
      "cell_type": "code",
      "metadata": {
        "id": "7s7WOxPoKgeP",
        "outputId": "1f71a4b5-767e-44a3-ec05-186c59a996de",
        "colab": {
          "base_uri": "https://localhost:8080/"
        }
      },
      "source": [
        "x.assign(11.)\n",
        "checkpoint.restore(tf.train.latest_checkpoint(checkpoint_path))\n",
        "print(x)"
      ],
      "execution_count": 32,
      "outputs": [
        {
          "output_type": "stream",
          "text": [
            "<tf.Variable 'Variable:0' shape=() dtype=float32, numpy=2.0>\n"
          ],
          "name": "stdout"
        }
      ]
    },
    {
      "cell_type": "markdown",
      "metadata": {
        "id": "bIrPWvRXNiWh"
      },
      "source": [
        "- To save and load models, tf.train.Checkpoint stores the internal state of objects, without requiring hidden variables. \n",
        "- To record the state of a model, an optimizer, and a global step, pass them to a tf.train.Checkpoint:"
      ]
    },
    {
      "cell_type": "code",
      "metadata": {
        "id": "S_xsZzBGOb-M",
        "outputId": "e3ad9c40-bd75-40b8-e355-01aed7efd59f",
        "colab": {
          "base_uri": "https://localhost:8080/"
        }
      },
      "source": [
        "model = tf.keras.Sequential([\n",
        "                             tf.keras.layers.Conv2D(16, [3,3], activation='relu'),\n",
        "                             tf.keras.layers.GlobalAveragePooling2D(),\n",
        "                             tf.keras.layers.Dense(10)\n",
        "])\n",
        "\n",
        "optimizer = tf.keras.optimizers.Adam(learning_rate=0.001)\n",
        "\n",
        "checkpoint_dir = 'path/to/model_dir'\n",
        "\n",
        "if not os.path.exists(checkpoint_dir):\n",
        "  os.makedirs(checkpoint_dir)\n",
        "checkpoint_prefix = os.path.join(checkpoint_dir, 'ckpt')\n",
        "root = tf.train.Checkpoint(optimizer=optimizer,\n",
        "                           model=model)\n",
        "\n",
        "root.save(checkpoint_prefix)\n",
        "root.restore(tf.train.latest_checkpoint(checkpoint_dir))"
      ],
      "execution_count": 33,
      "outputs": [
        {
          "output_type": "execute_result",
          "data": {
            "text/plain": [
              "<tensorflow.python.training.tracking.util.CheckpointLoadStatus at 0x7f01b20b66a0>"
            ]
          },
          "metadata": {
            "tags": []
          },
          "execution_count": 33
        }
      ]
    },
    {
      "cell_type": "markdown",
      "metadata": {
        "id": "aeFXWu6RUY8g"
      },
      "source": [
        "- Note: In many training loops, variables are created after tf.train.Checkpoint.restore is called. \n",
        "- These variables will be restored as soon as they are created, and assertions are available to ensure that a checkpoint has been fully loaded"
      ]
    },
    {
      "cell_type": "markdown",
      "metadata": {
        "id": "kH6hdf-oIkDc"
      },
      "source": [
        "## Object-oriented metrics"
      ]
    },
    {
      "cell_type": "markdown",
      "metadata": {
        "id": "kdayX9b0UvWQ"
      },
      "source": [
        "- tf.keras.metrics are stored as objects. \n",
        "- Update a metric by passing the new data to the callable, and retrieve the result using the tf.keras.metrics.result method"
      ]
    },
    {
      "cell_type": "code",
      "metadata": {
        "id": "dLoHzJy7U0BG",
        "outputId": "5bbda5a6-33de-478e-ca4f-47a13902ebd8",
        "colab": {
          "base_uri": "https://localhost:8080/"
        }
      },
      "source": [
        "m = tf.keras.metrics.Mean('loss')\n",
        "m(6)\n",
        "print(m.result())\n",
        "m(7)\n",
        "print(m.result())\n",
        "m([8,9])\n",
        "print(m.result())"
      ],
      "execution_count": 34,
      "outputs": [
        {
          "output_type": "stream",
          "text": [
            "tf.Tensor(6.0, shape=(), dtype=float32)\n",
            "tf.Tensor(6.5, shape=(), dtype=float32)\n",
            "tf.Tensor(7.5, shape=(), dtype=float32)\n"
          ],
          "name": "stdout"
        }
      ]
    },
    {
      "cell_type": "markdown",
      "metadata": {
        "id": "0kXAYotAIqQP"
      },
      "source": [
        "## Summaries and TensorBoard"
      ]
    },
    {
      "cell_type": "markdown",
      "metadata": {
        "id": "tzd5vEsNXVpa"
      },
      "source": [
        "- TensorBoard is a visualization tool for understanding, debugging and optimizing the model training process. \n",
        "- It uses summary events that are written while executing the program.\n",
        "- You can use tf.summary to record summaries of variable in eager execution. \n",
        "- For example, to record summaries of loss once every 100 training steps:"
      ]
    },
    {
      "cell_type": "code",
      "metadata": {
        "id": "IMxEDQe0Yo4s"
      },
      "source": [
        "logdir = './tb/'\n",
        "writer = tf.summary.create_file_writer(logdir)\n",
        "\n",
        "steps = 100\n",
        "with writer.as_default():\n",
        "  for i in range(steps):\n",
        "    step = i + 1\n",
        "    loss = 1 - 0.01 * step\n",
        "    if step % 100 == 0:\n",
        "      tf.summary.scalar('loss', loss, step=step)"
      ],
      "execution_count": 35,
      "outputs": []
    },
    {
      "cell_type": "markdown",
      "metadata": {
        "id": "O3gk4aTgIvOQ"
      },
      "source": [
        "## Advanced automatic differentiation topics"
      ]
    },
    {
      "cell_type": "markdown",
      "metadata": {
        "id": "5uwzETVIIxf2"
      },
      "source": [
        "### Dynamic models"
      ]
    },
    {
      "cell_type": "markdown",
      "metadata": {
        "id": "D39kp969FHan"
      },
      "source": [
        "* tf.GradientTape can also be used in dynamic models. This example for a backtracking line search algorithm looks like normal NumPy code, except there are gradients and is differentiable, despite the complex control flow:"
      ]
    },
    {
      "cell_type": "code",
      "metadata": {
        "id": "ZynfaAHtGRGV"
      },
      "source": [
        "def line_search_step(fn, init_x, rate=1.0):\n",
        "  with tf.GradientTape() as tape:\n",
        "    # variables are automatically tracked\n",
        "    # but to calculate a gradient from a tensor, you must watch it\n",
        "    tape.watch(init_x)\n",
        "    value = fn(init_x)\n",
        "  grad = tape.gradient(value, init_x)\n",
        "  grad_norm = tf.reduce_sum(grad * grad)\n",
        "  init_value = value\n",
        "  while value > init_value - rate * grad_norm:\n",
        "    x = init_x - rate * grad\n",
        "    value = fn(x)\n",
        "    rate /= 2.0\n",
        "  return x, value"
      ],
      "execution_count": 36,
      "outputs": []
    },
    {
      "cell_type": "markdown",
      "metadata": {
        "id": "zz-U9MBtIy_K"
      },
      "source": [
        "### Custom gradients"
      ]
    },
    {
      "cell_type": "markdown",
      "metadata": {
        "id": "TXZznryMLL1b"
      },
      "source": [
        "* Custom gradients are an easy way to override gradients\n",
        "* Within the forward function, define the gradient with respect to the inputs, outputs, or intermediate results.\n",
        "* For example, here's an easy way to clip the norm of the gradients in the backward pass:"
      ]
    },
    {
      "cell_type": "code",
      "metadata": {
        "id": "hrCXS8bsjEna"
      },
      "source": [
        "@tf.custom_gradient\n",
        "def clip_gradient_by_norm(x, norm):\n",
        "  y = tf.identity(x)\n",
        "  def grad_fn(default):\n",
        "    return [tf.clip_by_norm(default, norm), None]\n",
        "  return y, grad_fn"
      ],
      "execution_count": 37,
      "outputs": []
    },
    {
      "cell_type": "markdown",
      "metadata": {
        "id": "tof_jXoJo71T"
      },
      "source": [
        "* Custom gradients are commonly used to provide a numerically stable gradient for a sequence of operations:"
      ]
    },
    {
      "cell_type": "code",
      "metadata": {
        "id": "UgmM0xJTpHrb"
      },
      "source": [
        "def log1pexp(x):\n",
        "  return tf.math.log(1 + tf.exp(x))\n",
        "\n",
        "\n",
        "def grad_log1pexp(x):\n",
        "  with tf.GradientTape() as tape:\n",
        "    tape.watch(x)\n",
        "    value = log1pexp(x)\n",
        "  return tape.gradient(value, x)"
      ],
      "execution_count": 38,
      "outputs": []
    },
    {
      "cell_type": "code",
      "metadata": {
        "id": "d1TD8svcqmFi",
        "outputId": "72b0dc98-1aaa-4bb0-e096-f984a21b486e",
        "colab": {
          "base_uri": "https://localhost:8080/"
        }
      },
      "source": [
        "grad_log1pexp(tf.constant(0.)).numpy()"
      ],
      "execution_count": 39,
      "outputs": [
        {
          "output_type": "execute_result",
          "data": {
            "text/plain": [
              "0.5"
            ]
          },
          "metadata": {
            "tags": []
          },
          "execution_count": 39
        }
      ]
    },
    {
      "cell_type": "code",
      "metadata": {
        "id": "Agf_XtiJr0KC",
        "outputId": "c979c833-a1bc-4815-cc8e-18ba8b71fdfa",
        "colab": {
          "base_uri": "https://localhost:8080/"
        }
      },
      "source": [
        "# However, x = 100 fails because of numerical instability.\n",
        "grad_log1pexp(tf.constant(100.)).numpy()"
      ],
      "execution_count": 40,
      "outputs": [
        {
          "output_type": "execute_result",
          "data": {
            "text/plain": [
              "nan"
            ]
          },
          "metadata": {
            "tags": []
          },
          "execution_count": 40
        }
      ]
    },
    {
      "cell_type": "markdown",
      "metadata": {
        "id": "XWDwGAR1r86t"
      },
      "source": [
        "* Here, the log1pexp function can be analytically simplified with a custom gradient. \n",
        "* The implementation below reuses the value for tf.exp(x) that is computed during the forward pass—making it more efficient by eliminating redundant calculations:\n"
      ]
    },
    {
      "cell_type": "code",
      "metadata": {
        "id": "7rg7jZ9ksCLL"
      },
      "source": [
        "@tf.custom_gradient\n",
        "def log1pexp(x):\n",
        "  e = tf.exp(x)\n",
        "  def grad(dy):\n",
        "    return dy * (1 - 1 / (1 + e))\n",
        "  return tf.math.log(1 + e), grad\n",
        "\n",
        "def grad_log1pexp(x):\n",
        "  with tf.GradientTape() as tape:\n",
        "    tape.watch(x)\n",
        "    value = log1pexp(x)\n",
        "  return tape.gradient(value, x)"
      ],
      "execution_count": 41,
      "outputs": []
    },
    {
      "cell_type": "code",
      "metadata": {
        "id": "vtPtjvQvtC8m",
        "outputId": "cbff9455-1733-438e-9dbe-488f95eff7c9",
        "colab": {
          "base_uri": "https://localhost:8080/"
        }
      },
      "source": [
        "# As before, the gradient computation works fine at x = 0.\n",
        "grad_log1pexp(tf.constant(0.)).numpy()"
      ],
      "execution_count": 42,
      "outputs": [
        {
          "output_type": "execute_result",
          "data": {
            "text/plain": [
              "0.5"
            ]
          },
          "metadata": {
            "tags": []
          },
          "execution_count": 42
        }
      ]
    },
    {
      "cell_type": "code",
      "metadata": {
        "id": "FSxkTHNBtFUH",
        "outputId": "027b2735-56f9-4c0e-ad43-a086dab2797b",
        "colab": {
          "base_uri": "https://localhost:8080/"
        }
      },
      "source": [
        "# And the gradient computation also works at x = 100.\n",
        "grad_log1pexp(tf.constant(100.)).numpy()"
      ],
      "execution_count": 43,
      "outputs": [
        {
          "output_type": "execute_result",
          "data": {
            "text/plain": [
              "1.0"
            ]
          },
          "metadata": {
            "tags": []
          },
          "execution_count": 43
        }
      ]
    },
    {
      "cell_type": "markdown",
      "metadata": {
        "id": "PIr51Pb7I1tK"
      },
      "source": [
        "## Performance"
      ]
    },
    {
      "cell_type": "markdown",
      "metadata": {
        "id": "tGYCbjAUW5hL"
      },
      "source": [
        "* Computation is automatically offloaded to GPUs during eager execution. \n",
        "* If you want control over where a computation runs you can enclose it in a tf.device('/gpu:0') block (or the CPU equivalent):"
      ]
    },
    {
      "cell_type": "code",
      "metadata": {
        "id": "rGXn09gTIumw",
        "outputId": "ec8abdc7-eec4-42c6-9c42-21b9d1bef732",
        "colab": {
          "base_uri": "https://localhost:8080/"
        }
      },
      "source": [
        "import time\n",
        "\n",
        "def measure(x, steps):\n",
        "  tf.matmul(x, x)\n",
        "  start = time.time()\n",
        "  for i in range(steps):\n",
        "    x = tf.matmul(x,x)\n",
        "  # tf.matmul can return before completing the matrix multiplication\n",
        "  # (e.g., can return after enqueing the operation on a CUDA stream).\n",
        "  # The x.numpy() call below will ensure that all enqueued operations\n",
        "  # have completed (and will also copy the result to host memory,\n",
        "  # so we're including a little more than just the matmul operation\n",
        "  # time).\n",
        "  _ = x.numpy()\n",
        "  end = time.time()\n",
        "  return end - start\n",
        "\n",
        "\n",
        "shape = (1000, 1000)\n",
        "steps = 200\n",
        "print(\"Time to multiply a {} matrix by itself {} times:\".format(shape, steps))\n",
        "\n",
        "# run on CPU\n",
        "with tf.device('/cpu:0'):\n",
        "  print(\"CPU: {} secs\".format(measure(tf.random.normal(shape), steps)))\n",
        "\n",
        "# run on gpu if available\n",
        "if tf.config.experimental.list_physical_devices('GPU'):\n",
        "  with tf.device('/gpu:0'):\n",
        "    print(\"GPU: {} secs\".format(measure(tf.random.normal(shape), steps)))\n",
        "else:\n",
        "  print(\"GPU: not found\")"
      ],
      "execution_count": 50,
      "outputs": [
        {
          "output_type": "stream",
          "text": [
            "Time to multiply a (1000, 1000) matrix by itself 200 times:\n",
            "CPU: 5.544374227523804 secs\n",
            "GPU: 0.163132905960083 secs\n"
          ],
          "name": "stdout"
        }
      ]
    },
    {
      "cell_type": "markdown",
      "metadata": {
        "id": "yp0OYWyzh4Q4"
      },
      "source": [
        "A tf.Tensor object can be copied to a different device to execute its operations:\n",
        "\n"
      ]
    },
    {
      "cell_type": "code",
      "metadata": {
        "id": "SLhAtlcZGeyy",
        "outputId": "5ecf7a87-9895-433a-fe61-eb7551002803",
        "colab": {
          "base_uri": "https://localhost:8080/"
        }
      },
      "source": [
        "  if tf.config.experimental.list_physical_devices('GPU'):\n",
        "    x = tf.random.normal([10, 10])\n",
        "\n",
        "    x_gpu = x.gpu()\n",
        "    x_cpu = x.cpu()\n",
        "\n",
        "    _ = tf.matmul(x_cpu, x_cpu)\n",
        "    _ = tf.matmul(x_gpu, x_gpu)\n"
      ],
      "execution_count": 53,
      "outputs": [
        {
          "output_type": "stream",
          "text": [
            "WARNING:tensorflow:From <ipython-input-53-f012399ce0dc>:4: _EagerTensorBase.gpu (from tensorflow.python.framework.ops) is deprecated and will be removed in a future version.\n",
            "Instructions for updating:\n",
            "Use tf.identity instead.\n",
            "WARNING:tensorflow:From <ipython-input-53-f012399ce0dc>:5: _EagerTensorBase.cpu (from tensorflow.python.framework.ops) is deprecated and will be removed in a future version.\n",
            "Instructions for updating:\n",
            "Use tf.identity instead.\n"
          ],
          "name": "stdout"
        }
      ]
    },
    {
      "cell_type": "markdown",
      "metadata": {
        "id": "KCySpi6liyBS"
      },
      "source": [
        "### Benchmarks"
      ]
    },
    {
      "cell_type": "markdown",
      "metadata": {
        "id": "sGowJKo9i0kG"
      },
      "source": [
        "* For compute-heavy models, such as ResNet50 training on a GPU, eager execution performance is comparable to tf.function execution. \n",
        "* But this gap grows larger for models with less computation and there is work to be done for optimizing hot code paths for models with lots of small operations."
      ]
    },
    {
      "cell_type": "markdown",
      "metadata": {
        "id": "wc6zAV6tjMko"
      },
      "source": [
        "## Work with functions"
      ]
    },
    {
      "cell_type": "markdown",
      "metadata": {
        "id": "sFT4Snl5jLC9"
      },
      "source": [
        "* While eager execution makes development and debugging more interactive, TensorFlow 1.x style graph execution has advantages for distributed training, performance optimizations, and production deployment. \n",
        "* To bridge this gap, TensorFlow 2.0 introduces functions via the tf.function API. For more information, see the tf.function guide."
      ]
    },
    {
      "cell_type": "code",
      "metadata": {
        "id": "8JFwj3FZi0KU"
      },
      "source": [
        ""
      ],
      "execution_count": null,
      "outputs": []
    }
  ]
}